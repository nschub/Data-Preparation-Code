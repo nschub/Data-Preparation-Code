{
 "cells": [
  {
   "cell_type": "code",
   "id": "485f0014-f143-448c-b6e7-1b4fb8afab03",
   "metadata": {
    "ExecuteTime": {
     "end_time": "2024-07-28T13:28:09.325156Z",
     "start_time": "2024-07-28T13:28:07.204839Z"
    }
   },
   "source": [
    "import pandas as pd\n",
    "import numpy as np\n",
    "import re\n",
    "from IPython.display import display"
   ],
   "outputs": [],
   "execution_count": 2
  },
  {
   "cell_type": "markdown",
   "id": "91978ddc-388d-45e5-9ccf-a00ed7c2402e",
   "metadata": {},
   "source": [
    "## FT CS DATA PREP"
   ]
  },
  {
   "cell_type": "code",
   "execution_count": 1,
   "id": "f994b2ac7dd98dba",
   "metadata": {
    "ExecuteTime": {
     "end_time": "2024-05-06T11:15:16.223144Z",
     "start_time": "2024-05-06T11:15:16.214864Z"
    }
   },
   "outputs": [
    {
     "data": {
      "text/plain": [
       "2"
      ]
     },
     "execution_count": 1,
     "metadata": {},
     "output_type": "execute_result"
    }
   ],
   "source": []
  },
  {
   "cell_type": "markdown",
   "id": "0eb3e002-c7cd-4a64-9565-123f1c1226eb",
   "metadata": {},
   "source": [
    "#### import and merge data"
   ]
  },
  {
   "cell_type": "code",
   "id": "65922813-aad9-4460-8100-945ced0186c7",
   "metadata": {
    "ExecuteTime": {
     "end_time": "2024-07-28T13:28:13.269206Z",
     "start_time": "2024-07-28T13:28:12.346093Z"
    }
   },
   "source": [
    "# import nzz cs data\n",
    "\n",
    "file_paths = [\n",
    "    \"Data/FT/FT_data_CS_batch1.csv\",\n",
    "    \"Data/FT/FT_data_CS_batch2.csv\",\n",
    "    \"Data/FT/FT_data_CS_batch3.csv\",\n",
    "    \"Data/FT/FT_data_CS_batch4.csv\"\n",
    "]\n",
    "\n",
    "# List to store DataFrames\n",
    "dfs = []\n",
    "\n",
    "# Read each CSV file into a DataFrame and append to the list\n",
    "for file_path in file_paths:\n",
    "    df = pd.read_csv(file_path)\n",
    "    dfs.append(df)\n",
    "\n",
    "# Concatenate all DataFrames into a single DataFrame\n",
    "ft_data_CS_merged = pd.concat(dfs, ignore_index=True)"
   ],
   "outputs": [],
   "execution_count": 3
  },
  {
   "cell_type": "code",
   "id": "21b320bc-1e0c-4b30-a329-fb1cb59fdb31",
   "metadata": {
    "ExecuteTime": {
     "end_time": "2024-07-28T13:28:15.593251Z",
     "start_time": "2024-07-28T13:28:15.572753Z"
    }
   },
   "source": [
    "len(ft_data_CS_merged)"
   ],
   "outputs": [
    {
     "data": {
      "text/plain": [
       "3051"
      ]
     },
     "execution_count": 4,
     "metadata": {},
     "output_type": "execute_result"
    }
   ],
   "execution_count": 4
  },
  {
   "cell_type": "code",
   "id": "173cc137-a18c-4d4d-aa7b-df835e765b64",
   "metadata": {
    "ExecuteTime": {
     "end_time": "2024-07-28T13:54:40.748886Z",
     "start_time": "2024-07-28T13:54:40.733192Z"
    }
   },
   "source": [
    "ft_data_CS_merged.head()"
   ],
   "outputs": [
    {
     "data": {
      "text/plain": [
       "                                       article_title  \\\n",
       "0  UBS chief Ermotti hints at keeping Credit Suis...   \n",
       "1  Credit Suisse’s lawsuit against SoftBank throw...   \n",
       "2  UBS sets ‘red lines’ for Credit Suisse staff a...   \n",
       "3  UBS considers delaying results after Credit Su...   \n",
       "4  UBS prioritises Credit Suisse investment bank ...   \n",
       "\n",
       "                                            headline  \\\n",
       "0  Shotgun marriage between lenders has attracted...   \n",
       "1  Japanese conglomerate is client of Swiss bank ...   \n",
       "2  Diktat is designed to reduce risks of the tran...   \n",
       "3  Pushing second-quarter results until the end o...   \n",
       "4  Decision on Swiss domestic unit expected withi...   \n",
       "\n",
       "                                     article_content   text_date  \n",
       "0  UBS chief executive Sergio Ermotti has given t...  17.06.2023  \n",
       "1  Credit Suisse’s London High Court lawsuit agai...  21.06.2023  \n",
       "2  UBS has imposed tight restrictions on Credit S...  12.06.2023  \n",
       "3  UBS is considering delaying its second-quarter...  04.06.2023  \n",
       "4  UBS has prioritised integrating Credit Suisse’...  12.05.2023  "
      ],
      "text/html": [
       "<div>\n",
       "<style scoped>\n",
       "    .dataframe tbody tr th:only-of-type {\n",
       "        vertical-align: middle;\n",
       "    }\n",
       "\n",
       "    .dataframe tbody tr th {\n",
       "        vertical-align: top;\n",
       "    }\n",
       "\n",
       "    .dataframe thead th {\n",
       "        text-align: right;\n",
       "    }\n",
       "</style>\n",
       "<table border=\"1\" class=\"dataframe\">\n",
       "  <thead>\n",
       "    <tr style=\"text-align: right;\">\n",
       "      <th></th>\n",
       "      <th>article_title</th>\n",
       "      <th>headline</th>\n",
       "      <th>article_content</th>\n",
       "      <th>text_date</th>\n",
       "    </tr>\n",
       "  </thead>\n",
       "  <tbody>\n",
       "    <tr>\n",
       "      <th>0</th>\n",
       "      <td>UBS chief Ermotti hints at keeping Credit Suis...</td>\n",
       "      <td>Shotgun marriage between lenders has attracted...</td>\n",
       "      <td>UBS chief executive Sergio Ermotti has given t...</td>\n",
       "      <td>17.06.2023</td>\n",
       "    </tr>\n",
       "    <tr>\n",
       "      <th>1</th>\n",
       "      <td>Credit Suisse’s lawsuit against SoftBank throw...</td>\n",
       "      <td>Japanese conglomerate is client of Swiss bank ...</td>\n",
       "      <td>Credit Suisse’s London High Court lawsuit agai...</td>\n",
       "      <td>21.06.2023</td>\n",
       "    </tr>\n",
       "    <tr>\n",
       "      <th>2</th>\n",
       "      <td>UBS sets ‘red lines’ for Credit Suisse staff a...</td>\n",
       "      <td>Diktat is designed to reduce risks of the tran...</td>\n",
       "      <td>UBS has imposed tight restrictions on Credit S...</td>\n",
       "      <td>12.06.2023</td>\n",
       "    </tr>\n",
       "    <tr>\n",
       "      <th>3</th>\n",
       "      <td>UBS considers delaying results after Credit Su...</td>\n",
       "      <td>Pushing second-quarter results until the end o...</td>\n",
       "      <td>UBS is considering delaying its second-quarter...</td>\n",
       "      <td>04.06.2023</td>\n",
       "    </tr>\n",
       "    <tr>\n",
       "      <th>4</th>\n",
       "      <td>UBS prioritises Credit Suisse investment bank ...</td>\n",
       "      <td>Decision on Swiss domestic unit expected withi...</td>\n",
       "      <td>UBS has prioritised integrating Credit Suisse’...</td>\n",
       "      <td>12.05.2023</td>\n",
       "    </tr>\n",
       "  </tbody>\n",
       "</table>\n",
       "</div>"
      ]
     },
     "execution_count": 5,
     "metadata": {},
     "output_type": "execute_result"
    }
   ],
   "execution_count": 5
  },
  {
   "cell_type": "markdown",
   "id": "bced84d6-9210-4ff7-bcf3-a7777f8477a4",
   "metadata": {},
   "source": [
    "#### remove duplicates"
   ]
  },
  {
   "cell_type": "code",
   "id": "afc19007-e99c-496a-85df-6e44a1945699",
   "metadata": {
    "ExecuteTime": {
     "end_time": "2024-07-28T13:54:43.438088Z",
     "start_time": "2024-07-28T13:54:43.318705Z"
    }
   },
   "source": [
    "# Check for duplicates in the merged DataFrame, keeping all occurrences\n",
    "all_occurrences_indices = ft_data_CS_merged[ft_data_CS_merged.duplicated(keep=False)].index\n",
    "\n",
    "# Display the indices of all occurrences of duplicate rows\n",
    "print(\"Indices of All Occurrences of Duplicate Rows:\")\n",
    "print(all_occurrences_indices)"
   ],
   "outputs": [
    {
     "name": "stdout",
     "output_type": "stream",
     "text": [
      "Indices of All Occurrences of Duplicate Rows:\n",
      "Index([], dtype='int64')\n"
     ]
    }
   ],
   "execution_count": 6
  },
  {
   "cell_type": "code",
   "id": "05c28874-1457-43be-b94c-cb041b6802f7",
   "metadata": {
    "ExecuteTime": {
     "end_time": "2024-07-28T13:54:46.510956Z",
     "start_time": "2024-07-28T13:54:46.493741Z"
    }
   },
   "source": [
    "duplicate_indices_specific_columns = ft_data_CS_merged[ft_data_CS_merged.duplicated(subset=['article_content'], keep=False)].index\n",
    "print(\"Indices of Duplicate Rows Based on Specific Columns:\")\n",
    "print(duplicate_indices_specific_columns)"
   ],
   "outputs": [
    {
     "name": "stdout",
     "output_type": "stream",
     "text": [
      "Indices of Duplicate Rows Based on Specific Columns:\n",
      "Index([], dtype='int64')\n"
     ]
    }
   ],
   "execution_count": 7
  },
  {
   "cell_type": "code",
   "execution_count": 100,
   "id": "9ab52f02-3a93-4773-a56a-537290dd59b2",
   "metadata": {},
   "outputs": [],
   "source": [
    "# Remove duplicate rows based on specific columns --> No duplicates found\n",
    "#ft_data_CS_merged_no_dups = ft_data_CS_merged.drop_duplicates(subset=['article_content'], keep='first')"
   ]
  },
  {
   "cell_type": "code",
   "execution_count": null,
   "id": "64dd5646-254e-4048-bdee-c065a32a0bf9",
   "metadata": {},
   "outputs": [],
   "source": []
  },
  {
   "cell_type": "code",
   "execution_count": 39,
   "id": "edebdf16-7ff9-4be4-8da8-b36ee989f959",
   "metadata": {},
   "outputs": [],
   "source": [
    "#nzz_data_CS_merged.loc[126, \"article_content\"]"
   ]
  },
  {
   "cell_type": "markdown",
   "id": "428c2b64-85ed-4c0c-ae4f-06c5ab2eb5bc",
   "metadata": {},
   "source": [
    "#### Filter by date"
   ]
  },
  {
   "cell_type": "code",
   "id": "bb81260c-1d0f-4280-bce2-d9baecfdae2f",
   "metadata": {
    "ExecuteTime": {
     "end_time": "2024-07-28T13:54:54.546823Z",
     "start_time": "2024-07-28T13:54:54.530357Z"
    }
   },
   "source": [
    "# Create a copy of the DataFrames\n",
    "ft_data_CS_merged_copy = ft_data_CS_merged.copy()\n",
    "\n",
    "# Convert 'text_date' column to datetime type, considering timezone information\n",
    "ft_data_CS_merged_copy['text_date'] = pd.to_datetime(ft_data_CS_merged_copy['text_date'], utc=True, format='%d.%m.%Y', errors='coerce')\n",
    "\n",
    "# Define the start and end dates of the desired range\n",
    "start_date = pd.Timestamp('2019-01-01', tz='UTC')\n",
    "end_date = pd.Timestamp('2023-06-30', tz='UTC')\n",
    "\n",
    "# Filter the DataFrame to include only articles within the specified date range\n",
    "filtered_df_ft_cs = ft_data_CS_merged_copy[(ft_data_CS_merged_copy['text_date'] >= start_date) & (ft_data_CS_merged_copy['text_date'] <= end_date)]"
   ],
   "outputs": [],
   "execution_count": 8
  },
  {
   "cell_type": "markdown",
   "id": "74503be0-aaaa-412b-b7f3-11b47c089af2",
   "metadata": {},
   "source": [
    "#### check if other variants of Credit Suisse are in the articles."
   ]
  },
  {
   "cell_type": "code",
   "execution_count": 28,
   "id": "7ba8955e-ef68-481e-90df-9a3aa520faaa",
   "metadata": {},
   "outputs": [],
   "source": [
    "#filtered_df_ft_cs_copy = filtered_df_ft_cs.copy()\n",
    "\n",
    "# Create a boolean Series where each element is True if the corresponding article contains 'credit suisse' or 'CREDIT SUISSE'\n",
    "\n",
    "#contains_lower = filtered_df_ft_cs_copy['article_content'].str.contains('Credit Suisse', case=True)\n",
    "#contains_upper = filtered_df_ft_cs_copy['article_content'].str.contains('Credit_Suisse', case=True)\n",
    "\n",
    "# Combine the two Series using the bitwise OR operator\n",
    "\n",
    "#contains_either = contains_lower | contains_upper\n",
    "\n",
    "# Check if any articles contain 'credit suisse' or 'CREDIT SUISSE'\n",
    "\n",
    "#any_contains_either = contains_either.any()\n",
    "\n",
    "#print(f\"Any articles contain 'credit suisse' or 'CREDIT SUISSE'? {any_contains_either}\")\n",
    "\n",
    "#num_contains_either = contains_either.sum()\n",
    "\n",
    "#print(f\"Number of articles that contain 'credit suisse' or 'CREDIT SUISSE': {num_contains_either}\")"
   ]
  },
  {
   "cell_type": "markdown",
   "id": "5e9f3da5-a2dd-4675-b2e7-2b146e883569",
   "metadata": {},
   "source": [
    "#### Filter by relevancy"
   ]
  },
  {
   "cell_type": "markdown",
   "id": "d73754ae-a86f-4ac9-ad67-4e125e506025",
   "metadata": {},
   "source": [
    "##### old code to filter by relevancy"
   ]
  },
  {
   "cell_type": "code",
   "execution_count": 51,
   "id": "5bc1f1f6-61ea-4cd3-a845-6c117f8a1863",
   "metadata": {},
   "outputs": [],
   "source": [
    "# Create a copy of the filtered DataFrame\n",
    "#filtered_df_ft_cs_copy = filtered_df_ft_cs.copy()\n",
    "\n",
    "# Count the occurrences of the phrases 'Credit Suisse' and 'CS' in each article's content in the copied DataFrame\n",
    "#filtered_df_ft_cs_copy['credit_suisse_count'] = filtered_df_ft_cs_copy['article_content'].str.count('Credit Suisse')\n",
    "\n",
    "#def count_cs(text):\n",
    "#    return len(re.findall(r'CS(?![a-zA-Z])', text))\n",
    "\n",
    "#filtered_df_ft_cs_copy['cs_count'] = filtered_df_ft_cs_copy['article_content'].apply(count_cs)\n",
    "\n",
    "# Filter articles based on multiple conditions\n",
    "#ft_credit_suisse_articles_pre = filtered_df_ft_cs_copy[\n",
    "#    (filtered_df_ft_cs_copy['credit_suisse_count'] >= 2) |\n",
    "#    (filtered_df_ft_cs_copy['cs_count'] >= 2) |\n",
    "#    ((filtered_df_ft_cs_copy['credit_suisse_count'] >= 1) & (filtered_df_ft_cs_copy['cs_count'] >= 1))\n",
    "#]\n"
   ]
  },
  {
   "cell_type": "code",
   "id": "dc99857c-4311-47cc-9677-cc0d161e8252",
   "metadata": {
    "ExecuteTime": {
     "end_time": "2024-07-28T13:55:00.502831Z",
     "start_time": "2024-07-28T13:55:00.404403Z"
    }
   },
   "source": [
    "print(len(filtered_df_ft_cs))\n",
    "len(ft_credit_suisse_articles_pre)"
   ],
   "outputs": [
    {
     "name": "stdout",
     "output_type": "stream",
     "text": [
      "3051\n"
     ]
    },
    {
     "ename": "NameError",
     "evalue": "name 'ft_credit_suisse_articles_pre' is not defined",
     "output_type": "error",
     "traceback": [
      "\u001B[1;31m---------------------------------------------------------------------------\u001B[0m",
      "\u001B[1;31mNameError\u001B[0m                                 Traceback (most recent call last)",
      "Cell \u001B[1;32mIn[9], line 2\u001B[0m\n\u001B[0;32m      1\u001B[0m \u001B[38;5;28mprint\u001B[39m(\u001B[38;5;28mlen\u001B[39m(filtered_df_ft_cs))\n\u001B[1;32m----> 2\u001B[0m \u001B[38;5;28mlen\u001B[39m(\u001B[43mft_credit_suisse_articles_pre\u001B[49m)\n",
      "\u001B[1;31mNameError\u001B[0m: name 'ft_credit_suisse_articles_pre' is not defined"
     ]
    }
   ],
   "execution_count": 9
  },
  {
   "cell_type": "markdown",
   "id": "69ca05ee-41b3-4301-af5e-f704c6e6d8c9",
   "metadata": {},
   "source": [
    "##### new code to filter by relevancy"
   ]
  },
  {
   "cell_type": "code",
   "id": "7be6a400-9d98-4cc4-a329-eb92d6e19bb7",
   "metadata": {
    "ExecuteTime": {
     "end_time": "2024-07-28T13:55:12.341259Z",
     "start_time": "2024-07-28T13:55:10.596094Z"
    }
   },
   "source": [
    "# Create a copy of the filtered DataFrame\n",
    "filtered_df_ft_cs_copy = filtered_df_ft_cs.copy()\n",
    "\n",
    "# Count the occurrences of the phrases 'Credit Suisse' and 'CS' in each article's content in the copied DataFrame\n",
    "def count_credit_suisse(text):\n",
    "    return len(re.findall(r'credit\\s*suisse', text, re.IGNORECASE))\n",
    "    \n",
    "filtered_df_ft_cs_copy['credit_suisse_count'] = filtered_df_ft_cs_copy['article_content'].apply(count_credit_suisse)\n",
    "\n",
    "def count_cs(text):\n",
    "    return len(re.findall(r'(?<![a-zA-Z])CS(?![a-zA-Z])', text))\n",
    "\n",
    "filtered_df_ft_cs_copy['cs_count'] = filtered_df_ft_cs_copy['article_content'].apply(count_cs)\n",
    "\n",
    "# Filter articles based on multiple conditions\n",
    "ft_credit_suisse_articles = filtered_df_ft_cs_copy[\n",
    "    (filtered_df_ft_cs_copy['credit_suisse_count'] >= 2) |\n",
    "    (filtered_df_ft_cs_copy['cs_count'] >= 2) |\n",
    "    ((filtered_df_ft_cs_copy['credit_suisse_count'] >= 1) & (filtered_df_ft_cs_copy['cs_count'] >= 1))\n",
    "]"
   ],
   "outputs": [],
   "execution_count": 10
  },
  {
   "cell_type": "code",
   "id": "72a47987-5c17-43aa-9c6b-b026b5ccd2d5",
   "metadata": {
    "ExecuteTime": {
     "end_time": "2024-07-28T13:55:13.871121Z",
     "start_time": "2024-07-28T13:55:13.857240Z"
    }
   },
   "source": [
    "print(len(filtered_df_ft_cs))\n",
    "len(ft_credit_suisse_articles)"
   ],
   "outputs": [
    {
     "name": "stdout",
     "output_type": "stream",
     "text": [
      "3051\n"
     ]
    },
    {
     "data": {
      "text/plain": [
       "1291"
      ]
     },
     "execution_count": 11,
     "metadata": {},
     "output_type": "execute_result"
    }
   ],
   "execution_count": 11
  },
  {
   "cell_type": "markdown",
   "id": "1231221a-6c2e-4d1b-acef-1a158cac9192",
   "metadata": {},
   "source": [
    "##### get the differences"
   ]
  },
  {
   "cell_type": "code",
   "id": "fb162b39-c27d-4961-800b-858ba3f5a581",
   "metadata": {
    "ExecuteTime": {
     "end_time": "2024-07-28T13:55:21.884381Z",
     "start_time": "2024-07-28T13:55:21.864078Z"
    }
   },
   "source": [
    "# Get the titles of the articles in ft_credit_suisse_articles_pre that are not in ft_credit_suisse_articles_after\n",
    "missing_titles = ft_credit_suisse_articles_pre[~ft_credit_suisse_articles_pre['article_title'].isin(ft_credit_suisse_articles_after['article_title'])]['article_title']\n",
    "\n",
    "print(missing_titles)"
   ],
   "outputs": [
    {
     "ename": "NameError",
     "evalue": "name 'ft_credit_suisse_articles_pre' is not defined",
     "output_type": "error",
     "traceback": [
      "\u001B[1;31m---------------------------------------------------------------------------\u001B[0m",
      "\u001B[1;31mNameError\u001B[0m                                 Traceback (most recent call last)",
      "Cell \u001B[1;32mIn[12], line 2\u001B[0m\n\u001B[0;32m      1\u001B[0m \u001B[38;5;66;03m# Get the titles of the articles in ft_credit_suisse_articles_pre that are not in ft_credit_suisse_articles_after\u001B[39;00m\n\u001B[1;32m----> 2\u001B[0m missing_titles \u001B[38;5;241m=\u001B[39m \u001B[43mft_credit_suisse_articles_pre\u001B[49m[\u001B[38;5;241m~\u001B[39mft_credit_suisse_articles_pre[\u001B[38;5;124m'\u001B[39m\u001B[38;5;124marticle_title\u001B[39m\u001B[38;5;124m'\u001B[39m]\u001B[38;5;241m.\u001B[39misin(ft_credit_suisse_articles_after[\u001B[38;5;124m'\u001B[39m\u001B[38;5;124marticle_title\u001B[39m\u001B[38;5;124m'\u001B[39m])][\u001B[38;5;124m'\u001B[39m\u001B[38;5;124marticle_title\u001B[39m\u001B[38;5;124m'\u001B[39m]\n\u001B[0;32m      4\u001B[0m \u001B[38;5;28mprint\u001B[39m(missing_titles)\n",
      "\u001B[1;31mNameError\u001B[0m: name 'ft_credit_suisse_articles_pre' is not defined"
     ]
    }
   ],
   "execution_count": 12
  },
  {
   "cell_type": "code",
   "execution_count": 15,
   "id": "51cb8a19-d0df-448e-9bba-efb30341f5ba",
   "metadata": {},
   "outputs": [],
   "source": [
    "# Export the unfiltered DataFrame to a CSV file\n",
    "#filtered_df_ft_cs_copy.to_csv('ft_cs_unfiltered.csv', index=False)"
   ]
  },
  {
   "cell_type": "markdown",
   "id": "74f63bcf-159c-4f96-b112-65761327f691",
   "metadata": {},
   "source": [
    "#### Calculate word count"
   ]
  },
  {
   "cell_type": "code",
   "id": "5d98a92c-8d3a-4c12-b859-0e64d79477a3",
   "metadata": {
    "ExecuteTime": {
     "end_time": "2024-07-28T13:55:39.636318Z",
     "start_time": "2024-07-28T13:55:39.495592Z"
    }
   },
   "source": [
    "# Calculate the word count for each article in the credit_suisse_articles DataFrame\n",
    "ft_credit_suisse_articles.loc[:, 'word_count'] = ft_credit_suisse_articles['article_content'].str.split().apply(len)"
   ],
   "outputs": [],
   "execution_count": 14
  },
  {
   "cell_type": "markdown",
   "id": "e369c478-910d-4fe9-8db5-1a2421d33326",
   "metadata": {},
   "source": [
    "#### Exclude certain types of articles"
   ]
  },
  {
   "cell_type": "code",
   "id": "ece70805-f752-4e9a-91f5-0c2efc62c156",
   "metadata": {
    "ExecuteTime": {
     "end_time": "2024-07-28T13:55:43.090637Z",
     "start_time": "2024-07-28T13:55:43.079350Z"
    }
   },
   "source": [
    "# List of prefixes to exclude\n",
    "exclude_prefixes = [\n",
    "    \"Episode\",\n",
    "    \"FirstFT\",\n",
    "    \"Markets not live\",\n",
    "    \"Markets Now\",\n",
    "    \"Opening Quote:\",\n",
    "    \"Stocks to watch:\"\n",
    "]\n",
    "\n",
    "# Filter the DataFrame to exclude articles with titles starting with specified prefixes\n",
    "filtered_prefixes_df = ft_credit_suisse_articles[~ft_credit_suisse_articles['article_title'].str.startswith(tuple(exclude_prefixes))]\n"
   ],
   "outputs": [],
   "execution_count": 15
  },
  {
   "cell_type": "code",
   "id": "0800edf9-0f06-42f3-9fa0-cf4b13d12128",
   "metadata": {
    "ExecuteTime": {
     "end_time": "2024-07-28T13:55:46.537267Z",
     "start_time": "2024-07-28T13:55:46.532722Z"
    }
   },
   "source": [
    "len(filtered_prefixes_df)"
   ],
   "outputs": [
    {
     "data": {
      "text/plain": [
       "1156"
      ]
     },
     "execution_count": 16,
     "metadata": {},
     "output_type": "execute_result"
    }
   ],
   "execution_count": 16
  },
  {
   "cell_type": "markdown",
   "id": "a2101d42-ced3-42f2-9d9b-4b6aba504b1b",
   "metadata": {},
   "source": [
    "#### remove over 5000 k words, sort and export"
   ]
  },
  {
   "cell_type": "code",
   "id": "2b0e5e74-3bd4-4a48-bdef-05ca55dcb770",
   "metadata": {
    "ExecuteTime": {
     "end_time": "2024-07-28T13:55:52.653050Z",
     "start_time": "2024-07-28T13:55:52.641469Z"
    }
   },
   "source": [
    "# Sort the articles by date in ascending order\n",
    "ft_credit_suisse_articles_sorted = filtered_prefixes_df.sort_values(by='text_date')"
   ],
   "outputs": [],
   "execution_count": 17
  },
  {
   "cell_type": "code",
   "id": "fa9b3a76-1387-4ec4-a4bb-b8d6a109620d",
   "metadata": {
    "ExecuteTime": {
     "end_time": "2024-07-28T13:56:01.766853Z",
     "start_time": "2024-07-28T13:56:01.757395Z"
    }
   },
   "source": [
    "# remove over 5k words\n",
    "# Filter out articles with a word count higher than 5000\n",
    "ft_credit_suisse_articles_sorted = ft_credit_suisse_articles_sorted[ft_credit_suisse_articles_sorted['word_count'] <= 5000]"
   ],
   "outputs": [],
   "execution_count": 18
  },
  {
   "cell_type": "code",
   "id": "12c42f08-40dd-4135-865e-3f6dc9976069",
   "metadata": {
    "ExecuteTime": {
     "end_time": "2024-07-28T13:56:03.285539Z",
     "start_time": "2024-07-28T13:56:03.277699Z"
    }
   },
   "source": [
    "print(len(ft_credit_suisse_articles_sorted))\n",
    "len(ft_credit_suisse_articles)"
   ],
   "outputs": [
    {
     "name": "stdout",
     "output_type": "stream",
     "text": [
      "1155\n"
     ]
    },
    {
     "data": {
      "text/plain": [
       "1291"
      ]
     },
     "execution_count": 19,
     "metadata": {},
     "output_type": "execute_result"
    }
   ],
   "execution_count": 19
  },
  {
   "cell_type": "code",
   "execution_count": 69,
   "id": "9ec470bc-cfd3-48da-8408-fa736394ffa0",
   "metadata": {},
   "outputs": [
    {
     "data": {
      "text/plain": [
       "Index(['article_title', 'headline', 'article_content', 'text_date',\n",
       "       'credit_suisse_count', 'cs_count', 'word_count'],\n",
       "      dtype='object')"
      ]
     },
     "execution_count": 69,
     "metadata": {},
     "output_type": "execute_result"
    }
   ],
   "source": [
    "# change column name of article content to article_content if necessary (einheitlich machen across alle dfs) \n",
    "ft_credit_suisse_articles_sorted.columns\n"
   ]
  },
  {
   "cell_type": "code",
   "execution_count": 70,
   "id": "c030a77b-8311-4700-ba9a-c6b341b01883",
   "metadata": {},
   "outputs": [],
   "source": [
    "# Export the sorted DataFrame to a CSV file\n",
    "ft_credit_suisse_articles_sorted.to_csv('Prepped_Data/CS_FT_prepped.csv', index=False)"
   ]
  },
  {
   "cell_type": "code",
   "execution_count": 71,
   "id": "9cc20ed9-f52d-47ef-864d-47616cd4d047",
   "metadata": {},
   "outputs": [
    {
     "data": {
      "text/html": [
       "<div>\n",
       "<style scoped>\n",
       "    .dataframe tbody tr th:only-of-type {\n",
       "        vertical-align: middle;\n",
       "    }\n",
       "\n",
       "    .dataframe tbody tr th {\n",
       "        vertical-align: top;\n",
       "    }\n",
       "\n",
       "    .dataframe thead th {\n",
       "        text-align: right;\n",
       "    }\n",
       "</style>\n",
       "<table border=\"1\" class=\"dataframe\">\n",
       "  <thead>\n",
       "    <tr style=\"text-align: right;\">\n",
       "      <th></th>\n",
       "      <th>article_title</th>\n",
       "      <th>headline</th>\n",
       "      <th>article_content</th>\n",
       "      <th>text_date</th>\n",
       "      <th>credit_suisse_count</th>\n",
       "      <th>cs_count</th>\n",
       "      <th>word_count</th>\n",
       "    </tr>\n",
       "  </thead>\n",
       "  <tbody>\n",
       "    <tr>\n",
       "      <th>2691</th>\n",
       "      <td>Credit Suisse escapes harsh criticism on ‘tuna...</td>\n",
       "      <td>US prosecutors seem to take sympathetic view o...</td>\n",
       "      <td>The arrest of three former Credit Suisse banke...</td>\n",
       "      <td>2019-01-04 00:00:00+00:00</td>\n",
       "      <td>11</td>\n",
       "      <td>0</td>\n",
       "      <td>696</td>\n",
       "    </tr>\n",
       "    <tr>\n",
       "      <th>2677</th>\n",
       "      <td>Ex-Credit Suisse bankers charged over $2bn Moz...</td>\n",
       "      <td>Country’s one-time finance minister also arres...</td>\n",
       "      <td>Three former Credit Suisse bankers have been c...</td>\n",
       "      <td>2019-01-04 00:00:00+00:00</td>\n",
       "      <td>7</td>\n",
       "      <td>0</td>\n",
       "      <td>719</td>\n",
       "    </tr>\n",
       "    <tr>\n",
       "      <th>2635</th>\n",
       "      <td>Tuna bond scandal may spell more trouble for C...</td>\n",
       "      <td>Prosecutors could yet conclude that the bank p...</td>\n",
       "      <td>© Bloomberg When the US Department of Justice ...</td>\n",
       "      <td>2019-01-08 00:00:00+00:00</td>\n",
       "      <td>9</td>\n",
       "      <td>1</td>\n",
       "      <td>631</td>\n",
       "    </tr>\n",
       "    <tr>\n",
       "      <th>2917</th>\n",
       "      <td>Swiss plans for whistleblowers fall short, cri...</td>\n",
       "      <td>Staff who report wrongdoing risk losing their ...</td>\n",
       "      <td>Swiss government plans to update laws on whist...</td>\n",
       "      <td>2019-01-08 00:00:00+00:00</td>\n",
       "      <td>2</td>\n",
       "      <td>0</td>\n",
       "      <td>660</td>\n",
       "    </tr>\n",
       "    <tr>\n",
       "      <th>2928</th>\n",
       "      <td>Opinion today: Why the world economy feels so ...</td>\n",
       "      <td>Mild slowdown is to be expected given how long...</td>\n",
       "      <td>This article is from today’s FT Opinion email....</td>\n",
       "      <td>2019-01-09 00:00:00+00:00</td>\n",
       "      <td>2</td>\n",
       "      <td>0</td>\n",
       "      <td>872</td>\n",
       "    </tr>\n",
       "  </tbody>\n",
       "</table>\n",
       "</div>"
      ],
      "text/plain": [
       "                                          article_title  \\\n",
       "2691  Credit Suisse escapes harsh criticism on ‘tuna...   \n",
       "2677  Ex-Credit Suisse bankers charged over $2bn Moz...   \n",
       "2635  Tuna bond scandal may spell more trouble for C...   \n",
       "2917  Swiss plans for whistleblowers fall short, cri...   \n",
       "2928  Opinion today: Why the world economy feels so ...   \n",
       "\n",
       "                                               headline  \\\n",
       "2691  US prosecutors seem to take sympathetic view o...   \n",
       "2677  Country’s one-time finance minister also arres...   \n",
       "2635  Prosecutors could yet conclude that the bank p...   \n",
       "2917  Staff who report wrongdoing risk losing their ...   \n",
       "2928  Mild slowdown is to be expected given how long...   \n",
       "\n",
       "                                        article_content  \\\n",
       "2691  The arrest of three former Credit Suisse banke...   \n",
       "2677  Three former Credit Suisse bankers have been c...   \n",
       "2635  © Bloomberg When the US Department of Justice ...   \n",
       "2917  Swiss government plans to update laws on whist...   \n",
       "2928  This article is from today’s FT Opinion email....   \n",
       "\n",
       "                     text_date  credit_suisse_count  cs_count  word_count  \n",
       "2691 2019-01-04 00:00:00+00:00                   11         0         696  \n",
       "2677 2019-01-04 00:00:00+00:00                    7         0         719  \n",
       "2635 2019-01-08 00:00:00+00:00                    9         1         631  \n",
       "2917 2019-01-08 00:00:00+00:00                    2         0         660  \n",
       "2928 2019-01-09 00:00:00+00:00                    2         0         872  "
      ]
     },
     "execution_count": 71,
     "metadata": {},
     "output_type": "execute_result"
    }
   ],
   "source": [
    "ft_credit_suisse_articles_sorted.head()"
   ]
  },
  {
   "cell_type": "code",
   "execution_count": null,
   "id": "f4947067-b617-4757-8c6c-575be1064976",
   "metadata": {},
   "outputs": [],
   "source": []
  },
  {
   "cell_type": "code",
   "execution_count": null,
   "id": "9ce79e8a-44db-4b8a-ae21-1ef1e1f543f3",
   "metadata": {},
   "outputs": [],
   "source": []
  },
  {
   "cell_type": "markdown",
   "id": "8faea9fb-53c5-411c-96d3-7148c4f57754",
   "metadata": {},
   "source": [
    "## ft ubs data"
   ]
  },
  {
   "cell_type": "markdown",
   "id": "f6288830-2161-4343-af50-66bf723a3676",
   "metadata": {},
   "source": [
    "#### import and merge data"
   ]
  },
  {
   "cell_type": "code",
   "execution_count": 91,
   "id": "87e1e304-2878-44fd-baa3-a17b310aec7d",
   "metadata": {},
   "outputs": [],
   "source": [
    "# import nzz cs data\n",
    "\n",
    "file_paths = [\n",
    "    \"Data/FT/FT_data_UBS_batch1.csv\",\n",
    "    \"Data/FT/FT_data_UBS_batch2.csv\",\n",
    "    \"Data/FT/FT_data_UBS_batch3.csv\",\n",
    "    \"Data/FT/FT_data_UBS_batch4.csv\"\n",
    "]\n",
    "\n",
    "# List to store DataFrames\n",
    "dfs = []\n",
    "\n",
    "# Read each CSV file into a DataFrame and append to the list\n",
    "for file_path in file_paths:\n",
    "    df = pd.read_csv(file_path)\n",
    "    dfs.append(df)\n",
    "\n",
    "# Concatenate all DataFrames into a single DataFrame\n",
    "ft_data_UBS_merged = pd.concat(dfs, ignore_index=True)"
   ]
  },
  {
   "cell_type": "code",
   "execution_count": 92,
   "id": "57cb78f0-72ee-4077-980d-d5a8e1495864",
   "metadata": {},
   "outputs": [
    {
     "data": {
      "text/plain": [
       "3159"
      ]
     },
     "execution_count": 92,
     "metadata": {},
     "output_type": "execute_result"
    }
   ],
   "source": [
    "len(ft_data_UBS_merged)"
   ]
  },
  {
   "cell_type": "code",
   "execution_count": 93,
   "id": "b48802e2-6fe9-428c-ab40-67cfbcf838e6",
   "metadata": {},
   "outputs": [
    {
     "data": {
      "text/html": [
       "<div>\n",
       "<style scoped>\n",
       "    .dataframe tbody tr th:only-of-type {\n",
       "        vertical-align: middle;\n",
       "    }\n",
       "\n",
       "    .dataframe tbody tr th {\n",
       "        vertical-align: top;\n",
       "    }\n",
       "\n",
       "    .dataframe thead th {\n",
       "        text-align: right;\n",
       "    }\n",
       "</style>\n",
       "<table border=\"1\" class=\"dataframe\">\n",
       "  <thead>\n",
       "    <tr style=\"text-align: right;\">\n",
       "      <th></th>\n",
       "      <th>article_title</th>\n",
       "      <th>headline</th>\n",
       "      <th>article_content</th>\n",
       "      <th>text_date</th>\n",
       "    </tr>\n",
       "  </thead>\n",
       "  <tbody>\n",
       "    <tr>\n",
       "      <th>0</th>\n",
       "      <td>UBS chief Ermotti hints at keeping Credit Suis...</td>\n",
       "      <td>Shotgun marriage between lenders has attracted...</td>\n",
       "      <td>UBS chief executive Sergio Ermotti has given t...</td>\n",
       "      <td>17.06.2023</td>\n",
       "    </tr>\n",
       "    <tr>\n",
       "      <th>1</th>\n",
       "      <td>UBS sets ‘red lines’ for Credit Suisse staff a...</td>\n",
       "      <td>Diktat is designed to reduce risks of the tran...</td>\n",
       "      <td>UBS has imposed tight restrictions on Credit S...</td>\n",
       "      <td>12.06.2023</td>\n",
       "    </tr>\n",
       "    <tr>\n",
       "      <th>2</th>\n",
       "      <td>UBS considers delaying results after Credit Su...</td>\n",
       "      <td>Pushing second-quarter results until the end o...</td>\n",
       "      <td>UBS is considering delaying its second-quarter...</td>\n",
       "      <td>04.06.2023</td>\n",
       "    </tr>\n",
       "    <tr>\n",
       "      <th>3</th>\n",
       "      <td>UBS prioritises Credit Suisse investment bank ...</td>\n",
       "      <td>Decision on Swiss domestic unit expected withi...</td>\n",
       "      <td>UBS has prioritised integrating Credit Suisse’...</td>\n",
       "      <td>12.05.2023</td>\n",
       "    </tr>\n",
       "    <tr>\n",
       "      <th>4</th>\n",
       "      <td>Credit Suisse’s lawsuit against SoftBank throw...</td>\n",
       "      <td>Japanese conglomerate is client of Swiss bank ...</td>\n",
       "      <td>Credit Suisse’s London High Court lawsuit agai...</td>\n",
       "      <td>21.06.2023</td>\n",
       "    </tr>\n",
       "  </tbody>\n",
       "</table>\n",
       "</div>"
      ],
      "text/plain": [
       "                                       article_title  \\\n",
       "0  UBS chief Ermotti hints at keeping Credit Suis...   \n",
       "1  UBS sets ‘red lines’ for Credit Suisse staff a...   \n",
       "2  UBS considers delaying results after Credit Su...   \n",
       "3  UBS prioritises Credit Suisse investment bank ...   \n",
       "4  Credit Suisse’s lawsuit against SoftBank throw...   \n",
       "\n",
       "                                            headline  \\\n",
       "0  Shotgun marriage between lenders has attracted...   \n",
       "1  Diktat is designed to reduce risks of the tran...   \n",
       "2  Pushing second-quarter results until the end o...   \n",
       "3  Decision on Swiss domestic unit expected withi...   \n",
       "4  Japanese conglomerate is client of Swiss bank ...   \n",
       "\n",
       "                                     article_content   text_date  \n",
       "0  UBS chief executive Sergio Ermotti has given t...  17.06.2023  \n",
       "1  UBS has imposed tight restrictions on Credit S...  12.06.2023  \n",
       "2  UBS is considering delaying its second-quarter...  04.06.2023  \n",
       "3  UBS has prioritised integrating Credit Suisse’...  12.05.2023  \n",
       "4  Credit Suisse’s London High Court lawsuit agai...  21.06.2023  "
      ]
     },
     "execution_count": 93,
     "metadata": {},
     "output_type": "execute_result"
    }
   ],
   "source": [
    "ft_data_UBS_merged.head()"
   ]
  },
  {
   "cell_type": "markdown",
   "id": "f87699ab-1208-415e-825d-75184a75c4bd",
   "metadata": {},
   "source": [
    "#### remove duplicates"
   ]
  },
  {
   "cell_type": "code",
   "execution_count": 94,
   "id": "540930b8-a07c-41b4-a5c5-916012b3d299",
   "metadata": {},
   "outputs": [
    {
     "name": "stdout",
     "output_type": "stream",
     "text": [
      "Indices of All Occurrences of Duplicate Rows:\n",
      "Index([], dtype='int64')\n"
     ]
    }
   ],
   "source": [
    "# Check for duplicates in the merged DataFrame, keeping all occurrences\n",
    "all_occurrences_indices = ft_data_UBS_merged[ft_data_UBS_merged.duplicated(keep=False)].index\n",
    "\n",
    "# Display the indices of all occurrences of duplicate rows\n",
    "print(\"Indices of All Occurrences of Duplicate Rows:\")\n",
    "print(all_occurrences_indices)"
   ]
  },
  {
   "cell_type": "code",
   "execution_count": 95,
   "id": "cee417d6-a2f2-4a71-ae20-57270109abb0",
   "metadata": {},
   "outputs": [
    {
     "name": "stdout",
     "output_type": "stream",
     "text": [
      "Indices of Duplicate Rows Based on Specific Columns:\n",
      "Index([], dtype='int64')\n"
     ]
    }
   ],
   "source": [
    "duplicate_indices_specific_columns = ft_data_UBS_merged[ft_data_UBS_merged.duplicated(subset=['article_content'], keep=False)].index\n",
    "print(\"Indices of Duplicate Rows Based on Specific Columns:\")\n",
    "print(duplicate_indices_specific_columns)"
   ]
  },
  {
   "cell_type": "code",
   "execution_count": 70,
   "id": "25c50bc5-5db9-4308-815d-6c02ddf52a23",
   "metadata": {},
   "outputs": [],
   "source": [
    "# Remove duplicate rows based on specific columns\n",
    "# --> no duplicates\n",
    "#ft_data_UBS_merged_no_dups = ft_data_UBS_merged.drop_duplicates(subset=['article_content'], keep='first')"
   ]
  },
  {
   "cell_type": "code",
   "execution_count": null,
   "id": "682267e4-46cc-4a80-b70c-e18f1d58f39f",
   "metadata": {},
   "outputs": [],
   "source": []
  },
  {
   "cell_type": "code",
   "execution_count": 81,
   "id": "07722af6-9180-46cc-9d98-e4a4ebf53587",
   "metadata": {},
   "outputs": [],
   "source": [
    "#ft_data_UBS_merged.loc[2360, \"article_content\"]"
   ]
  },
  {
   "cell_type": "markdown",
   "id": "e7353673-8c6b-4477-85da-1134d467e6cb",
   "metadata": {},
   "source": [
    "#### filter date"
   ]
  },
  {
   "cell_type": "code",
   "execution_count": 96,
   "id": "78d72257-cb21-41a5-a6f5-f499b43feee9",
   "metadata": {},
   "outputs": [],
   "source": [
    "# Create a copy of the DataFrames\n",
    "ft_data_UBS_merged_copy = ft_data_UBS_merged.copy()\n",
    "\n",
    "# Convert 'text_date' column to datetime type, considering timezone information\n",
    "ft_data_UBS_merged_copy['text_date'] = pd.to_datetime(ft_data_UBS_merged_copy['text_date'], utc=True, format='%d.%m.%Y', errors='coerce')\n",
    "\n",
    "# Define the start and end dates of the desired range\n",
    "start_date = pd.Timestamp('2019-01-01', tz='UTC')\n",
    "end_date = pd.Timestamp('2023-06-30', tz='UTC')\n",
    "\n",
    "# Filter the DataFrame to include only articles within the specified date range\n",
    "filtered_df_ft_ubs = ft_data_UBS_merged_copy[(ft_data_UBS_merged_copy['text_date'] >= start_date) & (ft_data_UBS_merged_copy['text_date'] <= end_date)]"
   ]
  },
  {
   "cell_type": "code",
   "execution_count": 31,
   "id": "33ff0bf5-8954-4b2d-9fd5-c0ae9fe3925a",
   "metadata": {},
   "outputs": [
    {
     "data": {
      "text/plain": [
       "3159"
      ]
     },
     "execution_count": 31,
     "metadata": {},
     "output_type": "execute_result"
    }
   ],
   "source": [
    "len(filtered_df_ft_ubs)"
   ]
  },
  {
   "cell_type": "markdown",
   "id": "832c12f9-4b76-469f-af2a-9707c1d1ca79",
   "metadata": {},
   "source": [
    "#### filter by relevancy"
   ]
  },
  {
   "cell_type": "markdown",
   "id": "313d5ddd-4b3e-4666-bb97-d9be42f050d3",
   "metadata": {},
   "source": [
    "##### old code "
   ]
  },
  {
   "cell_type": "code",
   "execution_count": 83,
   "id": "55c19d0d-dc8e-44f3-9500-7c50b20b9f37",
   "metadata": {},
   "outputs": [],
   "source": [
    "# Create a copy of the filtered DataFrame\n",
    "filtered_df_ft_ubs_copy = filtered_df_ft_ubs.copy()\n",
    "\n",
    "# Count the occurrences of the phrases 'Credit Suisse' and 'CS' in each article's content in the copied DataFrame\n",
    "filtered_df_ft_ubs_copy['UBS_count'] = filtered_df_ft_ubs_copy['article_content'].str.count('UBS')\n",
    "\n",
    "# Filter articles containing 'Credit Suisse' at least twice in their content\n",
    "ft_UBS_articles_pre = filtered_df_ft_ubs_copy[filtered_df_ft_ubs_copy['UBS_count'] >= 2]"
   ]
  },
  {
   "cell_type": "code",
   "execution_count": 85,
   "id": "ebcc9171-c958-471f-9ec4-37b25540642e",
   "metadata": {},
   "outputs": [
    {
     "name": "stdout",
     "output_type": "stream",
     "text": [
      "3159\n",
      "1049\n"
     ]
    }
   ],
   "source": [
    "print(len(filtered_df_ft_ubs))\n",
    "print(len(ft_UBS_articles_pre))"
   ]
  },
  {
   "cell_type": "markdown",
   "id": "f2e92224-a78c-48f2-ad33-ff73f1928fba",
   "metadata": {},
   "source": [
    "##### new code"
   ]
  },
  {
   "cell_type": "code",
   "execution_count": 97,
   "id": "8ab4cb4b-90c7-4995-ae56-8b7082288f33",
   "metadata": {},
   "outputs": [],
   "source": [
    "# Create a copy of the filtered DataFrame\n",
    "filtered_df_ft_ubs_copy = filtered_df_ft_ubs.copy()\n",
    "\n",
    "# Count the occurrences of the phrases \"UBS\" in each article's content in the copied DataFrame\n",
    "def count_ubs(text):\n",
    "    return len(re.findall(r'(?<![a-zA-Z])UBS(?![a-zA-Z])', text))\n",
    "\n",
    "filtered_df_ft_ubs_copy['UBS_count'] = filtered_df_ft_ubs_copy['article_content'].apply(count_ubs)\n",
    "\n",
    "# Filter articles containing 'UBS' at least twice in their content\n",
    "ft_UBS_articles = filtered_df_ft_ubs_copy[filtered_df_ft_ubs_copy['UBS_count'] >= 2]"
   ]
  },
  {
   "cell_type": "code",
   "execution_count": 98,
   "id": "57ea6d8c-eeb4-42ba-bde2-3f5ef0be9a27",
   "metadata": {},
   "outputs": [
    {
     "name": "stdout",
     "output_type": "stream",
     "text": [
      "3159\n",
      "1036\n"
     ]
    }
   ],
   "source": [
    "print(len(filtered_df_ft_ubs))\n",
    "print(len(ft_UBS_articles))"
   ]
  },
  {
   "cell_type": "code",
   "execution_count": 91,
   "id": "8304a8b0-046e-4dcf-9465-055d026fb919",
   "metadata": {},
   "outputs": [],
   "source": [
    "# Export the sorted DataFrame to a CSV file\n",
    "#filtered_df_nzz_ubs_copy.to_csv('UBS_NZZ_unfiltered.csv', index=False)"
   ]
  },
  {
   "cell_type": "code",
   "execution_count": 88,
   "id": "010f5180-9732-47ac-97e1-dc4cecafd40e",
   "metadata": {},
   "outputs": [
    {
     "name": "stdout",
     "output_type": "stream",
     "text": [
      "343                              Peace on Earth postponed\n",
      "832     A new chapter for space travel and an annivers...\n",
      "1635                   Can corporate Europe catch the US?\n",
      "2099     Credit Suisse freezes investment bank bonus pool\n",
      "2174                 Markets Now - Thursday 3rd September\n",
      "2212             Markets Now - Wednesday 12th August 2020\n",
      "2217               Markets Now - Tuesday 18th August 2020\n",
      "2224                 Markets Now - Wednesday 6th May 2020\n",
      "2230           Markets not live, Monday 13th January 2020\n",
      "2237        Markets not live, Wednesday 5th February 2020\n",
      "2240                Markets now, Wednesday 4th March 2020\n",
      "2248          Markets Now - LIVE - Friday 13th March 2020\n",
      "2250                Markets Now - Tuesday 17th March 2020\n",
      "Name: article_title, dtype: object\n"
     ]
    }
   ],
   "source": [
    "# Get the titles of the articles in ft_UBS_articles_pre that are not in ft_UBS_articles\n",
    "missing_titles_ubs = ft_UBS_articles_pre[~ft_UBS_articles_pre['article_title'].isin(ft_UBS_articles['article_title'])]['article_title']\n",
    "\n",
    "print(missing_titles_ubs)"
   ]
  },
  {
   "cell_type": "markdown",
   "id": "31cba0ff-24ee-44e1-9fe3-3bc2042ae584",
   "metadata": {},
   "source": [
    "#### calculate wordcount"
   ]
  },
  {
   "cell_type": "code",
   "execution_count": 100,
   "id": "f5d7b8a5-95ae-48d7-90ab-45c5ee69b700",
   "metadata": {},
   "outputs": [],
   "source": [
    "# Calculate the word count for each article in the credit_suisse_articles DataFrame\n",
    "ft_UBS_articles.loc[:, 'word_count'] = ft_UBS_articles['article_content'].str.split().apply(len)"
   ]
  },
  {
   "cell_type": "markdown",
   "id": "2585a6ed-e47b-47d2-8dee-95c2dae77fa3",
   "metadata": {},
   "source": [
    "##### exclude certain titles"
   ]
  },
  {
   "cell_type": "code",
   "execution_count": 101,
   "id": "7541fbd4-8c66-43e2-9263-7b9d992977cd",
   "metadata": {},
   "outputs": [],
   "source": [
    "# List of prefixes to exclude\n",
    "exclude_prefixes = [\n",
    "    \"Episode\",\n",
    "    \"FirstFT\",\n",
    "    \"Markets not live\",\n",
    "    \"Markets Now\",\n",
    "    \"Opening Quote:\",\n",
    "    \"Stocks to watch:\"\n",
    "]\n",
    "\n",
    "# Filter the DataFrame to exclude articles with titles starting with specified prefixes\n",
    "filtered_prefixes_df2 = ft_UBS_articles[~ft_UBS_articles['article_title'].str.startswith(tuple(exclude_prefixes))]"
   ]
  },
  {
   "cell_type": "markdown",
   "id": "113ba56c-6fbf-48dd-a98a-64918f387d69",
   "metadata": {},
   "source": [
    "#### remove over 5k, sort and export"
   ]
  },
  {
   "cell_type": "code",
   "execution_count": 102,
   "id": "f94c518f-bc04-4b56-b523-730a4e620b68",
   "metadata": {},
   "outputs": [],
   "source": [
    " #Sort the articles by date in ascending order\n",
    "ft_UBS_articles_sorted = filtered_prefixes_df2.sort_values(by='text_date')"
   ]
  },
  {
   "cell_type": "code",
   "execution_count": 103,
   "id": "514321d1-f8b0-470e-9ccc-c146dbd4dc88",
   "metadata": {},
   "outputs": [
    {
     "data": {
      "text/plain": [
       "939"
      ]
     },
     "execution_count": 103,
     "metadata": {},
     "output_type": "execute_result"
    }
   ],
   "source": [
    "len(ft_UBS_articles_sorted)"
   ]
  },
  {
   "cell_type": "code",
   "execution_count": 104,
   "id": "9d285c3f-cf8d-47b7-855b-97c5beb86955",
   "metadata": {},
   "outputs": [],
   "source": [
    "# remove over 5k words\n",
    "# Filter out articles with a word count higher than 5000\n",
    "ft_UBS_articles_sorted = ft_UBS_articles_sorted[ft_UBS_articles_sorted['word_count'] <= 5000]"
   ]
  },
  {
   "cell_type": "code",
   "execution_count": 105,
   "id": "f3b32c3f-0ead-4581-985d-586f4a900d57",
   "metadata": {},
   "outputs": [
    {
     "name": "stdout",
     "output_type": "stream",
     "text": [
      "939\n"
     ]
    },
    {
     "data": {
      "text/plain": [
       "1036"
      ]
     },
     "execution_count": 105,
     "metadata": {},
     "output_type": "execute_result"
    }
   ],
   "source": [
    "print(len(ft_UBS_articles_sorted))\n",
    "len(ft_UBS_articles)"
   ]
  },
  {
   "cell_type": "code",
   "execution_count": 106,
   "id": "23a41765-3f1e-4025-b53f-0bee0994f7f2",
   "metadata": {},
   "outputs": [
    {
     "data": {
      "text/plain": [
       "Index(['article_title', 'headline', 'article_content', 'text_date',\n",
       "       'UBS_count', 'word_count'],\n",
       "      dtype='object')"
      ]
     },
     "execution_count": 106,
     "metadata": {},
     "output_type": "execute_result"
    }
   ],
   "source": [
    "# change column name of article content to article_content if necessary (einheitlich machen across alle dfs) \n",
    "ft_UBS_articles_sorted.columns\n"
   ]
  },
  {
   "cell_type": "code",
   "execution_count": 107,
   "id": "64e80b24-7914-40f7-8097-7a421a1d8811",
   "metadata": {},
   "outputs": [],
   "source": [
    "# Export the sorted DataFrame to a CSV file\n",
    "ft_UBS_articles_sorted.to_csv('Prepped_Data/UBS_FT_prepped.csv', index=False)"
   ]
  },
  {
   "cell_type": "code",
   "execution_count": 108,
   "id": "7bc0ca33-5a1d-4246-8845-89dcbb67111b",
   "metadata": {},
   "outputs": [
    {
     "data": {
      "text/html": [
       "<div>\n",
       "<style scoped>\n",
       "    .dataframe tbody tr th:only-of-type {\n",
       "        vertical-align: middle;\n",
       "    }\n",
       "\n",
       "    .dataframe tbody tr th {\n",
       "        vertical-align: top;\n",
       "    }\n",
       "\n",
       "    .dataframe thead th {\n",
       "        text-align: right;\n",
       "    }\n",
       "</style>\n",
       "<table border=\"1\" class=\"dataframe\">\n",
       "  <thead>\n",
       "    <tr style=\"text-align: right;\">\n",
       "      <th></th>\n",
       "      <th>article_title</th>\n",
       "      <th>headline</th>\n",
       "      <th>article_content</th>\n",
       "      <th>text_date</th>\n",
       "      <th>UBS_count</th>\n",
       "      <th>word_count</th>\n",
       "    </tr>\n",
       "  </thead>\n",
       "  <tbody>\n",
       "    <tr>\n",
       "      <th>2868</th>\n",
       "      <td>Alphabet overtakes Apple as world’s third-bigg...</td>\n",
       "      <td>The iPhone maker saw its shares slide 9% after...</td>\n",
       "      <td>Apple is falling further down the rankings of ...</td>\n",
       "      <td>2019-01-03 00:00:00+00:00</td>\n",
       "      <td>2</td>\n",
       "      <td>230</td>\n",
       "    </tr>\n",
       "    <tr>\n",
       "      <th>2547</th>\n",
       "      <td>UBS in talks to hire ex-BofA investment bankin...</td>\n",
       "      <td>Christian Meissner has had talks about joining...</td>\n",
       "      <td>UBS has sounded out former Bank of America inv...</td>\n",
       "      <td>2019-01-04 00:00:00+00:00</td>\n",
       "      <td>9</td>\n",
       "      <td>448</td>\n",
       "    </tr>\n",
       "    <tr>\n",
       "      <th>2605</th>\n",
       "      <td>The London Report: Poor spell for Merlin Enter...</td>\n",
       "      <td>UBS sounds note of caution from customer feedb...</td>\n",
       "      <td>Merlin Entertainments\\r\\n was among the day’s ...</td>\n",
       "      <td>2019-01-10 00:00:00+00:00</td>\n",
       "      <td>2</td>\n",
       "      <td>162</td>\n",
       "    </tr>\n",
       "    <tr>\n",
       "      <th>3084</th>\n",
       "      <td>Malaysian electronics firms face hit from China</td>\n",
       "      <td>Sector braced for slowdown as over-reliance on...</td>\n",
       "      <td>Malaysia’s electronics sector is bracing for a...</td>\n",
       "      <td>2019-01-10 00:00:00+00:00</td>\n",
       "      <td>2</td>\n",
       "      <td>850</td>\n",
       "    </tr>\n",
       "    <tr>\n",
       "      <th>3079</th>\n",
       "      <td>Probe builds pressure on insurers to end ‘loya...</td>\n",
       "      <td>Industry set for shake-up as regulator’s inves...</td>\n",
       "      <td>The way insurers decide what to charge loyal c...</td>\n",
       "      <td>2019-01-10 00:00:00+00:00</td>\n",
       "      <td>2</td>\n",
       "      <td>872</td>\n",
       "    </tr>\n",
       "  </tbody>\n",
       "</table>\n",
       "</div>"
      ],
      "text/plain": [
       "                                          article_title  \\\n",
       "2868  Alphabet overtakes Apple as world’s third-bigg...   \n",
       "2547  UBS in talks to hire ex-BofA investment bankin...   \n",
       "2605  The London Report: Poor spell for Merlin Enter...   \n",
       "3084    Malaysian electronics firms face hit from China   \n",
       "3079  Probe builds pressure on insurers to end ‘loya...   \n",
       "\n",
       "                                               headline  \\\n",
       "2868  The iPhone maker saw its shares slide 9% after...   \n",
       "2547  Christian Meissner has had talks about joining...   \n",
       "2605  UBS sounds note of caution from customer feedb...   \n",
       "3084  Sector braced for slowdown as over-reliance on...   \n",
       "3079  Industry set for shake-up as regulator’s inves...   \n",
       "\n",
       "                                        article_content  \\\n",
       "2868  Apple is falling further down the rankings of ...   \n",
       "2547  UBS has sounded out former Bank of America inv...   \n",
       "2605  Merlin Entertainments\\r\\n was among the day’s ...   \n",
       "3084  Malaysia’s electronics sector is bracing for a...   \n",
       "3079  The way insurers decide what to charge loyal c...   \n",
       "\n",
       "                     text_date  UBS_count  word_count  \n",
       "2868 2019-01-03 00:00:00+00:00          2         230  \n",
       "2547 2019-01-04 00:00:00+00:00          9         448  \n",
       "2605 2019-01-10 00:00:00+00:00          2         162  \n",
       "3084 2019-01-10 00:00:00+00:00          2         850  \n",
       "3079 2019-01-10 00:00:00+00:00          2         872  "
      ]
     },
     "execution_count": 108,
     "metadata": {},
     "output_type": "execute_result"
    }
   ],
   "source": [
    "ft_UBS_articles_sorted.head()"
   ]
  },
  {
   "cell_type": "code",
   "execution_count": null,
   "id": "09d0f32b-4761-4267-a0d0-ef73d66b848a",
   "metadata": {},
   "outputs": [],
   "source": []
  },
  {
   "cell_type": "code",
   "execution_count": 93,
   "id": "24508dc3-539d-401e-8192-bcddffeddcc8",
   "metadata": {},
   "outputs": [],
   "source": []
  },
  {
   "cell_type": "code",
   "execution_count": null,
   "id": "dbe1a34b-cec8-4be3-b013-cd7f67156b8a",
   "metadata": {},
   "outputs": [],
   "source": []
  },
  {
   "cell_type": "code",
   "execution_count": null,
   "id": "e78b39f0-353e-455c-8d37-6ed5f91d9455",
   "metadata": {},
   "outputs": [],
   "source": []
  },
  {
   "cell_type": "code",
   "execution_count": null,
   "id": "a1ce396a-1b72-4c4a-add9-fcb589904781",
   "metadata": {},
   "outputs": [],
   "source": []
  }
 ],
 "metadata": {
  "kernelspec": {
   "display_name": "Python 3 (ipykernel)",
   "language": "python",
   "name": "python3"
  },
  "language_info": {
   "codemirror_mode": {
    "name": "ipython",
    "version": 3
   },
   "file_extension": ".py",
   "mimetype": "text/x-python",
   "name": "python",
   "nbconvert_exporter": "python",
   "pygments_lexer": "ipython3",
   "version": "3.12.2"
  }
 },
 "nbformat": 4,
 "nbformat_minor": 5
}
