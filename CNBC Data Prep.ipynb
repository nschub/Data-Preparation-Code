{
 "cells": [
  {
   "cell_type": "code",
   "execution_count": 2,
   "id": "initial_id",
   "metadata": {
    "ExecuteTime": {
     "end_time": "2024-04-29T11:24:33.289251Z",
     "start_time": "2024-04-29T11:24:33.279624Z"
    }
   },
   "outputs": [],
   "source": [
    "import pandas as pd\n",
    "import numpy as np\n",
    "import re\n",
    "from IPython.display import display"
   ]
  },
  {
   "cell_type": "code",
   "execution_count": null,
   "id": "58f2f5ac-2de4-485a-b23e-73881aec54fe",
   "metadata": {},
   "outputs": [],
   "source": []
  },
  {
   "cell_type": "code",
   "execution_count": null,
   "id": "a766fc9a-a7d7-4e7c-ac48-a42315e7a930",
   "metadata": {},
   "outputs": [],
   "source": []
  },
  {
   "cell_type": "code",
   "execution_count": 3,
   "id": "1f6328c11daab397",
   "metadata": {},
   "outputs": [],
   "source": [
    "# import CNBC CS data\n",
    "file_path = \"Data/CNBC/CNBC_scraped_data_CS_22_04.csv\"\n",
    "df_cnbc_cs = pd.read_csv(file_path)"
   ]
  },
  {
   "cell_type": "code",
   "execution_count": 4,
   "id": "695cae95-4216-4bb1-9ef0-3d57b7cb9f19",
   "metadata": {},
   "outputs": [
    {
     "data": {
      "text/html": [
       "<div>\n",
       "<style scoped>\n",
       "    .dataframe tbody tr th:only-of-type {\n",
       "        vertical-align: middle;\n",
       "    }\n",
       "\n",
       "    .dataframe tbody tr th {\n",
       "        vertical-align: top;\n",
       "    }\n",
       "\n",
       "    .dataframe thead th {\n",
       "        text-align: right;\n",
       "    }\n",
       "</style>\n",
       "<table border=\"1\" class=\"dataframe\">\n",
       "  <thead>\n",
       "    <tr style=\"text-align: right;\">\n",
       "      <th></th>\n",
       "      <th>article_title</th>\n",
       "      <th>article_headline</th>\n",
       "      <th>article_content</th>\n",
       "      <th>text_date</th>\n",
       "      <th>article_url</th>\n",
       "    </tr>\n",
       "  </thead>\n",
       "  <tbody>\n",
       "    <tr>\n",
       "      <th>0</th>\n",
       "      <td>UBS CEO says integrating Credit Suisse will be...</td>\n",
       "      <td>Credit Suisse collapsed in March 2023 followin...</td>\n",
       "      <td>In this article The mammoth integration of fai...</td>\n",
       "      <td>2024-04-05</td>\n",
       "      <td>https://www.cnbc.com/2024/04/05/ubs-ceo-says-c...</td>\n",
       "    </tr>\n",
       "    <tr>\n",
       "      <th>1</th>\n",
       "      <td>Swiss regulator calls for more powers after Cr...</td>\n",
       "      <td>The 167-year-old Credit Suisse was rescued by ...</td>\n",
       "      <td>Switzerland's financial regulator on Tuesday c...</td>\n",
       "      <td>NaN</td>\n",
       "      <td>https://www.cnbc.com/2023/12/19/swiss-regulato...</td>\n",
       "    </tr>\n",
       "    <tr>\n",
       "      <th>2</th>\n",
       "      <td>UBS resumes selling the bonds at the heart of ...</td>\n",
       "      <td>UBS confirmed to CNBC that it is offering Addi...</td>\n",
       "      <td>In this article UBS on Wednesday began selling...</td>\n",
       "      <td>2023-11-08</td>\n",
       "      <td>https://www.cnbc.com/2023/11/08/ubs-resumes-se...</td>\n",
       "    </tr>\n",
       "    <tr>\n",
       "      <th>3</th>\n",
       "      <td>Credit Suisse intervention avoided 'financial ...</td>\n",
       "      <td>The Swiss National Bank supplied a massive lif...</td>\n",
       "      <td>Swiss National Bank Chairman Thomas Jordan on ...</td>\n",
       "      <td>2023-11-02</td>\n",
       "      <td>https://www.cnbc.com/2023/11/01/snb-says-credi...</td>\n",
       "    </tr>\n",
       "    <tr>\n",
       "      <th>4</th>\n",
       "      <td>UBS ends Credit Suisse's government and centra...</td>\n",
       "      <td>UBS on Friday said that it has ended a 9 billi...</td>\n",
       "      <td>UBS on Friday said that it has ended a 9 billi...</td>\n",
       "      <td>2023-08-11</td>\n",
       "      <td>https://www.cnbc.com/2023/08/11/ubs-ends-credi...</td>\n",
       "    </tr>\n",
       "  </tbody>\n",
       "</table>\n",
       "</div>"
      ],
      "text/plain": [
       "                                       article_title  \\\n",
       "0  UBS CEO says integrating Credit Suisse will be...   \n",
       "1  Swiss regulator calls for more powers after Cr...   \n",
       "2  UBS resumes selling the bonds at the heart of ...   \n",
       "3  Credit Suisse intervention avoided 'financial ...   \n",
       "4  UBS ends Credit Suisse's government and centra...   \n",
       "\n",
       "                                    article_headline  \\\n",
       "0  Credit Suisse collapsed in March 2023 followin...   \n",
       "1  The 167-year-old Credit Suisse was rescued by ...   \n",
       "2  UBS confirmed to CNBC that it is offering Addi...   \n",
       "3  The Swiss National Bank supplied a massive lif...   \n",
       "4  UBS on Friday said that it has ended a 9 billi...   \n",
       "\n",
       "                                     article_content   text_date  \\\n",
       "0  In this article The mammoth integration of fai...  2024-04-05   \n",
       "1  Switzerland's financial regulator on Tuesday c...         NaN   \n",
       "2  In this article UBS on Wednesday began selling...  2023-11-08   \n",
       "3  Swiss National Bank Chairman Thomas Jordan on ...  2023-11-02   \n",
       "4  UBS on Friday said that it has ended a 9 billi...  2023-08-11   \n",
       "\n",
       "                                         article_url  \n",
       "0  https://www.cnbc.com/2024/04/05/ubs-ceo-says-c...  \n",
       "1  https://www.cnbc.com/2023/12/19/swiss-regulato...  \n",
       "2  https://www.cnbc.com/2023/11/08/ubs-resumes-se...  \n",
       "3  https://www.cnbc.com/2023/11/01/snb-says-credi...  \n",
       "4  https://www.cnbc.com/2023/08/11/ubs-ends-credi...  "
      ]
     },
     "execution_count": 4,
     "metadata": {},
     "output_type": "execute_result"
    }
   ],
   "source": [
    "df_cnbc_cs.head()"
   ]
  },
  {
   "cell_type": "code",
   "execution_count": 5,
   "id": "c64fc0e6-b9b2-4790-bceb-1480caaa4af2",
   "metadata": {},
   "outputs": [
    {
     "data": {
      "text/plain": [
       "Index(['article_title', 'article_headline', 'article_content', 'text_date',\n",
       "       'article_url'],\n",
       "      dtype='object')"
      ]
     },
     "execution_count": 5,
     "metadata": {},
     "output_type": "execute_result"
    }
   ],
   "source": [
    "df_cnbc_cs.columns"
   ]
  },
  {
   "cell_type": "markdown",
   "id": "fcc7fd12-596a-47d6-af9c-a7a3b9dd6b16",
   "metadata": {},
   "source": [
    "#### fill missing values in text_date column"
   ]
  },
  {
   "cell_type": "code",
   "execution_count": 6,
   "id": "b5870f6e-a1ec-4ae3-acad-5531e333a261",
   "metadata": {},
   "outputs": [
    {
     "data": {
      "text/plain": [
       "'2023-12-19'"
      ]
     },
     "execution_count": 6,
     "metadata": {},
     "output_type": "execute_result"
    }
   ],
   "source": [
    "#define function to extract the date from the corresponding URL\n",
    "def extract_date_from_url(url):\n",
    "    match = re.search(r'\\d{4}/\\d{2}/\\d{2}', url)\n",
    "    if match:\n",
    "        date_str = match.group(0)\n",
    "        # Transforming date into the desired format (YYYY-MM-DD)\n",
    "        year, month, day = date_str.split('/')\n",
    "        return f\"{year}-{month}-{day}\"\n",
    "    else:\n",
    "        return None\n",
    "\n",
    "extract_date_from_url(\"https://www.cnbc.com/2023/12/19/swiss-regulator-calls-for-more-powers-after-credit-suisse-collapse.html?&qsearchterm=\")"
   ]
  },
  {
   "cell_type": "code",
   "execution_count": 7,
   "id": "451c7a3d-bb3f-4364-9341-13c7f266cb52",
   "metadata": {},
   "outputs": [],
   "source": [
    "#fill missing values\n",
    "df_cnbc_cs['text_date'] = df_cnbc_cs.apply(lambda row: extract_date_from_url(row['article_url']) if pd.isna(row['text_date']) else row['text_date'], axis=1)"
   ]
  },
  {
   "cell_type": "code",
   "execution_count": 8,
   "id": "4045074f-937f-44b0-b91b-58af542333d2",
   "metadata": {},
   "outputs": [
    {
     "data": {
      "text/html": [
       "<div>\n",
       "<style scoped>\n",
       "    .dataframe tbody tr th:only-of-type {\n",
       "        vertical-align: middle;\n",
       "    }\n",
       "\n",
       "    .dataframe tbody tr th {\n",
       "        vertical-align: top;\n",
       "    }\n",
       "\n",
       "    .dataframe thead th {\n",
       "        text-align: right;\n",
       "    }\n",
       "</style>\n",
       "<table border=\"1\" class=\"dataframe\">\n",
       "  <thead>\n",
       "    <tr style=\"text-align: right;\">\n",
       "      <th></th>\n",
       "      <th>article_title</th>\n",
       "      <th>article_headline</th>\n",
       "      <th>article_content</th>\n",
       "      <th>text_date</th>\n",
       "      <th>article_url</th>\n",
       "    </tr>\n",
       "  </thead>\n",
       "  <tbody>\n",
       "    <tr>\n",
       "      <th>0</th>\n",
       "      <td>UBS CEO says integrating Credit Suisse will be...</td>\n",
       "      <td>Credit Suisse collapsed in March 2023 followin...</td>\n",
       "      <td>In this article The mammoth integration of fai...</td>\n",
       "      <td>2024-04-05</td>\n",
       "      <td>https://www.cnbc.com/2024/04/05/ubs-ceo-says-c...</td>\n",
       "    </tr>\n",
       "    <tr>\n",
       "      <th>1</th>\n",
       "      <td>Swiss regulator calls for more powers after Cr...</td>\n",
       "      <td>The 167-year-old Credit Suisse was rescued by ...</td>\n",
       "      <td>Switzerland's financial regulator on Tuesday c...</td>\n",
       "      <td>2023-12-19</td>\n",
       "      <td>https://www.cnbc.com/2023/12/19/swiss-regulato...</td>\n",
       "    </tr>\n",
       "    <tr>\n",
       "      <th>2</th>\n",
       "      <td>UBS resumes selling the bonds at the heart of ...</td>\n",
       "      <td>UBS confirmed to CNBC that it is offering Addi...</td>\n",
       "      <td>In this article UBS on Wednesday began selling...</td>\n",
       "      <td>2023-11-08</td>\n",
       "      <td>https://www.cnbc.com/2023/11/08/ubs-resumes-se...</td>\n",
       "    </tr>\n",
       "    <tr>\n",
       "      <th>3</th>\n",
       "      <td>Credit Suisse intervention avoided 'financial ...</td>\n",
       "      <td>The Swiss National Bank supplied a massive lif...</td>\n",
       "      <td>Swiss National Bank Chairman Thomas Jordan on ...</td>\n",
       "      <td>2023-11-02</td>\n",
       "      <td>https://www.cnbc.com/2023/11/01/snb-says-credi...</td>\n",
       "    </tr>\n",
       "    <tr>\n",
       "      <th>4</th>\n",
       "      <td>UBS ends Credit Suisse's government and centra...</td>\n",
       "      <td>UBS on Friday said that it has ended a 9 billi...</td>\n",
       "      <td>UBS on Friday said that it has ended a 9 billi...</td>\n",
       "      <td>2023-08-11</td>\n",
       "      <td>https://www.cnbc.com/2023/08/11/ubs-ends-credi...</td>\n",
       "    </tr>\n",
       "  </tbody>\n",
       "</table>\n",
       "</div>"
      ],
      "text/plain": [
       "                                       article_title  \\\n",
       "0  UBS CEO says integrating Credit Suisse will be...   \n",
       "1  Swiss regulator calls for more powers after Cr...   \n",
       "2  UBS resumes selling the bonds at the heart of ...   \n",
       "3  Credit Suisse intervention avoided 'financial ...   \n",
       "4  UBS ends Credit Suisse's government and centra...   \n",
       "\n",
       "                                    article_headline  \\\n",
       "0  Credit Suisse collapsed in March 2023 followin...   \n",
       "1  The 167-year-old Credit Suisse was rescued by ...   \n",
       "2  UBS confirmed to CNBC that it is offering Addi...   \n",
       "3  The Swiss National Bank supplied a massive lif...   \n",
       "4  UBS on Friday said that it has ended a 9 billi...   \n",
       "\n",
       "                                     article_content   text_date  \\\n",
       "0  In this article The mammoth integration of fai...  2024-04-05   \n",
       "1  Switzerland's financial regulator on Tuesday c...  2023-12-19   \n",
       "2  In this article UBS on Wednesday began selling...  2023-11-08   \n",
       "3  Swiss National Bank Chairman Thomas Jordan on ...  2023-11-02   \n",
       "4  UBS on Friday said that it has ended a 9 billi...  2023-08-11   \n",
       "\n",
       "                                         article_url  \n",
       "0  https://www.cnbc.com/2024/04/05/ubs-ceo-says-c...  \n",
       "1  https://www.cnbc.com/2023/12/19/swiss-regulato...  \n",
       "2  https://www.cnbc.com/2023/11/08/ubs-resumes-se...  \n",
       "3  https://www.cnbc.com/2023/11/01/snb-says-credi...  \n",
       "4  https://www.cnbc.com/2023/08/11/ubs-ends-credi...  "
      ]
     },
     "execution_count": 8,
     "metadata": {},
     "output_type": "execute_result"
    }
   ],
   "source": [
    "df_cnbc_cs.head()"
   ]
  },
  {
   "cell_type": "code",
   "execution_count": 9,
   "id": "117ae16d-b8f4-4208-864e-e9c2a8933936",
   "metadata": {},
   "outputs": [
    {
     "data": {
      "text/plain": [
       "221"
      ]
     },
     "execution_count": 9,
     "metadata": {},
     "output_type": "execute_result"
    }
   ],
   "source": [
    "len(df_cnbc_cs)"
   ]
  },
  {
   "cell_type": "code",
   "execution_count": 10,
   "id": "2f81e702-28f0-445d-b202-fae74c19a013",
   "metadata": {},
   "outputs": [
    {
     "data": {
      "text/plain": [
       "article_title       UBS says it has completed the takeover of stri...\n",
       "article_headline    UBS has completed the legal takeover of its fo...\n",
       "article_content     In this article Swiss bank UBS on Monday said ...\n",
       "text_date                                                  2023-06-12\n",
       "article_url         https://www.cnbc.com/2023/06/12/ubs-says-it-ha...\n",
       "Name: 7, dtype: object"
      ]
     },
     "execution_count": 10,
     "metadata": {},
     "output_type": "execute_result"
    }
   ],
   "source": [
    "df_cnbc_cs.loc[7]"
   ]
  },
  {
   "cell_type": "markdown",
   "id": "23505921-f899-4a4d-9813-d5f9b038c986",
   "metadata": {},
   "source": [
    "#### convert date"
   ]
  },
  {
   "cell_type": "code",
   "execution_count": 11,
   "id": "b4bd4180-c95e-471c-8ede-fae069f5612e",
   "metadata": {},
   "outputs": [],
   "source": [
    "# Convert 'text_date' column to datetime type, considering timezone information\n",
    "df_cnbc_cs['text_date'] = pd.to_datetime(df_cnbc_cs['text_date'], utc=True)\n",
    "\n",
    "# Define the start and end dates of the desired range\n",
    "start_date = pd.Timestamp('2019-01-01', tz='UTC')\n",
    "end_date = pd.Timestamp('2023-06-30', tz='UTC')\n",
    "\n",
    "# Filter the DataFrame to include only articles within the specified date range\n",
    "filtered_df_cnbc_cs = df_cnbc_cs[(df_cnbc_cs['text_date'] >= start_date) & (df_cnbc_cs['text_date'] <= end_date)]"
   ]
  },
  {
   "cell_type": "code",
   "execution_count": 12,
   "id": "88ac7195-83ae-4292-8e37-96f611ab6d74",
   "metadata": {},
   "outputs": [
    {
     "data": {
      "text/plain": [
       "143"
      ]
     },
     "execution_count": 12,
     "metadata": {},
     "output_type": "execute_result"
    }
   ],
   "source": [
    "len(filtered_df_cnbc_cs)"
   ]
  },
  {
   "cell_type": "markdown",
   "id": "fa9a60a4-8ffb-4362-b59c-8ec6a80f73d4",
   "metadata": {},
   "source": [
    "#### sort by relevancy"
   ]
  },
  {
   "cell_type": "markdown",
   "id": "945851e3-b07b-48a2-adca-2ae3d8e08412",
   "metadata": {},
   "source": [
    "##### old code"
   ]
  },
  {
   "cell_type": "code",
   "execution_count": 29,
   "id": "71781e45-fedc-4194-98eb-ebbd94c0ecc4",
   "metadata": {},
   "outputs": [],
   "source": [
    "# Create a copy of the filtered DataFrame\n",
    "#filtered_df_cnbc_cs_copy = filtered_df_cnbc_cs.copy()\n",
    "\n",
    "# Count the occurrences of the phrases 'Credit Suisse' and 'CS' in each article's content in the copied DataFrame\n",
    "#filtered_df_cnbc_cs_copy['credit_suisse_count'] = filtered_df_cnbc_cs_copy['article_content'].str.count('Credit Suisse')\n",
    "\n",
    "#def count_cs(text):\n",
    "#    return len(re.findall(r'CS(?![a-zA-Z])', text))\n",
    "\n",
    "#filtered_df_cnbc_cs_copy['cs_count'] = filtered_df_cnbc_cs_copy['article_content'].apply(count_cs)\n",
    "\n",
    "# Filter articles based on multiple conditions\n",
    "#credit_suisse_articles_cnbc = filtered_df_cnbc_cs_copy[\n",
    "#    (filtered_df_cnbc_cs_copy['credit_suisse_count'] >= 2) |\n",
    "#    (filtered_df_cnbc_cs_copy['cs_count'] >= 2) |\n",
    "#    ((filtered_df_cnbc_cs_copy['credit_suisse_count'] >= 1) & (filtered_df_cnbc_cs_copy['cs_count'] >= 1))\n",
    "#]\n"
   ]
  },
  {
   "cell_type": "markdown",
   "id": "f7684e92-1cb5-4269-8761-b30a0cd34132",
   "metadata": {},
   "source": [
    "##### new code"
   ]
  },
  {
   "cell_type": "code",
   "execution_count": 29,
   "id": "f87386d0-7308-4560-ad62-1d4e955517a6",
   "metadata": {},
   "outputs": [],
   "source": [
    "# Create a copy of the filtered DataFrame\n",
    "filtered_df_cnbc_cs_copy = filtered_df_cnbc_cs.copy()\n",
    "\n",
    "# Count the occurrences of the phrases 'Credit Suisse' and 'CS' in each article's content in the copied DataFrame\n",
    "def count_credit_suisse(text):\n",
    "    return len(re.findall(r'credit\\s*suisse', text, re.IGNORECASE))\n",
    "    \n",
    "filtered_df_cnbc_cs_copy['credit_suisse_count'] = filtered_df_cnbc_cs_copy['article_content'].apply(count_credit_suisse)\n",
    "\n",
    "def count_cs(text):\n",
    "    return len(re.findall(r'(?<![a-zA-Z])CS(?![a-zA-Z])', text))\n",
    "\n",
    "filtered_df_cnbc_cs_copy['cs_count'] = filtered_df_cnbc_cs_copy['article_content'].apply(count_cs)\n",
    "\n",
    "\n",
    "# Filter articles based on multiple conditions\n",
    "credit_suisse_articles_cnbc = filtered_df_cnbc_cs_copy[\n",
    "    (filtered_df_cnbc_cs_copy['credit_suisse_count'] >= 2) |\n",
    "    (filtered_df_cnbc_cs_copy['cs_count'] >= 2) |\n",
    "    ((filtered_df_cnbc_cs_copy['credit_suisse_count'] >= 1) & (filtered_df_cnbc_cs_copy['cs_count'] >= 1))\n",
    "]\n"
   ]
  },
  {
   "cell_type": "code",
   "execution_count": 30,
   "id": "e898e479-bea8-4b27-ae11-dd23b161213f",
   "metadata": {},
   "outputs": [
    {
     "data": {
      "text/html": [
       "<div>\n",
       "<style scoped>\n",
       "    .dataframe tbody tr th:only-of-type {\n",
       "        vertical-align: middle;\n",
       "    }\n",
       "\n",
       "    .dataframe tbody tr th {\n",
       "        vertical-align: top;\n",
       "    }\n",
       "\n",
       "    .dataframe thead th {\n",
       "        text-align: right;\n",
       "    }\n",
       "</style>\n",
       "<table border=\"1\" class=\"dataframe\">\n",
       "  <thead>\n",
       "    <tr style=\"text-align: right;\">\n",
       "      <th></th>\n",
       "      <th>article_title</th>\n",
       "      <th>article_headline</th>\n",
       "      <th>article_content</th>\n",
       "      <th>text_date</th>\n",
       "      <th>article_url</th>\n",
       "      <th>credit_suisse_count</th>\n",
       "      <th>cs_count</th>\n",
       "    </tr>\n",
       "  </thead>\n",
       "  <tbody>\n",
       "    <tr>\n",
       "      <th>7</th>\n",
       "      <td>UBS says it has completed the takeover of stri...</td>\n",
       "      <td>UBS has completed the legal takeover of its fo...</td>\n",
       "      <td>In this article Swiss bank UBS on Monday said ...</td>\n",
       "      <td>2023-06-12 00:00:00+00:00</td>\n",
       "      <td>https://www.cnbc.com/2023/06/12/ubs-says-it-ha...</td>\n",
       "      <td>19</td>\n",
       "      <td>0</td>\n",
       "    </tr>\n",
       "    <tr>\n",
       "      <th>8</th>\n",
       "      <td>Credit Suisse logged asset outflows of more th...</td>\n",
       "      <td>Swiss authorities brokered the controversial 3...</td>\n",
       "      <td>In this article Credit Suisse on Monday reveal...</td>\n",
       "      <td>2023-04-24 00:00:00+00:00</td>\n",
       "      <td>https://www.cnbc.com/2023/04/24/credit-suisse-...</td>\n",
       "      <td>12</td>\n",
       "      <td>0</td>\n",
       "    </tr>\n",
       "    <tr>\n",
       "      <th>9</th>\n",
       "      <td>UBS expects $17 billion hit from Credit Suisse...</td>\n",
       "      <td>The bank's emergency acquisition of its strick...</td>\n",
       "      <td>UBS estimates a financial hit of around $17 bi...</td>\n",
       "      <td>2023-05-17 00:00:00+00:00</td>\n",
       "      <td>https://www.cnbc.com/2023/05/17/ubs-expects-17...</td>\n",
       "      <td>11</td>\n",
       "      <td>0</td>\n",
       "    </tr>\n",
       "    <tr>\n",
       "      <th>10</th>\n",
       "      <td>Swiss central bank promises regulation review ...</td>\n",
       "      <td>The central bank played a key role in brokerin...</td>\n",
       "      <td>The Swiss National Bank on Friday pledged to r...</td>\n",
       "      <td>2023-04-28 00:00:00+00:00</td>\n",
       "      <td>https://www.cnbc.com/2023/04/28/swiss-national...</td>\n",
       "      <td>9</td>\n",
       "      <td>0</td>\n",
       "    </tr>\n",
       "    <tr>\n",
       "      <th>11</th>\n",
       "      <td>Switzerland faced a full-scale bank run if Cre...</td>\n",
       "      <td>Allowing the bankruptcy of troubled lender Cre...</td>\n",
       "      <td>In this article Allowing the bankruptcy of tro...</td>\n",
       "      <td>2023-04-05 00:00:00+00:00</td>\n",
       "      <td>https://www.cnbc.com/2023/04/05/switzerland-fa...</td>\n",
       "      <td>18</td>\n",
       "      <td>1</td>\n",
       "    </tr>\n",
       "  </tbody>\n",
       "</table>\n",
       "</div>"
      ],
      "text/plain": [
       "                                        article_title  \\\n",
       "7   UBS says it has completed the takeover of stri...   \n",
       "8   Credit Suisse logged asset outflows of more th...   \n",
       "9   UBS expects $17 billion hit from Credit Suisse...   \n",
       "10  Swiss central bank promises regulation review ...   \n",
       "11  Switzerland faced a full-scale bank run if Cre...   \n",
       "\n",
       "                                     article_headline  \\\n",
       "7   UBS has completed the legal takeover of its fo...   \n",
       "8   Swiss authorities brokered the controversial 3...   \n",
       "9   The bank's emergency acquisition of its strick...   \n",
       "10  The central bank played a key role in brokerin...   \n",
       "11  Allowing the bankruptcy of troubled lender Cre...   \n",
       "\n",
       "                                      article_content  \\\n",
       "7   In this article Swiss bank UBS on Monday said ...   \n",
       "8   In this article Credit Suisse on Monday reveal...   \n",
       "9   UBS estimates a financial hit of around $17 bi...   \n",
       "10  The Swiss National Bank on Friday pledged to r...   \n",
       "11  In this article Allowing the bankruptcy of tro...   \n",
       "\n",
       "                   text_date  \\\n",
       "7  2023-06-12 00:00:00+00:00   \n",
       "8  2023-04-24 00:00:00+00:00   \n",
       "9  2023-05-17 00:00:00+00:00   \n",
       "10 2023-04-28 00:00:00+00:00   \n",
       "11 2023-04-05 00:00:00+00:00   \n",
       "\n",
       "                                          article_url  credit_suisse_count  \\\n",
       "7   https://www.cnbc.com/2023/06/12/ubs-says-it-ha...                   19   \n",
       "8   https://www.cnbc.com/2023/04/24/credit-suisse-...                   12   \n",
       "9   https://www.cnbc.com/2023/05/17/ubs-expects-17...                   11   \n",
       "10  https://www.cnbc.com/2023/04/28/swiss-national...                    9   \n",
       "11  https://www.cnbc.com/2023/04/05/switzerland-fa...                   18   \n",
       "\n",
       "    cs_count  \n",
       "7          0  \n",
       "8          0  \n",
       "9          0  \n",
       "10         0  \n",
       "11         1  "
      ]
     },
     "execution_count": 30,
     "metadata": {},
     "output_type": "execute_result"
    }
   ],
   "source": [
    "credit_suisse_articles_cnbc.head()"
   ]
  },
  {
   "cell_type": "code",
   "execution_count": 31,
   "id": "7d6b7a11-30c0-484d-a292-c0d23bf37f1c",
   "metadata": {},
   "outputs": [
    {
     "data": {
      "text/plain": [
       "133"
      ]
     },
     "execution_count": 31,
     "metadata": {},
     "output_type": "execute_result"
    }
   ],
   "source": [
    "len(credit_suisse_articles_cnbc)"
   ]
  },
  {
   "cell_type": "code",
   "execution_count": 33,
   "id": "569a8e33-1e00-467e-a58a-d96703262099",
   "metadata": {},
   "outputs": [],
   "source": [
    "# Calculate the word count for each article in the credit_suisse_articles DataFrame\n",
    "credit_suisse_articles_cnbc.loc[:, 'word_count'] = credit_suisse_articles_cnbc['article_content'].str.split().apply(len)\n"
   ]
  },
  {
   "cell_type": "code",
   "execution_count": null,
   "id": "ec0449e2-b214-434c-8338-cdb987fd0dc5",
   "metadata": {},
   "outputs": [],
   "source": []
  },
  {
   "cell_type": "code",
   "execution_count": 34,
   "id": "c9f41947-4bbd-47dd-8086-70f2ae4101ff",
   "metadata": {},
   "outputs": [],
   "source": [
    "# Sort the articles by date in ascending order\n",
    "credit_suisse_articles_cnbc_sorted = credit_suisse_articles_cnbc.sort_values(by='text_date')\n",
    "\n",
    "# Export the sorted DataFrame to a CSV file\n",
    "credit_suisse_articles_cnbc_sorted.to_csv('Prepped_Data/CS_CNBC_prepped.csv', index=False)"
   ]
  },
  {
   "cell_type": "code",
   "execution_count": 35,
   "id": "cd29f17f-1375-4d6f-b340-0b959c1240d0",
   "metadata": {},
   "outputs": [
    {
     "name": "stdout",
     "output_type": "stream",
     "text": [
      "Indices of Duplicate Rows Based on Specific Columns:\n",
      "Index([], dtype='int64')\n"
     ]
    }
   ],
   "source": [
    "duplicate_indices_specific_columns = credit_suisse_articles_cnbc_sorted[credit_suisse_articles_cnbc_sorted.duplicated(subset=['article_content'], keep=False)].index\n",
    "print(\"Indices of Duplicate Rows Based on Specific Columns:\")\n",
    "print(duplicate_indices_specific_columns)"
   ]
  },
  {
   "cell_type": "code",
   "execution_count": null,
   "id": "02bdbd84-57d8-4d86-9e58-960746823a43",
   "metadata": {},
   "outputs": [],
   "source": []
  },
  {
   "cell_type": "code",
   "execution_count": null,
   "id": "5c0f9d66-82aa-4d7f-bf08-53d0cf186f19",
   "metadata": {},
   "outputs": [],
   "source": []
  },
  {
   "cell_type": "markdown",
   "id": "a6d682cb-cc79-4aca-912e-c4ee5a1d6b79",
   "metadata": {},
   "source": [
    "### UBS Data prep"
   ]
  },
  {
   "cell_type": "code",
   "execution_count": null,
   "id": "23ca17a4-8ca0-4e95-91e5-c53b7fb53ef6",
   "metadata": {},
   "outputs": [],
   "source": []
  },
  {
   "cell_type": "code",
   "execution_count": null,
   "id": "0fc8cbe0-cd44-4be0-beff-1d5e26329574",
   "metadata": {},
   "outputs": [],
   "source": []
  },
  {
   "cell_type": "code",
   "execution_count": 46,
   "id": "49595e27-b1a8-47a4-975d-a2795679f6ba",
   "metadata": {},
   "outputs": [],
   "source": [
    "# import SRF UBS data\n",
    "file_path = \"Data/CNBC/CNBC_scraped_data_UBS_23_04.csv\"\n",
    "df_cnbc_ubs = pd.read_csv(file_path)"
   ]
  },
  {
   "cell_type": "code",
   "execution_count": 47,
   "id": "90fb018f-d8d6-464f-b485-e22304673ee6",
   "metadata": {},
   "outputs": [
    {
     "data": {
      "text/html": [
       "<div>\n",
       "<style scoped>\n",
       "    .dataframe tbody tr th:only-of-type {\n",
       "        vertical-align: middle;\n",
       "    }\n",
       "\n",
       "    .dataframe tbody tr th {\n",
       "        vertical-align: top;\n",
       "    }\n",
       "\n",
       "    .dataframe thead th {\n",
       "        text-align: right;\n",
       "    }\n",
       "</style>\n",
       "<table border=\"1\" class=\"dataframe\">\n",
       "  <thead>\n",
       "    <tr style=\"text-align: right;\">\n",
       "      <th></th>\n",
       "      <th>article_title</th>\n",
       "      <th>article_headline</th>\n",
       "      <th>article_content</th>\n",
       "      <th>text_date</th>\n",
       "      <th>article_url</th>\n",
       "    </tr>\n",
       "  </thead>\n",
       "  <tbody>\n",
       "    <tr>\n",
       "      <th>0</th>\n",
       "      <td>'Lose-lose situation': New Swiss bank laws cou...</td>\n",
       "      <td>In a 209-page plan published Wednesday, the Sw...</td>\n",
       "      <td>Switzerland's tough new banking regulations cr...</td>\n",
       "      <td>2024-04-11</td>\n",
       "      <td>https://www.cnbc.com/2024/04/11/lose-lose-situ...</td>\n",
       "    </tr>\n",
       "    <tr>\n",
       "      <th>1</th>\n",
       "      <td>Swiss banking giant UBS to launch share buybac...</td>\n",
       "      <td>\"Our ambition is for share repurchases to exce...</td>\n",
       "      <td>UBS on Tuesday announced a new share repurchas...</td>\n",
       "      <td>2024-04-02</td>\n",
       "      <td>https://www.cnbc.com/2024/04/02/swiss-banking-...</td>\n",
       "    </tr>\n",
       "    <tr>\n",
       "      <th>2</th>\n",
       "      <td>UBS CEO says integrating Credit Suisse will be...</td>\n",
       "      <td>Credit Suisse collapsed in March 2023 followin...</td>\n",
       "      <td>In this article The mammoth integration of fai...</td>\n",
       "      <td>2024-04-05</td>\n",
       "      <td>https://www.cnbc.com/2024/04/05/ubs-ceo-says-c...</td>\n",
       "    </tr>\n",
       "    <tr>\n",
       "      <th>3</th>\n",
       "      <td>UBS chief's surprise return to the Swiss banki...</td>\n",
       "      <td>The bank announced in late March that Ermotti ...</td>\n",
       "      <td>UBS CEO Sergio Ermotti earned 14.4 million Swi...</td>\n",
       "      <td>NaN</td>\n",
       "      <td>https://www.cnbc.com/2024/03/28/ubs-chiefs-sur...</td>\n",
       "    </tr>\n",
       "    <tr>\n",
       "      <th>4</th>\n",
       "      <td>UBS beats earnings expectations, announces up ...</td>\n",
       "      <td>The group posted a net loss attributable to sh...</td>\n",
       "      <td>Swiss banking giant UBS on Tuesday narrowly be...</td>\n",
       "      <td>2024-02-06</td>\n",
       "      <td>https://www.cnbc.com/2024/02/06/ubs-beats-earn...</td>\n",
       "    </tr>\n",
       "  </tbody>\n",
       "</table>\n",
       "</div>"
      ],
      "text/plain": [
       "                                       article_title  \\\n",
       "0  'Lose-lose situation': New Swiss bank laws cou...   \n",
       "1  Swiss banking giant UBS to launch share buybac...   \n",
       "2  UBS CEO says integrating Credit Suisse will be...   \n",
       "3  UBS chief's surprise return to the Swiss banki...   \n",
       "4  UBS beats earnings expectations, announces up ...   \n",
       "\n",
       "                                    article_headline  \\\n",
       "0  In a 209-page plan published Wednesday, the Sw...   \n",
       "1  \"Our ambition is for share repurchases to exce...   \n",
       "2  Credit Suisse collapsed in March 2023 followin...   \n",
       "3  The bank announced in late March that Ermotti ...   \n",
       "4  The group posted a net loss attributable to sh...   \n",
       "\n",
       "                                     article_content   text_date  \\\n",
       "0  Switzerland's tough new banking regulations cr...  2024-04-11   \n",
       "1  UBS on Tuesday announced a new share repurchas...  2024-04-02   \n",
       "2  In this article The mammoth integration of fai...  2024-04-05   \n",
       "3  UBS CEO Sergio Ermotti earned 14.4 million Swi...         NaN   \n",
       "4  Swiss banking giant UBS on Tuesday narrowly be...  2024-02-06   \n",
       "\n",
       "                                         article_url  \n",
       "0  https://www.cnbc.com/2024/04/11/lose-lose-situ...  \n",
       "1  https://www.cnbc.com/2024/04/02/swiss-banking-...  \n",
       "2  https://www.cnbc.com/2024/04/05/ubs-ceo-says-c...  \n",
       "3  https://www.cnbc.com/2024/03/28/ubs-chiefs-sur...  \n",
       "4  https://www.cnbc.com/2024/02/06/ubs-beats-earn...  "
      ]
     },
     "execution_count": 47,
     "metadata": {},
     "output_type": "execute_result"
    }
   ],
   "source": [
    "df_cnbc_ubs.head()"
   ]
  },
  {
   "cell_type": "markdown",
   "id": "671ee2d7-347f-4ec0-860f-6f98c3d5f674",
   "metadata": {},
   "source": [
    "#### fill missing values in text_date column"
   ]
  },
  {
   "cell_type": "code",
   "execution_count": 48,
   "id": "5bbf8626-a1e3-46d2-bd94-dd5e5bfc414a",
   "metadata": {},
   "outputs": [],
   "source": [
    "#fill missing values\n",
    "df_cnbc_ubs['text_date'] = df_cnbc_ubs.apply(lambda row: extract_date_from_url(row['article_url']) if pd.isna(row['text_date']) else row['text_date'], axis=1)"
   ]
  },
  {
   "cell_type": "code",
   "execution_count": 49,
   "id": "7e8a53f3-ae1c-477c-8dce-125d8f5d4153",
   "metadata": {},
   "outputs": [
    {
     "data": {
      "text/html": [
       "<div>\n",
       "<style scoped>\n",
       "    .dataframe tbody tr th:only-of-type {\n",
       "        vertical-align: middle;\n",
       "    }\n",
       "\n",
       "    .dataframe tbody tr th {\n",
       "        vertical-align: top;\n",
       "    }\n",
       "\n",
       "    .dataframe thead th {\n",
       "        text-align: right;\n",
       "    }\n",
       "</style>\n",
       "<table border=\"1\" class=\"dataframe\">\n",
       "  <thead>\n",
       "    <tr style=\"text-align: right;\">\n",
       "      <th></th>\n",
       "      <th>article_title</th>\n",
       "      <th>article_headline</th>\n",
       "      <th>article_content</th>\n",
       "      <th>text_date</th>\n",
       "      <th>article_url</th>\n",
       "    </tr>\n",
       "  </thead>\n",
       "  <tbody>\n",
       "    <tr>\n",
       "      <th>0</th>\n",
       "      <td>'Lose-lose situation': New Swiss bank laws cou...</td>\n",
       "      <td>In a 209-page plan published Wednesday, the Sw...</td>\n",
       "      <td>Switzerland's tough new banking regulations cr...</td>\n",
       "      <td>2024-04-11</td>\n",
       "      <td>https://www.cnbc.com/2024/04/11/lose-lose-situ...</td>\n",
       "    </tr>\n",
       "    <tr>\n",
       "      <th>1</th>\n",
       "      <td>Swiss banking giant UBS to launch share buybac...</td>\n",
       "      <td>\"Our ambition is for share repurchases to exce...</td>\n",
       "      <td>UBS on Tuesday announced a new share repurchas...</td>\n",
       "      <td>2024-04-02</td>\n",
       "      <td>https://www.cnbc.com/2024/04/02/swiss-banking-...</td>\n",
       "    </tr>\n",
       "    <tr>\n",
       "      <th>2</th>\n",
       "      <td>UBS CEO says integrating Credit Suisse will be...</td>\n",
       "      <td>Credit Suisse collapsed in March 2023 followin...</td>\n",
       "      <td>In this article The mammoth integration of fai...</td>\n",
       "      <td>2024-04-05</td>\n",
       "      <td>https://www.cnbc.com/2024/04/05/ubs-ceo-says-c...</td>\n",
       "    </tr>\n",
       "    <tr>\n",
       "      <th>3</th>\n",
       "      <td>UBS chief's surprise return to the Swiss banki...</td>\n",
       "      <td>The bank announced in late March that Ermotti ...</td>\n",
       "      <td>UBS CEO Sergio Ermotti earned 14.4 million Swi...</td>\n",
       "      <td>2024-03-28</td>\n",
       "      <td>https://www.cnbc.com/2024/03/28/ubs-chiefs-sur...</td>\n",
       "    </tr>\n",
       "    <tr>\n",
       "      <th>4</th>\n",
       "      <td>UBS beats earnings expectations, announces up ...</td>\n",
       "      <td>The group posted a net loss attributable to sh...</td>\n",
       "      <td>Swiss banking giant UBS on Tuesday narrowly be...</td>\n",
       "      <td>2024-02-06</td>\n",
       "      <td>https://www.cnbc.com/2024/02/06/ubs-beats-earn...</td>\n",
       "    </tr>\n",
       "  </tbody>\n",
       "</table>\n",
       "</div>"
      ],
      "text/plain": [
       "                                       article_title  \\\n",
       "0  'Lose-lose situation': New Swiss bank laws cou...   \n",
       "1  Swiss banking giant UBS to launch share buybac...   \n",
       "2  UBS CEO says integrating Credit Suisse will be...   \n",
       "3  UBS chief's surprise return to the Swiss banki...   \n",
       "4  UBS beats earnings expectations, announces up ...   \n",
       "\n",
       "                                    article_headline  \\\n",
       "0  In a 209-page plan published Wednesday, the Sw...   \n",
       "1  \"Our ambition is for share repurchases to exce...   \n",
       "2  Credit Suisse collapsed in March 2023 followin...   \n",
       "3  The bank announced in late March that Ermotti ...   \n",
       "4  The group posted a net loss attributable to sh...   \n",
       "\n",
       "                                     article_content   text_date  \\\n",
       "0  Switzerland's tough new banking regulations cr...  2024-04-11   \n",
       "1  UBS on Tuesday announced a new share repurchas...  2024-04-02   \n",
       "2  In this article The mammoth integration of fai...  2024-04-05   \n",
       "3  UBS CEO Sergio Ermotti earned 14.4 million Swi...  2024-03-28   \n",
       "4  Swiss banking giant UBS on Tuesday narrowly be...  2024-02-06   \n",
       "\n",
       "                                         article_url  \n",
       "0  https://www.cnbc.com/2024/04/11/lose-lose-situ...  \n",
       "1  https://www.cnbc.com/2024/04/02/swiss-banking-...  \n",
       "2  https://www.cnbc.com/2024/04/05/ubs-ceo-says-c...  \n",
       "3  https://www.cnbc.com/2024/03/28/ubs-chiefs-sur...  \n",
       "4  https://www.cnbc.com/2024/02/06/ubs-beats-earn...  "
      ]
     },
     "execution_count": 49,
     "metadata": {},
     "output_type": "execute_result"
    }
   ],
   "source": [
    "df_cnbc_ubs.head()"
   ]
  },
  {
   "cell_type": "code",
   "execution_count": 50,
   "id": "5606a4b9-c9be-41b4-8984-a3bfbdf72b31",
   "metadata": {},
   "outputs": [
    {
     "data": {
      "text/plain": [
       "217"
      ]
     },
     "execution_count": 50,
     "metadata": {},
     "output_type": "execute_result"
    }
   ],
   "source": [
    "len(df_cnbc_ubs)"
   ]
  },
  {
   "cell_type": "code",
   "execution_count": 51,
   "id": "4d2bb383-b576-4d18-84f7-b4ccc232966e",
   "metadata": {},
   "outputs": [],
   "source": [
    "# Convert 'text_date' column to datetime type, considering timezone information\n",
    "df_cnbc_ubs['text_date'] = pd.to_datetime(df_cnbc_ubs['text_date'], utc=True)\n",
    "\n",
    "# Define the start and end dates of the desired range\n",
    "start_date = pd.Timestamp('2019-01-01', tz='UTC')\n",
    "end_date = pd.Timestamp('2023-06-30', tz='UTC')\n",
    "\n",
    "# Filter the DataFrame to include only articles within the specified date range\n",
    "filtered_df_cnbc_ubs = df_cnbc_ubs[(df_cnbc_ubs['text_date'] >= start_date) & (df_cnbc_ubs['text_date'] <= end_date)]"
   ]
  },
  {
   "cell_type": "code",
   "execution_count": 52,
   "id": "75d77d25-480b-404d-96ff-ed12c32588c5",
   "metadata": {},
   "outputs": [
    {
     "data": {
      "text/plain": [
       "127"
      ]
     },
     "execution_count": 52,
     "metadata": {},
     "output_type": "execute_result"
    }
   ],
   "source": [
    "len(filtered_df_cnbc_ubs)"
   ]
  },
  {
   "cell_type": "markdown",
   "id": "a6ab539f-8d34-4a45-b6f6-d3527d98e113",
   "metadata": {},
   "source": [
    "#### filter by relevancy"
   ]
  },
  {
   "cell_type": "markdown",
   "id": "520d3d95-53b8-4eb4-a219-e0b490a8ae92",
   "metadata": {},
   "source": [
    "##### old code"
   ]
  },
  {
   "cell_type": "code",
   "execution_count": 44,
   "id": "6e68afc2-ca20-4921-98b9-3575e25819a3",
   "metadata": {},
   "outputs": [],
   "source": [
    "# Create a copy of the filtered DataFrame\n",
    "#filtered_df_cnbc_ubs_copy = filtered_df_cnbc_ubs.copy()\n",
    "\n",
    "# Count the occurrences of the phrases 'Credit Suisse' and 'CS' in each article's content in the copied DataFrame\n",
    "#filtered_df_cnbc_ubs_copy['UBS_count'] = filtered_df_cnbc_ubs_copy['article_content'].str.count('UBS')\n",
    "\n",
    "# Filter articles containing 'Credit Suisse' at least twice in their content\n",
    "#UBS_articles_cnbc = filtered_df_cnbc_ubs_copy[filtered_df_cnbc_ubs_copy['UBS_count'] >= 2]"
   ]
  },
  {
   "cell_type": "markdown",
   "id": "28da3055-acad-4679-bdd8-c0f4a2e157ba",
   "metadata": {},
   "source": [
    "##### new code"
   ]
  },
  {
   "cell_type": "code",
   "execution_count": 53,
   "id": "670e2ad5-3e34-4453-8750-3bd036450de7",
   "metadata": {},
   "outputs": [],
   "source": [
    "# Create a copy of the filtered DataFrame\n",
    "filtered_df_cnbc_ubs_copy = filtered_df_cnbc_ubs.copy()\n",
    "\n",
    "# Count the occurrences of the phrases 'Credit Suisse' and 'CS' in each article's content in the copied DataFrame\n",
    "def count_ubs(text):\n",
    "    return len(re.findall(r'(?<![a-zA-Z])UBS(?![a-zA-Z])', text))\n",
    "    \n",
    "filtered_df_cnbc_ubs_copy['UBS_count'] = filtered_df_cnbc_ubs_copy['article_content'].apply(count_ubs)\n",
    "\n",
    "# Filter articles containing 'Credit Suisse' at least twice in their content\n",
    "UBS_articles_cnbc = filtered_df_cnbc_ubs_copy[filtered_df_cnbc_ubs_copy['UBS_count'] >= 2]"
   ]
  },
  {
   "cell_type": "code",
   "execution_count": null,
   "id": "10b343fa-9330-4477-8f9d-8d9514b08881",
   "metadata": {},
   "outputs": [],
   "source": []
  },
  {
   "cell_type": "code",
   "execution_count": 54,
   "id": "77f7ed40-fed0-465c-beea-62a844061926",
   "metadata": {},
   "outputs": [
    {
     "data": {
      "text/plain": [
       "110"
      ]
     },
     "execution_count": 54,
     "metadata": {},
     "output_type": "execute_result"
    }
   ],
   "source": [
    "len(UBS_articles_cnbc)"
   ]
  },
  {
   "cell_type": "code",
   "execution_count": 56,
   "id": "3fd16ba7-39f5-422d-9f53-d26da0e60513",
   "metadata": {},
   "outputs": [],
   "source": [
    "# Calculate the word count for each article in the credit_suisse_articles DataFrame\n",
    "UBS_articles_cnbc.loc[:, 'word_count'] = UBS_articles_cnbc['article_content'].str.split().apply(len)"
   ]
  },
  {
   "cell_type": "code",
   "execution_count": 57,
   "id": "173c96be-5253-47c4-8ae2-7884639f7900",
   "metadata": {},
   "outputs": [],
   "source": [
    "# Sort the articles by date in ascending order\n",
    "UBS_articles_cnbc_sorted = UBS_articles_cnbc.sort_values(by='text_date')\n",
    "\n",
    "# Export the sorted DataFrame to a CSV file\n",
    "UBS_articles_cnbc_sorted.to_csv('Prepped_Data/UBS_CNBC_prepped.csv', index=False)"
   ]
  },
  {
   "cell_type": "code",
   "execution_count": 59,
   "id": "6064d7d9-3d1b-494b-8eda-5b6b6f8804f6",
   "metadata": {},
   "outputs": [
    {
     "name": "stdout",
     "output_type": "stream",
     "text": [
      "Indices of Duplicate Rows Based on Specific Columns:\n",
      "Index([], dtype='int64')\n"
     ]
    }
   ],
   "source": [
    "duplicate_indices_specific_columns = UBS_articles_cnbc_sorted[UBS_articles_cnbc_sorted.duplicated(subset=['article_content'], keep=False)].index\n",
    "print(\"Indices of Duplicate Rows Based on Specific Columns:\")\n",
    "print(duplicate_indices_specific_columns)"
   ]
  }
 ],
 "metadata": {
  "kernelspec": {
   "display_name": "Python 3 (ipykernel)",
   "language": "python",
   "name": "python3"
  },
  "language_info": {
   "codemirror_mode": {
    "name": "ipython",
    "version": 3
   },
   "file_extension": ".py",
   "mimetype": "text/x-python",
   "name": "python",
   "nbconvert_exporter": "python",
   "pygments_lexer": "ipython3",
   "version": "3.12.2"
  }
 },
 "nbformat": 4,
 "nbformat_minor": 5
}
