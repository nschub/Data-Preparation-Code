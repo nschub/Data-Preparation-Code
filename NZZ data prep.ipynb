{
 "cells": [
  {
   "cell_type": "code",
   "execution_count": 17,
   "id": "485f0014-f143-448c-b6e7-1b4fb8afab03",
   "metadata": {},
   "outputs": [],
   "source": [
    "import pandas as pd\n",
    "import numpy as np\n",
    "import re\n",
    "from IPython.display import display"
   ]
  },
  {
   "cell_type": "markdown",
   "id": "91978ddc-388d-45e5-9ccf-a00ed7c2402e",
   "metadata": {},
   "source": [
    "## NZZ CS DATA PREP"
   ]
  },
  {
   "cell_type": "markdown",
   "id": "0eb3e002-c7cd-4a64-9565-123f1c1226eb",
   "metadata": {},
   "source": [
    "#### import and merge data"
   ]
  },
  {
   "cell_type": "code",
   "execution_count": 18,
   "id": "65922813-aad9-4460-8100-945ced0186c7",
   "metadata": {},
   "outputs": [],
   "source": [
    "# import nzz cs data\n",
    "\n",
    "file_paths = [\n",
    "    \"Data/NZZ/nzz_scraped_data_CS_april_part1.csv\",\n",
    "    \"Data/NZZ/nzz_scraped_data_CS_april_part2.csv\",\n",
    "    \"Data/NZZ/nzz_scraped_data_CS_april_part3.csv\",\n",
    "    \"Data/NZZ/nzz_scraped_data_CS_april_part4.csv\",\n",
    "    \"Data/NZZ/nzz_scraped_data_CS_april_part5.csv\"\n",
    "]\n",
    "\n",
    "# List to store DataFrames\n",
    "dfs = []\n",
    "\n",
    "# Read each CSV file into a DataFrame and append to the list\n",
    "for file_path in file_paths:\n",
    "    df = pd.read_csv(file_path)\n",
    "    dfs.append(df)\n",
    "\n",
    "# Concatenate all DataFrames into a single DataFrame\n",
    "nzz_data_CS_merged = pd.concat(dfs, ignore_index=True)"
   ]
  },
  {
   "cell_type": "code",
   "execution_count": 19,
   "id": "21b320bc-1e0c-4b30-a329-fb1cb59fdb31",
   "metadata": {},
   "outputs": [
    {
     "data": {
      "text/plain": [
       "1557"
      ]
     },
     "execution_count": 19,
     "metadata": {},
     "output_type": "execute_result"
    }
   ],
   "source": [
    "len(nzz_data_CS_merged)"
   ]
  },
  {
   "cell_type": "code",
   "execution_count": 20,
   "id": "173cc137-a18c-4d4d-aa7b-df835e765b64",
   "metadata": {},
   "outputs": [
    {
     "data": {
      "text/html": [
       "<div>\n",
       "<style scoped>\n",
       "    .dataframe tbody tr th:only-of-type {\n",
       "        vertical-align: middle;\n",
       "    }\n",
       "\n",
       "    .dataframe tbody tr th {\n",
       "        vertical-align: top;\n",
       "    }\n",
       "\n",
       "    .dataframe thead th {\n",
       "        text-align: right;\n",
       "    }\n",
       "</style>\n",
       "<table border=\"1\" class=\"dataframe\">\n",
       "  <thead>\n",
       "    <tr style=\"text-align: right;\">\n",
       "      <th></th>\n",
       "      <th>article_title</th>\n",
       "      <th>headline</th>\n",
       "      <th>article_content</th>\n",
       "      <th>text_date</th>\n",
       "    </tr>\n",
       "  </thead>\n",
       "  <tbody>\n",
       "    <tr>\n",
       "      <th>0</th>\n",
       "      <td>Die neue «Savoy Brasserie &amp; Bar»: Prestige un...</td>\n",
       "      <td>Das traditionsreiche Hotel Savoy im Herzen Zür...</td>\n",
       "      <td>Er bildet beim Monopoly nicht zufällig das beg...</td>\n",
       "      <td>18.04.2024</td>\n",
       "    </tr>\n",
       "    <tr>\n",
       "      <th>1</th>\n",
       "      <td>Briefing am Mittwochabend</td>\n",
       "      <td>Nationalrat gegen Beitritt zur Oligarchen-Task...</td>\n",
       "      <td>Das Wichtigste am Abend: Die Ablehnung des Bei...</td>\n",
       "      <td>17.04.2024</td>\n",
       "    </tr>\n",
       "    <tr>\n",
       "      <th>2</th>\n",
       "      <td>Chefwechsel bei CS-Tochter Bank Now: Nun sieh...</td>\n",
       "      <td>Die Konsumkreditbank gehört seit der CS-Überna...</td>\n",
       "      <td>Die Integration der CS in die UBS macht sich –...</td>\n",
       "      <td>17.04.2024</td>\n",
       "    </tr>\n",
       "    <tr>\n",
       "      <th>3</th>\n",
       "      <td>Reports flow into Swiss money laundering auth...</td>\n",
       "      <td>What role does Switzerland’s financial sector ...</td>\n",
       "      <td>Last November, in the wake of Hamas' attack on...</td>\n",
       "      <td>17.04.2024</td>\n",
       "    </tr>\n",
       "    <tr>\n",
       "      <th>4</th>\n",
       "      <td>Krieg in der Ukraine, Krieg in Nahost: Doch d...</td>\n",
       "      <td>Die Welt steht in Flammen. Die Schweiz aber ma...</td>\n",
       "      <td>Die Schweizer können bekanntlich fast alles. ...</td>\n",
       "      <td>17.04.2024</td>\n",
       "    </tr>\n",
       "  </tbody>\n",
       "</table>\n",
       "</div>"
      ],
      "text/plain": [
       "                                       article_title  \\\n",
       "0   Die neue «Savoy Brasserie & Bar»: Prestige un...   \n",
       "1                          Briefing am Mittwochabend   \n",
       "2   Chefwechsel bei CS-Tochter Bank Now: Nun sieh...   \n",
       "3   Reports flow into Swiss money laundering auth...   \n",
       "4   Krieg in der Ukraine, Krieg in Nahost: Doch d...   \n",
       "\n",
       "                                            headline  \\\n",
       "0  Das traditionsreiche Hotel Savoy im Herzen Zür...   \n",
       "1  Nationalrat gegen Beitritt zur Oligarchen-Task...   \n",
       "2  Die Konsumkreditbank gehört seit der CS-Überna...   \n",
       "3  What role does Switzerland’s financial sector ...   \n",
       "4  Die Welt steht in Flammen. Die Schweiz aber ma...   \n",
       "\n",
       "                                     article_content   text_date  \n",
       "0  Er bildet beim Monopoly nicht zufällig das beg...  18.04.2024  \n",
       "1  Das Wichtigste am Abend: Die Ablehnung des Bei...  17.04.2024  \n",
       "2  Die Integration der CS in die UBS macht sich –...  17.04.2024  \n",
       "3  Last November, in the wake of Hamas' attack on...  17.04.2024  \n",
       "4   Die Schweizer können bekanntlich fast alles. ...  17.04.2024  "
      ]
     },
     "execution_count": 20,
     "metadata": {},
     "output_type": "execute_result"
    }
   ],
   "source": [
    "nzz_data_CS_merged.head()"
   ]
  },
  {
   "cell_type": "markdown",
   "id": "bced84d6-9210-4ff7-bcf3-a7777f8477a4",
   "metadata": {},
   "source": [
    "#### remove duplicates"
   ]
  },
  {
   "cell_type": "code",
   "execution_count": 21,
   "id": "afc19007-e99c-496a-85df-6e44a1945699",
   "metadata": {},
   "outputs": [
    {
     "name": "stdout",
     "output_type": "stream",
     "text": [
      "Indices of All Occurrences of Duplicate Rows:\n",
      "Index([125, 126, 571, 577, 690, 691], dtype='int64')\n"
     ]
    }
   ],
   "source": [
    "# Check for duplicates in the merged DataFrame, keeping all occurrences\n",
    "all_occurrences_indices = nzz_data_CS_merged[nzz_data_CS_merged.duplicated(keep=False)].index\n",
    "\n",
    "# Display the indices of all occurrences of duplicate rows\n",
    "print(\"Indices of All Occurrences of Duplicate Rows:\")\n",
    "print(all_occurrences_indices)"
   ]
  },
  {
   "cell_type": "code",
   "execution_count": 22,
   "id": "05c28874-1457-43be-b94c-cb041b6802f7",
   "metadata": {},
   "outputs": [
    {
     "name": "stdout",
     "output_type": "stream",
     "text": [
      "Indices of Duplicate Rows Based on Specific Columns:\n",
      "Index([93, 94, 96, 98, 105, 106, 125, 126, 571, 577, 690, 691], dtype='int64')\n"
     ]
    }
   ],
   "source": [
    "duplicate_indices_specific_columns = nzz_data_CS_merged[nzz_data_CS_merged.duplicated(subset=['article_content'], keep=False)].index\n",
    "print(\"Indices of Duplicate Rows Based on Specific Columns:\")\n",
    "print(duplicate_indices_specific_columns)"
   ]
  },
  {
   "cell_type": "code",
   "execution_count": 23,
   "id": "9ab52f02-3a93-4773-a56a-537290dd59b2",
   "metadata": {},
   "outputs": [],
   "source": [
    "# Remove duplicate rows based on specific columns\n",
    "nzz_data_CS_merged_no_dups = nzz_data_CS_merged.drop_duplicates(subset=['article_content'], keep='first')"
   ]
  },
  {
   "cell_type": "code",
   "execution_count": 24,
   "id": "64dd5646-254e-4048-bdee-c065a32a0bf9",
   "metadata": {},
   "outputs": [
    {
     "name": "stdout",
     "output_type": "stream",
     "text": [
      "1551\n",
      "1557\n"
     ]
    }
   ],
   "source": [
    "print(len(nzz_data_CS_merged_no_dups))\n",
    "print(len(nzz_data_CS_merged))"
   ]
  },
  {
   "cell_type": "code",
   "execution_count": 39,
   "id": "edebdf16-7ff9-4be4-8da8-b36ee989f959",
   "metadata": {},
   "outputs": [],
   "source": [
    "#nzz_data_CS_merged.loc[126, \"article_content\"]"
   ]
  },
  {
   "cell_type": "markdown",
   "id": "428c2b64-85ed-4c0c-ae4f-06c5ab2eb5bc",
   "metadata": {},
   "source": [
    "#### Filter by date"
   ]
  },
  {
   "cell_type": "code",
   "execution_count": 25,
   "id": "bb81260c-1d0f-4280-bce2-d9baecfdae2f",
   "metadata": {},
   "outputs": [],
   "source": [
    "# Create a copy of the DataFrames\n",
    "nzz_data_CS_merged_no_dups_copy = nzz_data_CS_merged_no_dups.copy()\n",
    "\n",
    "# Convert 'text_date' column to datetime type, considering timezone information\n",
    "nzz_data_CS_merged_no_dups_copy['text_date'] = pd.to_datetime(nzz_data_CS_merged_no_dups_copy['text_date'], utc=True, format='%d.%m.%Y', errors='coerce')\n",
    "\n",
    "# Define the start and end dates of the desired range\n",
    "start_date = pd.Timestamp('2019-01-01', tz='UTC')\n",
    "end_date = pd.Timestamp('2023-06-30', tz='UTC')\n",
    "\n",
    "# Filter the DataFrame to include only articles within the specified date range\n",
    "filtered_df_nzz_cs = nzz_data_CS_merged_no_dups_copy[(nzz_data_CS_merged_no_dups_copy['text_date'] >= start_date) & (nzz_data_CS_merged_no_dups_copy['text_date'] <= end_date)]"
   ]
  },
  {
   "cell_type": "code",
   "execution_count": 26,
   "id": "07d1ca46-6af9-477c-9ea5-5ba57abfba39",
   "metadata": {},
   "outputs": [
    {
     "data": {
      "text/plain": [
       "1239"
      ]
     },
     "execution_count": 26,
     "metadata": {},
     "output_type": "execute_result"
    }
   ],
   "source": [
    "len(filtered_df_nzz_cs)"
   ]
  },
  {
   "cell_type": "markdown",
   "id": "5e9f3da5-a2dd-4675-b2e7-2b146e883569",
   "metadata": {},
   "source": [
    "#### Filter by relevancy"
   ]
  },
  {
   "cell_type": "markdown",
   "id": "a3220822-644f-46e3-9f33-c98e69a44ac9",
   "metadata": {},
   "source": [
    "##### look for variants of Credit Suisse"
   ]
  },
  {
   "cell_type": "code",
   "execution_count": 16,
   "id": "2f022c19-4acd-4dea-824b-74d90bd47ebf",
   "metadata": {},
   "outputs": [
    {
     "name": "stdout",
     "output_type": "stream",
     "text": [
      "Any articles contain 'credit suisse' or 'CREDIT SUISSE'? True\n",
      "Number of articles that contain 'credit suisse' or 'CREDIT SUISSE': 105\n"
     ]
    }
   ],
   "source": [
    "filtered_df_nzz_cs_copy = filtered_df_nzz_cs.copy()\n",
    "\n",
    "# Create a boolean Series where each element is True if the corresponding article contains 'credit suisse' or 'CREDIT SUISSE'\n",
    "\n",
    "contains_lower = filtered_df_nzz_cs_copy['article_content'].str.contains('Credit-Suisse', case=True)\n",
    "contains_upper = filtered_df_nzz_cs_copy['article_content'].str.contains('credit suisse', case=True)\n",
    "\n",
    "# Combine the two Series using the bitwise OR operator\n",
    "\n",
    "contains_either = contains_lower | contains_upper\n",
    "\n",
    "# Check if any articles contain 'credit suisse' or 'CREDIT SUISSE'\n",
    "\n",
    "any_contains_either = contains_either.any()\n",
    "\n",
    "print(f\"Any articles contain 'credit suisse' or 'CREDIT SUISSE'? {any_contains_either}\")\n",
    "\n",
    "num_contains_either = contains_either.sum()\n",
    "\n",
    "print(f\"Number of articles that contain 'credit suisse' or 'CREDIT SUISSE': {num_contains_either}\")"
   ]
  },
  {
   "cell_type": "markdown",
   "id": "e5bf1de7-3fb2-4aad-9ec3-6254880764a3",
   "metadata": {},
   "source": [
    "##### new code"
   ]
  },
  {
   "cell_type": "code",
   "execution_count": 27,
   "id": "e1232535-d8aa-4ef7-acc9-639a9ed24b10",
   "metadata": {},
   "outputs": [],
   "source": [
    "# Create a copy of the filtered DataFrame\n",
    "filtered_df_nzz_cs_copy = filtered_df_nzz_cs.copy()\n",
    "\n",
    "# Count the occurrences of the phrases 'Credit Suisse' and 'CS' in each article's content in the copied DataFrame\n",
    "def count_credit_suisse(text):\n",
    "    return len(re.findall(r'credit[-\\s]*suisse', text, re.IGNORECASE))\n",
    "    \n",
    "filtered_df_nzz_cs_copy['credit_suisse_count'] = filtered_df_nzz_cs_copy['article_content'].apply(count_credit_suisse)\n",
    "\n",
    "def count_cs(text):\n",
    "    return len(re.findall(r'(?<![a-zA-Z])CS(?![a-zA-Z])', text))\n",
    "\n",
    "filtered_df_nzz_cs_copy['cs_count'] = filtered_df_nzz_cs_copy['article_content'].apply(count_cs)\n",
    "\n",
    "# Filter articles based on multiple conditions\n",
    "nzz_credit_suisse_articles = filtered_df_nzz_cs_copy[\n",
    "    (filtered_df_nzz_cs_copy['credit_suisse_count'] >= 2) |\n",
    "    (filtered_df_nzz_cs_copy['cs_count'] >= 2) |\n",
    "    ((filtered_df_nzz_cs_copy['credit_suisse_count'] >= 1) & (filtered_df_nzz_cs_copy['cs_count'] >= 1))\n",
    "]\n"
   ]
  },
  {
   "cell_type": "markdown",
   "id": "0e0d2582-e899-4f25-8ecd-6448030ba28d",
   "metadata": {},
   "source": [
    "##### old code"
   ]
  },
  {
   "cell_type": "code",
   "execution_count": 103,
   "id": "5bc1f1f6-61ea-4cd3-a845-6c117f8a1863",
   "metadata": {},
   "outputs": [],
   "source": [
    "# Create a copy of the filtered DataFrame\n",
    "#filtered_df_nzz_cs_copy = filtered_df_nzz_cs.copy()\n",
    "\n",
    "# Count the occurrences of the phrases 'Credit Suisse' and 'CS' in each article's content in the copied DataFrame\n",
    "#filtered_df_nzz_cs_copy['credit_suisse_count'] = filtered_df_nzz_cs_copy['article_content'].str.count('Credit Suisse')\n",
    "\n",
    "#def count_cs(text):\n",
    "#    return len(re.findall(r'CS(?![a-zA-Z])', text))\n",
    "\n",
    "#filtered_df_nzz_cs_copy['cs_count'] = filtered_df_nzz_cs_copy['article_content'].apply(count_cs)\n",
    "\n",
    "# Filter articles based on multiple conditions\n",
    "#nzz_credit_suisse_articles = filtered_df_nzz_cs_copy[\n",
    "#    (filtered_df_nzz_cs_copy['credit_suisse_count'] >= 2) |\n",
    "#    (filtered_df_nzz_cs_copy['cs_count'] >= 2) |\n",
    "#    ((filtered_df_nzz_cs_copy['credit_suisse_count'] >= 1) & (filtered_df_nzz_cs_copy['cs_count'] >= 1))\n",
    "#]\n"
   ]
  },
  {
   "cell_type": "code",
   "execution_count": 28,
   "id": "346787f5-8dbc-4c8b-a8d4-f384e4c218a6",
   "metadata": {},
   "outputs": [
    {
     "data": {
      "text/plain": [
       "1029"
      ]
     },
     "execution_count": 28,
     "metadata": {},
     "output_type": "execute_result"
    }
   ],
   "source": [
    "len(nzz_credit_suisse_articles)"
   ]
  },
  {
   "cell_type": "code",
   "execution_count": 104,
   "id": "72a47987-5c17-43aa-9c6b-b026b5ccd2d5",
   "metadata": {},
   "outputs": [
    {
     "data": {
      "text/plain": [
       "1025"
      ]
     },
     "execution_count": 104,
     "metadata": {},
     "output_type": "execute_result"
    }
   ],
   "source": [
    "#len(nzz_credit_suisse_articles) #output for old method -> so 3 more articles removed."
   ]
  },
  {
   "cell_type": "code",
   "execution_count": 30,
   "id": "5d98a92c-8d3a-4c12-b859-0e64d79477a3",
   "metadata": {},
   "outputs": [],
   "source": [
    "# Calculate the word count for each article in the credit_suisse_articles DataFrame\n",
    "nzz_credit_suisse_articles.loc[:, 'word_count'] = nzz_credit_suisse_articles['article_content'].str.split().apply(len)"
   ]
  },
  {
   "cell_type": "code",
   "execution_count": 24,
   "id": "ece70805-f752-4e9a-91f5-0c2efc62c156",
   "metadata": {},
   "outputs": [],
   "source": [
    "# List of article titles to exclude\n",
    "#exclude_titles = [\n",
    "    \" Briefing am Montagmorgen\",\n",
    "   \" Briefing am Montagabend\",\n",
    "    \" Briefing am Dienstagmorgen\",\n",
    "    \" Briefing am Dienstagabend\",\n",
    "    \" Briefing am Mittwochmorgen\",\n",
    "    \" Briefing am Mittwochabend\",\n",
    "    \" Briefing am Donnerstagmorgen\",\n",
    "    \" Briefing am Donnerstagabend\",\n",
    "    \" Briefing am Freitagmorgen\",\n",
    "    \" Briefing am Freitagabend\",\n",
    "    \" Briefing am Wochenende\",\n",
    "    \" Briefing\"\n",
    "]\n",
    "\n",
    "# Filter the DataFrame to exclude articles with specified titles\n",
    "#nzz_credit_suisse_articles_no_briefing = nzz_credit_suisse_articles[~nzz_credit_suisse_articles['article_title'].isin(exclude_titles)]"
   ]
  },
  {
   "cell_type": "code",
   "execution_count": 31,
   "id": "2b0e5e74-3bd4-4a48-bdef-05ca55dcb770",
   "metadata": {},
   "outputs": [],
   "source": [
    "# Sort the articles by date in ascending order\n",
    "nzz_credit_suisse_articles_sorted = nzz_credit_suisse_articles.sort_values(by='text_date')"
   ]
  },
  {
   "cell_type": "code",
   "execution_count": 32,
   "id": "0fc7bf52-38b3-4d7c-9baf-5ee502dcdb9f",
   "metadata": {},
   "outputs": [],
   "source": [
    "# remove over 5k words\n",
    "# Filter out articles with a word count higher than 5000\n",
    "nzz_credit_suisse_articles_sorted = nzz_credit_suisse_articles_sorted[nzz_credit_suisse_articles_sorted['word_count'] <= 5000]"
   ]
  },
  {
   "cell_type": "code",
   "execution_count": 33,
   "id": "e2122d72-7966-4204-9ea5-c985e5fec7c3",
   "metadata": {},
   "outputs": [
    {
     "name": "stdout",
     "output_type": "stream",
     "text": [
      "1027\n"
     ]
    },
    {
     "data": {
      "text/plain": [
       "1029"
      ]
     },
     "execution_count": 33,
     "metadata": {},
     "output_type": "execute_result"
    }
   ],
   "source": [
    "print(len(nzz_credit_suisse_articles_sorted))\n",
    "len(nzz_credit_suisse_articles)"
   ]
  },
  {
   "cell_type": "code",
   "execution_count": 34,
   "id": "c030a77b-8311-4700-ba9a-c6b341b01883",
   "metadata": {},
   "outputs": [],
   "source": [
    "# Export the sorted DataFrame to a CSV file\n",
    "nzz_credit_suisse_articles_sorted.to_csv('Prepped_Data/CS_NZZ_prepped.csv', index=False)"
   ]
  },
  {
   "cell_type": "code",
   "execution_count": 35,
   "id": "9cc20ed9-f52d-47ef-864d-47616cd4d047",
   "metadata": {},
   "outputs": [
    {
     "data": {
      "text/html": [
       "<div>\n",
       "<style scoped>\n",
       "    .dataframe tbody tr th:only-of-type {\n",
       "        vertical-align: middle;\n",
       "    }\n",
       "\n",
       "    .dataframe tbody tr th {\n",
       "        vertical-align: top;\n",
       "    }\n",
       "\n",
       "    .dataframe thead th {\n",
       "        text-align: right;\n",
       "    }\n",
       "</style>\n",
       "<table border=\"1\" class=\"dataframe\">\n",
       "  <thead>\n",
       "    <tr style=\"text-align: right;\">\n",
       "      <th></th>\n",
       "      <th>article_title</th>\n",
       "      <th>headline</th>\n",
       "      <th>article_content</th>\n",
       "      <th>text_date</th>\n",
       "      <th>credit_suisse_count</th>\n",
       "      <th>cs_count</th>\n",
       "      <th>word_count</th>\n",
       "    </tr>\n",
       "  </thead>\n",
       "  <tbody>\n",
       "    <tr>\n",
       "      <th>1556</th>\n",
       "      <td>Credit Suisse stellt Zahlung von Anwaltskoste...</td>\n",
       "      <td>Die Grossbank stoppt die Zahlung der Anwaltsko...</td>\n",
       "      <td>Immer noch gibt es knapp zwei Dutzend Schweize...</td>\n",
       "      <td>2019-01-16 00:00:00+00:00</td>\n",
       "      <td>1</td>\n",
       "      <td>18</td>\n",
       "      <td>834</td>\n",
       "    </tr>\n",
       "    <tr>\n",
       "      <th>1555</th>\n",
       "      <td>Auf wann soll man das Wertschriftendepot wied...</td>\n",
       "      <td>Soll man Wertschriftendepots zum Jahresanfang ...</td>\n",
       "      <td>Mit dem Jahresbeginn flattern Depotauszüge und...</td>\n",
       "      <td>2019-01-28 00:00:00+00:00</td>\n",
       "      <td>1</td>\n",
       "      <td>1</td>\n",
       "      <td>1110</td>\n",
       "    </tr>\n",
       "    <tr>\n",
       "      <th>1554</th>\n",
       "      <td>Musical zum 200. Geburtstag: So soll der sing...</td>\n",
       "      <td>Die Macher eines Musicals zu Eschers 200. Gebu...</td>\n",
       "      <td>Das Libretto ist geschrieben, die Songs sind k...</td>\n",
       "      <td>2019-01-29 00:00:00+00:00</td>\n",
       "      <td>2</td>\n",
       "      <td>1</td>\n",
       "      <td>608</td>\n",
       "    </tr>\n",
       "    <tr>\n",
       "      <th>1550</th>\n",
       "      <td>Die Schweizer Division der Credit Suisse bril...</td>\n",
       "      <td>Dank Kosteneinsparungen erreicht der Unternehm...</td>\n",
       "      <td>Banker geben viel auf Diskretion. Deshalb äuss...</td>\n",
       "      <td>2019-02-09 00:00:00+00:00</td>\n",
       "      <td>4</td>\n",
       "      <td>5</td>\n",
       "      <td>613</td>\n",
       "    </tr>\n",
       "    <tr>\n",
       "      <th>1549</th>\n",
       "      <td>Managerlöhne: Schweizer Grossbanken verkennen...</td>\n",
       "      <td>UBS und Credit Suisse kämpfen, wie die meisten...</td>\n",
       "      <td>Auch dieses Jahr, spätestens nach der Veröffen...</td>\n",
       "      <td>2019-02-13 00:00:00+00:00</td>\n",
       "      <td>1</td>\n",
       "      <td>8</td>\n",
       "      <td>702</td>\n",
       "    </tr>\n",
       "  </tbody>\n",
       "</table>\n",
       "</div>"
      ],
      "text/plain": [
       "                                          article_title  \\\n",
       "1556   Credit Suisse stellt Zahlung von Anwaltskoste...   \n",
       "1555   Auf wann soll man das Wertschriftendepot wied...   \n",
       "1554   Musical zum 200. Geburtstag: So soll der sing...   \n",
       "1550   Die Schweizer Division der Credit Suisse bril...   \n",
       "1549   Managerlöhne: Schweizer Grossbanken verkennen...   \n",
       "\n",
       "                                               headline  \\\n",
       "1556  Die Grossbank stoppt die Zahlung der Anwaltsko...   \n",
       "1555  Soll man Wertschriftendepots zum Jahresanfang ...   \n",
       "1554  Die Macher eines Musicals zu Eschers 200. Gebu...   \n",
       "1550  Dank Kosteneinsparungen erreicht der Unternehm...   \n",
       "1549  UBS und Credit Suisse kämpfen, wie die meisten...   \n",
       "\n",
       "                                        article_content  \\\n",
       "1556  Immer noch gibt es knapp zwei Dutzend Schweize...   \n",
       "1555  Mit dem Jahresbeginn flattern Depotauszüge und...   \n",
       "1554  Das Libretto ist geschrieben, die Songs sind k...   \n",
       "1550  Banker geben viel auf Diskretion. Deshalb äuss...   \n",
       "1549  Auch dieses Jahr, spätestens nach der Veröffen...   \n",
       "\n",
       "                     text_date  credit_suisse_count  cs_count  word_count  \n",
       "1556 2019-01-16 00:00:00+00:00                    1        18         834  \n",
       "1555 2019-01-28 00:00:00+00:00                    1         1        1110  \n",
       "1554 2019-01-29 00:00:00+00:00                    2         1         608  \n",
       "1550 2019-02-09 00:00:00+00:00                    4         5         613  \n",
       "1549 2019-02-13 00:00:00+00:00                    1         8         702  "
      ]
     },
     "execution_count": 35,
     "metadata": {},
     "output_type": "execute_result"
    }
   ],
   "source": [
    "nzz_credit_suisse_articles_sorted.head()"
   ]
  },
  {
   "cell_type": "code",
   "execution_count": null,
   "id": "f4947067-b617-4757-8c6c-575be1064976",
   "metadata": {},
   "outputs": [],
   "source": []
  },
  {
   "cell_type": "markdown",
   "id": "95092e8a-97fe-45a3-8288-e6ede72fe783",
   "metadata": {},
   "source": [
    "### NZZ UBS DATA"
   ]
  },
  {
   "cell_type": "code",
   "execution_count": null,
   "id": "e404f24a-deb6-4c11-a1df-0ffc44c28bc4",
   "metadata": {},
   "outputs": [],
   "source": []
  },
  {
   "cell_type": "code",
   "execution_count": null,
   "id": "876026b7-ee4a-4902-9007-cf6b7f99faa8",
   "metadata": {},
   "outputs": [],
   "source": []
  },
  {
   "cell_type": "code",
   "execution_count": 105,
   "id": "87e1e304-2878-44fd-baa3-a17b310aec7d",
   "metadata": {},
   "outputs": [],
   "source": [
    "# import nzz cs data\n",
    "\n",
    "file_paths = [\n",
    "    \"Data/NZZ/nzz_scraped_data_UBS_part1.csv\",\n",
    "    \"Data/NZZ/nzz_scraped_data_UBS_part2.csv\"\n",
    "]\n",
    "\n",
    "# List to store DataFrames\n",
    "dfs = []\n",
    "\n",
    "# Read each CSV file into a DataFrame and append to the list\n",
    "for file_path in file_paths:\n",
    "    df = pd.read_csv(file_path)\n",
    "    dfs.append(df)\n",
    "\n",
    "# Concatenate all DataFrames into a single DataFrame\n",
    "nzz_data_UBS_merged = pd.concat(dfs, ignore_index=True)"
   ]
  },
  {
   "cell_type": "code",
   "execution_count": 106,
   "id": "57cb78f0-72ee-4077-980d-d5a8e1495864",
   "metadata": {},
   "outputs": [
    {
     "data": {
      "text/plain": [
       "2593"
      ]
     },
     "execution_count": 106,
     "metadata": {},
     "output_type": "execute_result"
    }
   ],
   "source": [
    "len(nzz_data_UBS_merged)"
   ]
  },
  {
   "cell_type": "code",
   "execution_count": 107,
   "id": "b48802e2-6fe9-428c-ab40-67cfbcf838e6",
   "metadata": {},
   "outputs": [
    {
     "data": {
      "text/html": [
       "<div>\n",
       "<style scoped>\n",
       "    .dataframe tbody tr th:only-of-type {\n",
       "        vertical-align: middle;\n",
       "    }\n",
       "\n",
       "    .dataframe tbody tr th {\n",
       "        vertical-align: top;\n",
       "    }\n",
       "\n",
       "    .dataframe thead th {\n",
       "        text-align: right;\n",
       "    }\n",
       "</style>\n",
       "<table border=\"1\" class=\"dataframe\">\n",
       "  <thead>\n",
       "    <tr style=\"text-align: right;\">\n",
       "      <th></th>\n",
       "      <th>article_title</th>\n",
       "      <th>headline</th>\n",
       "      <th>article_content</th>\n",
       "      <th>text_date</th>\n",
       "    </tr>\n",
       "  </thead>\n",
       "  <tbody>\n",
       "    <tr>\n",
       "      <th>0</th>\n",
       "      <td>Kultur: Wim Wenders wird Jury-Chef des Filmfe...</td>\n",
       "      <td>Die neusten Meldungen aus dem Feuilleton-Ressort.</td>\n",
       "      <td>(dpa) Der deutsche Regisseur Wim Wenders («Der...</td>\n",
       "      <td>13.06.2023</td>\n",
       "    </tr>\n",
       "    <tr>\n",
       "      <th>1</th>\n",
       "      <td>Lukas Gähwiler ist der neue Präsident der UBS...</td>\n",
       "      <td>Der Veteran hat es vom Kundenberater bis nach ...</td>\n",
       "      <td>Bisher hatte Lukas Gähwiler vor allem einen Jo...</td>\n",
       "      <td>12.06.2023</td>\n",
       "    </tr>\n",
       "    <tr>\n",
       "      <th>2</th>\n",
       "      <td>Briefing am Montagabend</td>\n",
       "      <td>Silvio Berlusconi ist tot, die Übernahme der C...</td>\n",
       "      <td>Das Wichtigste am Abend: Silvio Berlusconi ist...</td>\n",
       "      <td>12.06.2023</td>\n",
       "    </tr>\n",
       "    <tr>\n",
       "      <th>3</th>\n",
       "      <td>Der Verwaltungsrat der Credit Suisse wird neu...</td>\n",
       "      <td>Die grösste Bank der Schweiz hat offiziell die...</td>\n",
       "      <td>Die Credit Suisse ist endgültig an die UBS übe...</td>\n",
       "      <td>12.06.2023</td>\n",
       "    </tr>\n",
       "    <tr>\n",
       "      <th>4</th>\n",
       "      <td>Briefing am Montagmorgen</td>\n",
       "      <td>Die CS-Dekotierung, der Ölpreis, Migration übe...</td>\n",
       "      <td>Das Wichtigste am Morgen: Die endgültige Übern...</td>\n",
       "      <td>12.06.2023</td>\n",
       "    </tr>\n",
       "  </tbody>\n",
       "</table>\n",
       "</div>"
      ],
      "text/plain": [
       "                                       article_title  \\\n",
       "0   Kultur: Wim Wenders wird Jury-Chef des Filmfe...   \n",
       "1   Lukas Gähwiler ist der neue Präsident der UBS...   \n",
       "2                            Briefing am Montagabend   \n",
       "3   Der Verwaltungsrat der Credit Suisse wird neu...   \n",
       "4                           Briefing am Montagmorgen   \n",
       "\n",
       "                                            headline  \\\n",
       "0  Die neusten Meldungen aus dem Feuilleton-Ressort.   \n",
       "1  Der Veteran hat es vom Kundenberater bis nach ...   \n",
       "2  Silvio Berlusconi ist tot, die Übernahme der C...   \n",
       "3  Die grösste Bank der Schweiz hat offiziell die...   \n",
       "4  Die CS-Dekotierung, der Ölpreis, Migration übe...   \n",
       "\n",
       "                                     article_content   text_date  \n",
       "0  (dpa) Der deutsche Regisseur Wim Wenders («Der...  13.06.2023  \n",
       "1  Bisher hatte Lukas Gähwiler vor allem einen Jo...  12.06.2023  \n",
       "2  Das Wichtigste am Abend: Silvio Berlusconi ist...  12.06.2023  \n",
       "3  Die Credit Suisse ist endgültig an die UBS übe...  12.06.2023  \n",
       "4  Das Wichtigste am Morgen: Die endgültige Übern...  12.06.2023  "
      ]
     },
     "execution_count": 107,
     "metadata": {},
     "output_type": "execute_result"
    }
   ],
   "source": [
    "nzz_data_UBS_merged.head()"
   ]
  },
  {
   "cell_type": "code",
   "execution_count": 108,
   "id": "540930b8-a07c-41b4-a5c5-916012b3d299",
   "metadata": {},
   "outputs": [
    {
     "name": "stdout",
     "output_type": "stream",
     "text": [
      "Indices of All Occurrences of Duplicate Rows:\n",
      "Index([387, 388, 2327, 2329, 2379, 2380, 2445, 2447, 2475, 2476, 2517, 2518], dtype='int64')\n"
     ]
    }
   ],
   "source": [
    "# Check for duplicates in the merged DataFrame, keeping all occurrences\n",
    "all_occurrences_indices = nzz_data_UBS_merged[nzz_data_UBS_merged.duplicated(keep=False)].index\n",
    "\n",
    "# Display the indices of all occurrences of duplicate rows\n",
    "print(\"Indices of All Occurrences of Duplicate Rows:\")\n",
    "print(all_occurrences_indices)"
   ]
  },
  {
   "cell_type": "code",
   "execution_count": 109,
   "id": "cee417d6-a2f2-4a71-ae20-57270109abb0",
   "metadata": {},
   "outputs": [
    {
     "name": "stdout",
     "output_type": "stream",
     "text": [
      "Indices of Duplicate Rows Based on Specific Columns:\n",
      "Index([ 387,  388,  810,  930,  948, 1053, 1054, 2327, 2329, 2360, 2379, 2380,\n",
      "       2445, 2447, 2475, 2476, 2484, 2517, 2518],\n",
      "      dtype='int64')\n"
     ]
    }
   ],
   "source": [
    "duplicate_indices_specific_columns = nzz_data_UBS_merged[nzz_data_UBS_merged.duplicated(subset=['article_content'], keep=False)].index\n",
    "print(\"Indices of Duplicate Rows Based on Specific Columns:\")\n",
    "print(duplicate_indices_specific_columns)"
   ]
  },
  {
   "cell_type": "code",
   "execution_count": 110,
   "id": "25c50bc5-5db9-4308-815d-6c02ddf52a23",
   "metadata": {},
   "outputs": [],
   "source": [
    "# Remove duplicate rows based on specific columns\n",
    "nzz_data_UBS_merged_no_dups = nzz_data_UBS_merged.drop_duplicates(subset=['article_content'], keep='first')"
   ]
  },
  {
   "cell_type": "code",
   "execution_count": 111,
   "id": "682267e4-46cc-4a80-b70c-e18f1d58f39f",
   "metadata": {},
   "outputs": [
    {
     "name": "stdout",
     "output_type": "stream",
     "text": [
      "2583\n",
      "2593\n"
     ]
    }
   ],
   "source": [
    "print(len(nzz_data_UBS_merged_no_dups))\n",
    "print(len(nzz_data_UBS_merged))"
   ]
  },
  {
   "cell_type": "code",
   "execution_count": 81,
   "id": "07722af6-9180-46cc-9d98-e4a4ebf53587",
   "metadata": {},
   "outputs": [],
   "source": [
    "#nzz_data_UBS_merged.loc[2360, \"article_content\"]"
   ]
  },
  {
   "cell_type": "code",
   "execution_count": 112,
   "id": "78d72257-cb21-41a5-a6f5-f499b43feee9",
   "metadata": {},
   "outputs": [],
   "source": [
    "# Create a copy of the DataFrame\n",
    "nzz_data_UBS_merged_no_dups_copy = nzz_data_UBS_merged_no_dups.copy()\n",
    "\n",
    "# Convert 'text_date' column to datetime type, considering timezone information and specifying the date format\n",
    "nzz_data_UBS_merged_no_dups_copy['text_date'] = pd.to_datetime(nzz_data_UBS_merged_no_dups_copy['text_date'], utc=True, format='%d.%m.%Y', errors='coerce')\n",
    "\n",
    "# Define the start and end dates of the desired range\n",
    "start_date = pd.Timestamp('2019-01-01', tz='UTC')\n",
    "end_date = pd.Timestamp('2023-06-30', tz='UTC')\n",
    "\n",
    "# Filter the DataFrame to include only articles within the specified date range\n",
    "filtered_df_nzz_ubs = nzz_data_UBS_merged_no_dups_copy[(nzz_data_UBS_merged_no_dups_copy['text_date'] >= start_date) & (nzz_data_UBS_merged_no_dups_copy['text_date'] <= end_date)]\n"
   ]
  },
  {
   "cell_type": "code",
   "execution_count": 113,
   "id": "33ff0bf5-8954-4b2d-9fd5-c0ae9fe3925a",
   "metadata": {},
   "outputs": [
    {
     "data": {
      "text/plain": [
       "2565"
      ]
     },
     "execution_count": 113,
     "metadata": {},
     "output_type": "execute_result"
    }
   ],
   "source": [
    "len(filtered_df_nzz_ubs)"
   ]
  },
  {
   "cell_type": "markdown",
   "id": "79647d17-31d7-494a-bb01-b924244d217c",
   "metadata": {},
   "source": [
    "#### filter by relevancy"
   ]
  },
  {
   "cell_type": "markdown",
   "id": "5841211d-65a2-41a8-a936-091822bbb3e8",
   "metadata": {},
   "source": [
    "##### old code"
   ]
  },
  {
   "cell_type": "code",
   "execution_count": 49,
   "id": "55c19d0d-dc8e-44f3-9500-7c50b20b9f37",
   "metadata": {},
   "outputs": [],
   "source": [
    "# Create a copy of the filtered DataFrame\n",
    "#filtered_df_nzz_ubs_copy = filtered_df_nzz_ubs.copy()\n",
    "\n",
    "# Count the occurrences of the phrases 'Credit Suisse' and 'CS' in each article's content in the copied DataFrame\n",
    "#filtered_df_nzz_ubs_copy['UBS_count'] = filtered_df_nzz_ubs_copy['article_content'].str.count('UBS')\n",
    "\n",
    "# Filter articles containing 'Credit Suisse' at least twice in their content\n",
    "#nzz_UBS_articles = filtered_df_nzz_ubs_copy[filtered_df_nzz_ubs_copy['UBS_count'] >= 2]"
   ]
  },
  {
   "cell_type": "markdown",
   "id": "b71b37f1-cfcd-4a9d-aa6e-b94cfa833b04",
   "metadata": {},
   "source": [
    "##### new code"
   ]
  },
  {
   "cell_type": "code",
   "execution_count": 114,
   "id": "3223f3ff-8d56-47b6-8d8b-7587abf6fbd5",
   "metadata": {},
   "outputs": [],
   "source": [
    "# Create a copy of the filtered DataFrame\n",
    "filtered_df_nzz_ubs_copy = filtered_df_nzz_ubs.copy()\n",
    "\n",
    "# Count the occurrences of the phrases 'Credit Suisse' and 'CS' in each article's content in the copied DataFrame\n",
    "def count_ubs(text):\n",
    "    return len(re.findall(r'(?<![a-zA-Z])UBS(?![a-zA-Z])', text))\n",
    "filtered_df_nzz_ubs_copy['UBS_count'] = filtered_df_nzz_ubs_copy['article_content'].apply(count_ubs)\n",
    "\n",
    "# Filter articles containing 'Credit Suisse' at least twice in their content\n",
    "nzz_UBS_articles = filtered_df_nzz_ubs_copy[filtered_df_nzz_ubs_copy['UBS_count'] >= 2]"
   ]
  },
  {
   "cell_type": "code",
   "execution_count": 91,
   "id": "8304a8b0-046e-4dcf-9465-055d026fb919",
   "metadata": {},
   "outputs": [],
   "source": [
    "# Export the sorted DataFrame to a CSV file\n",
    "#filtered_df_nzz_ubs_copy.to_csv('UBS_NZZ_unfiltered.csv', index=False)"
   ]
  },
  {
   "cell_type": "code",
   "execution_count": 52,
   "id": "d3c1f648-8084-461a-8b61-59f9c8fa7e76",
   "metadata": {},
   "outputs": [
    {
     "data": {
      "text/plain": [
       "923"
      ]
     },
     "execution_count": 52,
     "metadata": {},
     "output_type": "execute_result"
    }
   ],
   "source": []
  },
  {
   "cell_type": "code",
   "execution_count": 115,
   "id": "703967e8-e670-4b76-9f8c-dc7c15279de1",
   "metadata": {},
   "outputs": [
    {
     "data": {
      "text/plain": [
       "923"
      ]
     },
     "execution_count": 115,
     "metadata": {},
     "output_type": "execute_result"
    }
   ],
   "source": [
    "len(nzz_UBS_articles)"
   ]
  },
  {
   "cell_type": "code",
   "execution_count": 117,
   "id": "f5d7b8a5-95ae-48d7-90ab-45c5ee69b700",
   "metadata": {},
   "outputs": [],
   "source": [
    "# Calculate the word count for each article in the credit_suisse_articles DataFrame\n",
    "nzz_UBS_articles.loc[:, 'word_count'] = nzz_UBS_articles['article_content'].str.split().apply(len)"
   ]
  },
  {
   "cell_type": "code",
   "execution_count": 66,
   "id": "7541fbd4-8c66-43e2-9263-7b9d992977cd",
   "metadata": {},
   "outputs": [],
   "source": [
    "# List of article titles to exclude\n",
    "#exclude_titles = [\n",
    "#    \" Briefing am Montagmorgen\",\n",
    "    \" Briefing am Montagabend\",\n",
    "    \" Briefing am Dienstagmorgen\",\n",
    "    \" Briefing am Dienstagabend\",\n",
    "    \" Briefing am Mittwochmorgen\",\n",
    "    \" Briefing am Mittwochabend\",\n",
    "    \" Briefing am Donnerstagmorgen\",\n",
    "    \" Briefing am Donnerstagabend\",\n",
    "    \" Briefing am Freitagmorgen\",\n",
    "    \" Briefing am Freitagabend\",\n",
    "    \" Briefing am Wochenende\",\n",
    "    \" Briefing\"\n",
    "]\n",
    "\n",
    "# Filter the DataFrame to exclude articles with specified titles\n",
    "#nzz_UBS_articles_no_briefing = nzz_UBS_articles[~nzz_UBS_articles['article_title'].isin(exclude_titles)]"
   ]
  },
  {
   "cell_type": "code",
   "execution_count": 118,
   "id": "f94c518f-bc04-4b56-b523-730a4e620b68",
   "metadata": {},
   "outputs": [],
   "source": [
    "# Sort the articles by date in ascending order\n",
    "nzz_UBS_articles_sorted = nzz_UBS_articles.sort_values(by='text_date')"
   ]
  },
  {
   "cell_type": "code",
   "execution_count": 119,
   "id": "2f1a022a-f369-4903-b7fb-dc4d133c6b15",
   "metadata": {},
   "outputs": [],
   "source": [
    "# remove over 5k words\n",
    "# Filter out articles with a word count higher than 5000\n",
    "nzz_UBS_articles_sorted = nzz_UBS_articles_sorted[nzz_UBS_articles_sorted['word_count'] <= 5000]"
   ]
  },
  {
   "cell_type": "code",
   "execution_count": 120,
   "id": "64e80b24-7914-40f7-8097-7a421a1d8811",
   "metadata": {},
   "outputs": [],
   "source": [
    "# Export the sorted DataFrame to a CSV file\n",
    "nzz_UBS_articles_sorted.to_csv('Prepped_Data/UBS_NZZ_prepped.csv', index=False)"
   ]
  },
  {
   "cell_type": "code",
   "execution_count": 121,
   "id": "7bc0ca33-5a1d-4246-8845-89dcbb67111b",
   "metadata": {},
   "outputs": [
    {
     "data": {
      "text/plain": [
       "921"
      ]
     },
     "execution_count": 121,
     "metadata": {},
     "output_type": "execute_result"
    }
   ],
   "source": [
    "len(nzz_UBS_articles_sorted)"
   ]
  },
  {
   "cell_type": "code",
   "execution_count": null,
   "id": "09d0f32b-4761-4267-a0d0-ef73d66b848a",
   "metadata": {},
   "outputs": [],
   "source": []
  },
  {
   "cell_type": "code",
   "execution_count": 93,
   "id": "24508dc3-539d-401e-8192-bcddffeddcc8",
   "metadata": {},
   "outputs": [],
   "source": []
  },
  {
   "cell_type": "code",
   "execution_count": null,
   "id": "e78b39f0-353e-455c-8d37-6ed5f91d9455",
   "metadata": {},
   "outputs": [],
   "source": []
  },
  {
   "cell_type": "code",
   "execution_count": null,
   "id": "a1ce396a-1b72-4c4a-add9-fcb589904781",
   "metadata": {},
   "outputs": [],
   "source": []
  }
 ],
 "metadata": {
  "kernelspec": {
   "display_name": "Python 3 (ipykernel)",
   "language": "python",
   "name": "python3"
  },
  "language_info": {
   "codemirror_mode": {
    "name": "ipython",
    "version": 3
   },
   "file_extension": ".py",
   "mimetype": "text/x-python",
   "name": "python",
   "nbconvert_exporter": "python",
   "pygments_lexer": "ipython3",
   "version": "3.12.2"
  }
 },
 "nbformat": 4,
 "nbformat_minor": 5
}
