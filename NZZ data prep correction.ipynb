{
 "cells": [
  {
   "cell_type": "code",
   "id": "485f0014-f143-448c-b6e7-1b4fb8afab03",
   "metadata": {
    "ExecuteTime": {
     "end_time": "2024-05-16T14:38:20.671772Z",
     "start_time": "2024-05-16T14:38:19.639028Z"
    }
   },
   "source": [
    "import pandas as pd\n",
    "import numpy as np\n",
    "import re\n",
    "from IPython.display import display"
   ],
   "outputs": [],
   "execution_count": 1
  },
  {
   "cell_type": "markdown",
   "id": "91978ddc-388d-45e5-9ccf-a00ed7c2402e",
   "metadata": {},
   "source": [
    "## NZZ CS DATA PREP"
   ]
  },
  {
   "cell_type": "markdown",
   "id": "0eb3e002-c7cd-4a64-9565-123f1c1226eb",
   "metadata": {},
   "source": [
    "#### import and merge data"
   ]
  },
  {
   "cell_type": "code",
   "id": "65922813-aad9-4460-8100-945ced0186c7",
   "metadata": {
    "ExecuteTime": {
     "end_time": "2024-05-16T14:39:18.278034Z",
     "start_time": "2024-05-16T14:39:18.250713Z"
    }
   },
   "source": [
    "# import nzz cs data\n",
    "\n",
    "file_paths = [\n",
    "    \"Data/NZZ/nzz_scraped_data_CS_correction.csv\"\n",
    "]\n",
    "\n",
    "# List to store DataFrames\n",
    "dfs = []\n",
    "\n",
    "# Read each CSV file into a DataFrame and append to the list\n",
    "for file_path in file_paths:\n",
    "    df = pd.read_csv(file_path)\n",
    "    dfs.append(df)\n",
    "\n",
    "# Concatenate all DataFrames into a single DataFrame\n",
    "nzz_data_CS_merged = pd.concat(dfs, ignore_index=True)"
   ],
   "outputs": [],
   "execution_count": 2
  },
  {
   "cell_type": "code",
   "id": "21b320bc-1e0c-4b30-a329-fb1cb59fdb31",
   "metadata": {
    "ExecuteTime": {
     "end_time": "2024-05-16T14:39:20.679033Z",
     "start_time": "2024-05-16T14:39:20.672593Z"
    }
   },
   "source": [
    "len(nzz_data_CS_merged)"
   ],
   "outputs": [
    {
     "data": {
      "text/plain": [
       "7"
      ]
     },
     "execution_count": 3,
     "metadata": {},
     "output_type": "execute_result"
    }
   ],
   "execution_count": 3
  },
  {
   "cell_type": "code",
   "id": "173cc137-a18c-4d4d-aa7b-df835e765b64",
   "metadata": {
    "ExecuteTime": {
     "end_time": "2024-05-16T14:39:23.603302Z",
     "start_time": "2024-05-16T14:39:23.584126Z"
    }
   },
   "source": [
    "nzz_data_CS_merged.head()"
   ],
   "outputs": [
    {
     "data": {
      "text/plain": [
       "                                       article_title  \\\n",
       "0             Familienunternehmen sind erfolgreicher   \n",
       "1                    Die Konkurrenz sitzt im Ausland   \n",
       "2           Weitere Hürden für Amazon in der Schweiz   \n",
       "3   Wechselkursentwicklung: Optimistische Prognos...   \n",
       "4          Die Schweizer Banken müssen besser werden   \n",
       "\n",
       "                                            headline  \\\n",
       "0  Familienfirmen schneiden an der Börse besser a...   \n",
       "1  Der Schweizer Detailhandel ist in zunehmendem ...   \n",
       "2  Amazon wird laut einer Studie der Credit Suiss...   \n",
       "3  Mit einer zur Stärke neigenden Heimwährung dro...   \n",
       "4  Die Schweizer Banken sind in Geschäftsbereiche...   \n",
       "\n",
       "                                     article_content   text_date  \n",
       "0  Familienunternehmen und die Börse – das sind n...  12.01.2019  \n",
       "1  Der Schweizer Einzelhandel ist im vergangenen ...  08.01.2019  \n",
       "2  (awp/sda) · Seit knapp einem Jahr ist Amazon a...  08.01.2019  \n",
       "3  In einem exportorientierten Land wie der Schwe...  08.01.2019  \n",
       "4  Die Realität lässt keinen Raum für Zweifel: Di...  03.01.2019  "
      ],
      "text/html": [
       "<div>\n",
       "<style scoped>\n",
       "    .dataframe tbody tr th:only-of-type {\n",
       "        vertical-align: middle;\n",
       "    }\n",
       "\n",
       "    .dataframe tbody tr th {\n",
       "        vertical-align: top;\n",
       "    }\n",
       "\n",
       "    .dataframe thead th {\n",
       "        text-align: right;\n",
       "    }\n",
       "</style>\n",
       "<table border=\"1\" class=\"dataframe\">\n",
       "  <thead>\n",
       "    <tr style=\"text-align: right;\">\n",
       "      <th></th>\n",
       "      <th>article_title</th>\n",
       "      <th>headline</th>\n",
       "      <th>article_content</th>\n",
       "      <th>text_date</th>\n",
       "    </tr>\n",
       "  </thead>\n",
       "  <tbody>\n",
       "    <tr>\n",
       "      <th>0</th>\n",
       "      <td>Familienunternehmen sind erfolgreicher</td>\n",
       "      <td>Familienfirmen schneiden an der Börse besser a...</td>\n",
       "      <td>Familienunternehmen und die Börse – das sind n...</td>\n",
       "      <td>12.01.2019</td>\n",
       "    </tr>\n",
       "    <tr>\n",
       "      <th>1</th>\n",
       "      <td>Die Konkurrenz sitzt im Ausland</td>\n",
       "      <td>Der Schweizer Detailhandel ist in zunehmendem ...</td>\n",
       "      <td>Der Schweizer Einzelhandel ist im vergangenen ...</td>\n",
       "      <td>08.01.2019</td>\n",
       "    </tr>\n",
       "    <tr>\n",
       "      <th>2</th>\n",
       "      <td>Weitere Hürden für Amazon in der Schweiz</td>\n",
       "      <td>Amazon wird laut einer Studie der Credit Suiss...</td>\n",
       "      <td>(awp/sda) · Seit knapp einem Jahr ist Amazon a...</td>\n",
       "      <td>08.01.2019</td>\n",
       "    </tr>\n",
       "    <tr>\n",
       "      <th>3</th>\n",
       "      <td>Wechselkursentwicklung: Optimistische Prognos...</td>\n",
       "      <td>Mit einer zur Stärke neigenden Heimwährung dro...</td>\n",
       "      <td>In einem exportorientierten Land wie der Schwe...</td>\n",
       "      <td>08.01.2019</td>\n",
       "    </tr>\n",
       "    <tr>\n",
       "      <th>4</th>\n",
       "      <td>Die Schweizer Banken müssen besser werden</td>\n",
       "      <td>Die Schweizer Banken sind in Geschäftsbereiche...</td>\n",
       "      <td>Die Realität lässt keinen Raum für Zweifel: Di...</td>\n",
       "      <td>03.01.2019</td>\n",
       "    </tr>\n",
       "  </tbody>\n",
       "</table>\n",
       "</div>"
      ]
     },
     "execution_count": 4,
     "metadata": {},
     "output_type": "execute_result"
    }
   ],
   "execution_count": 4
  },
  {
   "cell_type": "markdown",
   "id": "bced84d6-9210-4ff7-bcf3-a7777f8477a4",
   "metadata": {},
   "source": [
    "#### remove duplicates"
   ]
  },
  {
   "cell_type": "code",
   "id": "afc19007-e99c-496a-85df-6e44a1945699",
   "metadata": {
    "ExecuteTime": {
     "end_time": "2024-05-16T14:39:27.836729Z",
     "start_time": "2024-05-16T14:39:27.824108Z"
    }
   },
   "source": [
    "# Check for duplicates in the merged DataFrame, keeping all occurrences\n",
    "all_occurrences_indices = nzz_data_CS_merged[nzz_data_CS_merged.duplicated(keep=False)].index\n",
    "\n",
    "# Display the indices of all occurrences of duplicate rows\n",
    "print(\"Indices of All Occurrences of Duplicate Rows:\")\n",
    "print(all_occurrences_indices)"
   ],
   "outputs": [
    {
     "name": "stdout",
     "output_type": "stream",
     "text": [
      "Indices of All Occurrences of Duplicate Rows:\n",
      "Index([], dtype='int64')\n"
     ]
    }
   ],
   "execution_count": 5
  },
  {
   "cell_type": "code",
   "id": "05c28874-1457-43be-b94c-cb041b6802f7",
   "metadata": {
    "ExecuteTime": {
     "end_time": "2024-05-16T14:39:30.349045Z",
     "start_time": "2024-05-16T14:39:30.341788Z"
    }
   },
   "source": [
    "duplicate_indices_specific_columns = nzz_data_CS_merged[nzz_data_CS_merged.duplicated(subset=['article_content'], keep=False)].index\n",
    "print(\"Indices of Duplicate Rows Based on Specific Columns:\")\n",
    "print(duplicate_indices_specific_columns)"
   ],
   "outputs": [
    {
     "name": "stdout",
     "output_type": "stream",
     "text": [
      "Indices of Duplicate Rows Based on Specific Columns:\n",
      "Index([], dtype='int64')\n"
     ]
    }
   ],
   "execution_count": 6
  },
  {
   "cell_type": "code",
   "id": "9ab52f02-3a93-4773-a56a-537290dd59b2",
   "metadata": {
    "ExecuteTime": {
     "end_time": "2024-05-16T14:39:34.897431Z",
     "start_time": "2024-05-16T14:39:34.892950Z"
    }
   },
   "source": [
    "# Remove duplicate rows based on specific columns\n",
    "nzz_data_CS_merged_no_dups = nzz_data_CS_merged.drop_duplicates(subset=['article_content'], keep='first')"
   ],
   "outputs": [],
   "execution_count": 7
  },
  {
   "cell_type": "code",
   "id": "64dd5646-254e-4048-bdee-c065a32a0bf9",
   "metadata": {
    "ExecuteTime": {
     "end_time": "2024-05-16T14:39:37.778720Z",
     "start_time": "2024-05-16T14:39:37.767800Z"
    }
   },
   "source": [
    "print(len(nzz_data_CS_merged_no_dups))\n",
    "print(len(nzz_data_CS_merged))"
   ],
   "outputs": [
    {
     "name": "stdout",
     "output_type": "stream",
     "text": [
      "7\n",
      "7\n"
     ]
    }
   ],
   "execution_count": 9
  },
  {
   "cell_type": "code",
   "execution_count": 39,
   "id": "edebdf16-7ff9-4be4-8da8-b36ee989f959",
   "metadata": {},
   "outputs": [],
   "source": [
    "#nzz_data_CS_merged.loc[126, \"article_content\"]"
   ]
  },
  {
   "cell_type": "markdown",
   "id": "428c2b64-85ed-4c0c-ae4f-06c5ab2eb5bc",
   "metadata": {},
   "source": [
    "#### Filter by date"
   ]
  },
  {
   "cell_type": "code",
   "id": "bb81260c-1d0f-4280-bce2-d9baecfdae2f",
   "metadata": {
    "ExecuteTime": {
     "end_time": "2024-05-16T14:39:45.336647Z",
     "start_time": "2024-05-16T14:39:45.323990Z"
    }
   },
   "source": [
    "# Create a copy of the DataFrames\n",
    "nzz_data_CS_merged_no_dups_copy = nzz_data_CS_merged_no_dups.copy()\n",
    "\n",
    "# Convert 'text_date' column to datetime type, considering timezone information\n",
    "nzz_data_CS_merged_no_dups_copy['text_date'] = pd.to_datetime(nzz_data_CS_merged_no_dups_copy['text_date'], utc=True, format='%d.%m.%Y', errors='coerce')\n",
    "\n",
    "# Define the start and end dates of the desired range\n",
    "start_date = pd.Timestamp('2019-01-01', tz='UTC')\n",
    "end_date = pd.Timestamp('2023-06-30', tz='UTC')\n",
    "\n",
    "# Filter the DataFrame to include only articles within the specified date range\n",
    "filtered_df_nzz_cs = nzz_data_CS_merged_no_dups_copy[(nzz_data_CS_merged_no_dups_copy['text_date'] >= start_date) & (nzz_data_CS_merged_no_dups_copy['text_date'] <= end_date)]"
   ],
   "outputs": [],
   "execution_count": 10
  },
  {
   "cell_type": "code",
   "id": "07d1ca46-6af9-477c-9ea5-5ba57abfba39",
   "metadata": {
    "ExecuteTime": {
     "end_time": "2024-05-16T14:39:47.823268Z",
     "start_time": "2024-05-16T14:39:47.815774Z"
    }
   },
   "source": [
    "len(filtered_df_nzz_cs)"
   ],
   "outputs": [
    {
     "data": {
      "text/plain": [
       "7"
      ]
     },
     "execution_count": 11,
     "metadata": {},
     "output_type": "execute_result"
    }
   ],
   "execution_count": 11
  },
  {
   "cell_type": "markdown",
   "id": "5e9f3da5-a2dd-4675-b2e7-2b146e883569",
   "metadata": {},
   "source": [
    "#### Filter by relevancy"
   ]
  },
  {
   "cell_type": "markdown",
   "id": "a3220822-644f-46e3-9f33-c98e69a44ac9",
   "metadata": {},
   "source": [
    "##### look for variants of Credit Suisse"
   ]
  },
  {
   "cell_type": "code",
   "id": "2f022c19-4acd-4dea-824b-74d90bd47ebf",
   "metadata": {
    "ExecuteTime": {
     "end_time": "2024-05-16T14:39:51.088941Z",
     "start_time": "2024-05-16T14:39:51.073021Z"
    }
   },
   "source": [
    "filtered_df_nzz_cs_copy = filtered_df_nzz_cs.copy()\n",
    "\n",
    "# Create a boolean Series where each element is True if the corresponding article contains 'credit suisse' or 'CREDIT SUISSE'\n",
    "\n",
    "contains_lower = filtered_df_nzz_cs_copy['article_content'].str.contains('Credit-Suisse', case=True)\n",
    "contains_upper = filtered_df_nzz_cs_copy['article_content'].str.contains('credit suisse', case=True)\n",
    "\n",
    "# Combine the two Series using the bitwise OR operator\n",
    "\n",
    "contains_either = contains_lower | contains_upper\n",
    "\n",
    "# Check if any articles contain 'credit suisse' or 'CREDIT SUISSE'\n",
    "\n",
    "any_contains_either = contains_either.any()\n",
    "\n",
    "print(f\"Any articles contain 'credit suisse' or 'CREDIT SUISSE'? {any_contains_either}\")\n",
    "\n",
    "num_contains_either = contains_either.sum()\n",
    "\n",
    "print(f\"Number of articles that contain 'credit suisse' or 'CREDIT SUISSE': {num_contains_either}\")"
   ],
   "outputs": [
    {
     "name": "stdout",
     "output_type": "stream",
     "text": [
      "Any articles contain 'credit suisse' or 'CREDIT SUISSE'? False\n",
      "Number of articles that contain 'credit suisse' or 'CREDIT SUISSE': 0\n"
     ]
    }
   ],
   "execution_count": 12
  },
  {
   "cell_type": "markdown",
   "id": "e5bf1de7-3fb2-4aad-9ec3-6254880764a3",
   "metadata": {},
   "source": [
    "##### new code"
   ]
  },
  {
   "cell_type": "code",
   "id": "e1232535-d8aa-4ef7-acc9-639a9ed24b10",
   "metadata": {
    "ExecuteTime": {
     "end_time": "2024-05-16T14:40:02.628419Z",
     "start_time": "2024-05-16T14:40:02.618843Z"
    }
   },
   "source": [
    "# Create a copy of the filtered DataFrame\n",
    "filtered_df_nzz_cs_copy = filtered_df_nzz_cs.copy()\n",
    "\n",
    "# Count the occurrences of the phrases 'Credit Suisse' and 'CS' in each article's content in the copied DataFrame\n",
    "def count_credit_suisse(text):\n",
    "    return len(re.findall(r'credit[-\\s]*suisse', text, re.IGNORECASE))\n",
    "    \n",
    "filtered_df_nzz_cs_copy['credit_suisse_count'] = filtered_df_nzz_cs_copy['article_content'].apply(count_credit_suisse)\n",
    "\n",
    "def count_cs(text):\n",
    "    return len(re.findall(r'(?<![a-zA-Z])CS(?![a-zA-Z])', text))\n",
    "\n",
    "filtered_df_nzz_cs_copy['cs_count'] = filtered_df_nzz_cs_copy['article_content'].apply(count_cs)\n",
    "\n",
    "# Filter articles based on multiple conditions\n",
    "nzz_credit_suisse_articles = filtered_df_nzz_cs_copy[\n",
    "    (filtered_df_nzz_cs_copy['credit_suisse_count'] >= 2) |\n",
    "    (filtered_df_nzz_cs_copy['cs_count'] >= 2) |\n",
    "    ((filtered_df_nzz_cs_copy['credit_suisse_count'] >= 1) & (filtered_df_nzz_cs_copy['cs_count'] >= 1))\n",
    "]\n"
   ],
   "outputs": [],
   "execution_count": 13
  },
  {
   "cell_type": "markdown",
   "id": "0e0d2582-e899-4f25-8ecd-6448030ba28d",
   "metadata": {},
   "source": [
    "##### old code"
   ]
  },
  {
   "cell_type": "code",
   "execution_count": 103,
   "id": "5bc1f1f6-61ea-4cd3-a845-6c117f8a1863",
   "metadata": {},
   "outputs": [],
   "source": [
    "# Create a copy of the filtered DataFrame\n",
    "#filtered_df_nzz_cs_copy = filtered_df_nzz_cs.copy()\n",
    "\n",
    "# Count the occurrences of the phrases 'Credit Suisse' and 'CS' in each article's content in the copied DataFrame\n",
    "#filtered_df_nzz_cs_copy['credit_suisse_count'] = filtered_df_nzz_cs_copy['article_content'].str.count('Credit Suisse')\n",
    "\n",
    "#def count_cs(text):\n",
    "#    return len(re.findall(r'CS(?![a-zA-Z])', text))\n",
    "\n",
    "#filtered_df_nzz_cs_copy['cs_count'] = filtered_df_nzz_cs_copy['article_content'].apply(count_cs)\n",
    "\n",
    "# Filter articles based on multiple conditions\n",
    "#nzz_credit_suisse_articles = filtered_df_nzz_cs_copy[\n",
    "#    (filtered_df_nzz_cs_copy['credit_suisse_count'] >= 2) |\n",
    "#    (filtered_df_nzz_cs_copy['cs_count'] >= 2) |\n",
    "#    ((filtered_df_nzz_cs_copy['credit_suisse_count'] >= 1) & (filtered_df_nzz_cs_copy['cs_count'] >= 1))\n",
    "#]\n"
   ]
  },
  {
   "cell_type": "code",
   "id": "346787f5-8dbc-4c8b-a8d4-f384e4c218a6",
   "metadata": {
    "ExecuteTime": {
     "end_time": "2024-05-16T14:40:19.383546Z",
     "start_time": "2024-05-16T14:40:19.379720Z"
    }
   },
   "source": [
    "len(nzz_credit_suisse_articles)"
   ],
   "outputs": [
    {
     "data": {
      "text/plain": [
       "6"
      ]
     },
     "execution_count": 14,
     "metadata": {},
     "output_type": "execute_result"
    }
   ],
   "execution_count": 14
  },
  {
   "cell_type": "code",
   "execution_count": 104,
   "id": "72a47987-5c17-43aa-9c6b-b026b5ccd2d5",
   "metadata": {},
   "outputs": [
    {
     "data": {
      "text/plain": [
       "1025"
      ]
     },
     "execution_count": 104,
     "metadata": {},
     "output_type": "execute_result"
    }
   ],
   "source": [
    "#len(nzz_credit_suisse_articles) #output for old method -> so 3 more articles removed."
   ]
  },
  {
   "cell_type": "code",
   "id": "5d98a92c-8d3a-4c12-b859-0e64d79477a3",
   "metadata": {
    "ExecuteTime": {
     "end_time": "2024-05-16T14:40:28.776206Z",
     "start_time": "2024-05-16T14:40:28.765530Z"
    }
   },
   "source": [
    "# Calculate the word count for each article in the credit_suisse_articles DataFrame\n",
    "nzz_credit_suisse_articles.loc[:, 'word_count'] = nzz_credit_suisse_articles['article_content'].str.split().apply(len)"
   ],
   "outputs": [],
   "execution_count": 16
  },
  {
   "cell_type": "code",
   "id": "ece70805-f752-4e9a-91f5-0c2efc62c156",
   "metadata": {
    "ExecuteTime": {
     "end_time": "2024-05-16T14:40:31.640107Z",
     "start_time": "2024-05-16T14:40:31.636272Z"
    }
   },
   "source": [
    "# List of article titles to exclude\n",
    "#exclude_titles = [\n",
    "    \" Briefing am Montagmorgen\",\n",
    "   \" Briefing am Montagabend\",\n",
    "    \" Briefing am Dienstagmorgen\",\n",
    "    \" Briefing am Dienstagabend\",\n",
    "    \" Briefing am Mittwochmorgen\",\n",
    "    \" Briefing am Mittwochabend\",\n",
    "    \" Briefing am Donnerstagmorgen\",\n",
    "    \" Briefing am Donnerstagabend\",\n",
    "    \" Briefing am Freitagmorgen\",\n",
    "    \" Briefing am Freitagabend\",\n",
    "    \" Briefing am Wochenende\",\n",
    "    \" Briefing\"\n",
    "]\n",
    "\n",
    "# Filter the DataFrame to exclude articles with specified titles\n",
    "#nzz_credit_suisse_articles_no_briefing = nzz_credit_suisse_articles[~nzz_credit_suisse_articles['article_title'].isin(exclude_titles)]"
   ],
   "outputs": [
    {
     "ename": "IndentationError",
     "evalue": "unindent does not match any outer indentation level (<string>, line 4)",
     "output_type": "error",
     "traceback": [
      "\u001B[1;36m  File \u001B[1;32m<string>:4\u001B[1;36m\u001B[0m\n\u001B[1;33m    \" Briefing am Montagabend\",\u001B[0m\n\u001B[1;37m                               ^\u001B[0m\n\u001B[1;31mIndentationError\u001B[0m\u001B[1;31m:\u001B[0m unindent does not match any outer indentation level\n"
     ]
    }
   ],
   "execution_count": 18
  },
  {
   "cell_type": "code",
   "id": "2b0e5e74-3bd4-4a48-bdef-05ca55dcb770",
   "metadata": {
    "ExecuteTime": {
     "end_time": "2024-05-16T14:40:41.940806Z",
     "start_time": "2024-05-16T14:40:41.930135Z"
    }
   },
   "source": [
    "# Sort the articles by date in ascending order\n",
    "nzz_credit_suisse_articles_sorted = nzz_credit_suisse_articles.sort_values(by='text_date')"
   ],
   "outputs": [],
   "execution_count": 19
  },
  {
   "cell_type": "code",
   "id": "0fc7bf52-38b3-4d7c-9baf-5ee502dcdb9f",
   "metadata": {
    "ExecuteTime": {
     "end_time": "2024-05-16T14:40:45.858431Z",
     "start_time": "2024-05-16T14:40:45.853811Z"
    }
   },
   "source": [
    "# remove over 5k words\n",
    "# Filter out articles with a word count higher than 5000\n",
    "nzz_credit_suisse_articles_sorted = nzz_credit_suisse_articles_sorted[nzz_credit_suisse_articles_sorted['word_count'] <= 5000]"
   ],
   "outputs": [],
   "execution_count": 20
  },
  {
   "cell_type": "code",
   "id": "e2122d72-7966-4204-9ea5-c985e5fec7c3",
   "metadata": {
    "ExecuteTime": {
     "end_time": "2024-05-16T14:40:49.201060Z",
     "start_time": "2024-05-16T14:40:49.194210Z"
    }
   },
   "source": [
    "print(len(nzz_credit_suisse_articles_sorted))\n",
    "len(nzz_credit_suisse_articles)"
   ],
   "outputs": [
    {
     "name": "stdout",
     "output_type": "stream",
     "text": [
      "6\n"
     ]
    },
    {
     "data": {
      "text/plain": [
       "6"
      ]
     },
     "execution_count": 21,
     "metadata": {},
     "output_type": "execute_result"
    }
   ],
   "execution_count": 21
  },
  {
   "cell_type": "code",
   "execution_count": 110,
   "id": "12c42f08-40dd-4135-865e-3f6dc9976069",
   "metadata": {},
   "outputs": [
    {
     "name": "stdout",
     "output_type": "stream",
     "text": [
      "899\n"
     ]
    },
    {
     "data": {
      "text/plain": [
       "1025"
      ]
     },
     "execution_count": 110,
     "metadata": {},
     "output_type": "execute_result"
    }
   ],
   "source": [
    "print(len(nzz_credit_suisse_articles_sorted))\n",
    "len(nzz_credit_suisse_articles)"
   ]
  },
  {
   "cell_type": "code",
   "id": "c030a77b-8311-4700-ba9a-c6b341b01883",
   "metadata": {
    "ExecuteTime": {
     "end_time": "2024-05-16T14:43:42.021535Z",
     "start_time": "2024-05-16T14:43:42.010170Z"
    }
   },
   "source": [
    "# Export the sorted DataFrame to a CSV file\n",
    "nzz_credit_suisse_articles_sorted.to_csv('Prepped_Data/CS_NZZ_prepped_correction.csv', index=False)"
   ],
   "outputs": [],
   "execution_count": 24
  },
  {
   "cell_type": "code",
   "id": "9cc20ed9-f52d-47ef-864d-47616cd4d047",
   "metadata": {
    "ExecuteTime": {
     "end_time": "2024-05-16T14:42:22.491250Z",
     "start_time": "2024-05-16T14:42:22.478466Z"
    }
   },
   "source": [
    "nzz_credit_suisse_articles_sorted.head()"
   ],
   "outputs": [
    {
     "data": {
      "text/plain": [
       "                                       article_title  \\\n",
       "4          Die Schweizer Banken müssen besser werden   \n",
       "5   Die USA klagen in der Moçambique-Affäre drei ...   \n",
       "1                    Die Konkurrenz sitzt im Ausland   \n",
       "2           Weitere Hürden für Amazon in der Schweiz   \n",
       "3   Wechselkursentwicklung: Optimistische Prognos...   \n",
       "\n",
       "                                            headline  \\\n",
       "4  Die Schweizer Banken sind in Geschäftsbereiche...   \n",
       "5  Bisher sind fünf Individuen im Zusammenhang mi...   \n",
       "1  Der Schweizer Detailhandel ist in zunehmendem ...   \n",
       "2  Amazon wird laut einer Studie der Credit Suiss...   \n",
       "3  Mit einer zur Stärke neigenden Heimwährung dro...   \n",
       "\n",
       "                                     article_content  \\\n",
       "4  Die Realität lässt keinen Raum für Zweifel: Di...   \n",
       "5  Am Donnerstag ist in den USA eine Strafklage i...   \n",
       "1  Der Schweizer Einzelhandel ist im vergangenen ...   \n",
       "2  (awp/sda) · Seit knapp einem Jahr ist Amazon a...   \n",
       "3  In einem exportorientierten Land wie der Schwe...   \n",
       "\n",
       "                  text_date  credit_suisse_count  cs_count  word_count  \n",
       "4 2019-01-03 00:00:00+00:00                    1         5        1160  \n",
       "5 2019-01-04 00:00:00+00:00                    6         6         661  \n",
       "1 2019-01-08 00:00:00+00:00                    1         4         587  \n",
       "2 2019-01-08 00:00:00+00:00                    3         1         433  \n",
       "3 2019-01-08 00:00:00+00:00                    1         2         261  "
      ],
      "text/html": [
       "<div>\n",
       "<style scoped>\n",
       "    .dataframe tbody tr th:only-of-type {\n",
       "        vertical-align: middle;\n",
       "    }\n",
       "\n",
       "    .dataframe tbody tr th {\n",
       "        vertical-align: top;\n",
       "    }\n",
       "\n",
       "    .dataframe thead th {\n",
       "        text-align: right;\n",
       "    }\n",
       "</style>\n",
       "<table border=\"1\" class=\"dataframe\">\n",
       "  <thead>\n",
       "    <tr style=\"text-align: right;\">\n",
       "      <th></th>\n",
       "      <th>article_title</th>\n",
       "      <th>headline</th>\n",
       "      <th>article_content</th>\n",
       "      <th>text_date</th>\n",
       "      <th>credit_suisse_count</th>\n",
       "      <th>cs_count</th>\n",
       "      <th>word_count</th>\n",
       "    </tr>\n",
       "  </thead>\n",
       "  <tbody>\n",
       "    <tr>\n",
       "      <th>4</th>\n",
       "      <td>Die Schweizer Banken müssen besser werden</td>\n",
       "      <td>Die Schweizer Banken sind in Geschäftsbereiche...</td>\n",
       "      <td>Die Realität lässt keinen Raum für Zweifel: Di...</td>\n",
       "      <td>2019-01-03 00:00:00+00:00</td>\n",
       "      <td>1</td>\n",
       "      <td>5</td>\n",
       "      <td>1160</td>\n",
       "    </tr>\n",
       "    <tr>\n",
       "      <th>5</th>\n",
       "      <td>Die USA klagen in der Moçambique-Affäre drei ...</td>\n",
       "      <td>Bisher sind fünf Individuen im Zusammenhang mi...</td>\n",
       "      <td>Am Donnerstag ist in den USA eine Strafklage i...</td>\n",
       "      <td>2019-01-04 00:00:00+00:00</td>\n",
       "      <td>6</td>\n",
       "      <td>6</td>\n",
       "      <td>661</td>\n",
       "    </tr>\n",
       "    <tr>\n",
       "      <th>1</th>\n",
       "      <td>Die Konkurrenz sitzt im Ausland</td>\n",
       "      <td>Der Schweizer Detailhandel ist in zunehmendem ...</td>\n",
       "      <td>Der Schweizer Einzelhandel ist im vergangenen ...</td>\n",
       "      <td>2019-01-08 00:00:00+00:00</td>\n",
       "      <td>1</td>\n",
       "      <td>4</td>\n",
       "      <td>587</td>\n",
       "    </tr>\n",
       "    <tr>\n",
       "      <th>2</th>\n",
       "      <td>Weitere Hürden für Amazon in der Schweiz</td>\n",
       "      <td>Amazon wird laut einer Studie der Credit Suiss...</td>\n",
       "      <td>(awp/sda) · Seit knapp einem Jahr ist Amazon a...</td>\n",
       "      <td>2019-01-08 00:00:00+00:00</td>\n",
       "      <td>3</td>\n",
       "      <td>1</td>\n",
       "      <td>433</td>\n",
       "    </tr>\n",
       "    <tr>\n",
       "      <th>3</th>\n",
       "      <td>Wechselkursentwicklung: Optimistische Prognos...</td>\n",
       "      <td>Mit einer zur Stärke neigenden Heimwährung dro...</td>\n",
       "      <td>In einem exportorientierten Land wie der Schwe...</td>\n",
       "      <td>2019-01-08 00:00:00+00:00</td>\n",
       "      <td>1</td>\n",
       "      <td>2</td>\n",
       "      <td>261</td>\n",
       "    </tr>\n",
       "  </tbody>\n",
       "</table>\n",
       "</div>"
      ]
     },
     "execution_count": 23,
     "metadata": {},
     "output_type": "execute_result"
    }
   ],
   "execution_count": 23
  },
  {
   "cell_type": "code",
   "execution_count": null,
   "id": "f4947067-b617-4757-8c6c-575be1064976",
   "metadata": {},
   "outputs": [],
   "source": []
  },
  {
   "cell_type": "markdown",
   "id": "95092e8a-97fe-45a3-8288-e6ede72fe783",
   "metadata": {},
   "source": [
    "### NZZ UBS DATA"
   ]
  },
  {
   "cell_type": "code",
   "execution_count": null,
   "id": "e404f24a-deb6-4c11-a1df-0ffc44c28bc4",
   "metadata": {},
   "outputs": [],
   "source": []
  },
  {
   "cell_type": "code",
   "execution_count": null,
   "id": "876026b7-ee4a-4902-9007-cf6b7f99faa8",
   "metadata": {},
   "outputs": [],
   "source": []
  },
  {
   "cell_type": "code",
   "id": "87e1e304-2878-44fd-baa3-a17b310aec7d",
   "metadata": {
    "ExecuteTime": {
     "end_time": "2024-05-16T14:45:03.496135Z",
     "start_time": "2024-05-16T14:45:03.483088Z"
    }
   },
   "source": [
    "# import nzz cs data\n",
    "\n",
    "file_paths = [\n",
    "    \"Data/NZZ/nzz_scraped_data_UBS_correction.csv\"\n",
    "]\n",
    "\n",
    "# List to store DataFrames\n",
    "dfs = []\n",
    "\n",
    "# Read each CSV file into a DataFrame and append to the list\n",
    "for file_path in file_paths:\n",
    "    df = pd.read_csv(file_path)\n",
    "    dfs.append(df)\n",
    "\n",
    "# Concatenate all DataFrames into a single DataFrame\n",
    "nzz_data_UBS_merged = pd.concat(dfs, ignore_index=True)"
   ],
   "outputs": [],
   "execution_count": 25
  },
  {
   "cell_type": "code",
   "id": "57cb78f0-72ee-4077-980d-d5a8e1495864",
   "metadata": {
    "ExecuteTime": {
     "end_time": "2024-05-16T14:45:05.876218Z",
     "start_time": "2024-05-16T14:45:05.867798Z"
    }
   },
   "source": [
    "len(nzz_data_UBS_merged)"
   ],
   "outputs": [
    {
     "data": {
      "text/plain": [
       "38"
      ]
     },
     "execution_count": 26,
     "metadata": {},
     "output_type": "execute_result"
    }
   ],
   "execution_count": 26
  },
  {
   "cell_type": "code",
   "id": "b48802e2-6fe9-428c-ab40-67cfbcf838e6",
   "metadata": {
    "ExecuteTime": {
     "end_time": "2024-05-16T14:45:07.763327Z",
     "start_time": "2024-05-16T14:45:07.746496Z"
    }
   },
   "source": [
    "nzz_data_UBS_merged.head()"
   ],
   "outputs": [
    {
     "data": {
      "text/plain": [
       "                                       article_title  \\\n",
       "0   Nachruf auf einen Vielgeschmähten: Einst bewe...   \n",
       "1   Simulation mit begrenzter Realität – Wall-Str...   \n",
       "2   Abschottung des EU-Binnenmarkts: Der Schweize...   \n",
       "3                          Briefing am Mittwochabend   \n",
       "4   Trotz Energiewende: Hersteller von Windrädern...   \n",
       "\n",
       "                                            headline  \\\n",
       "0  Der jahrelange Todeskampf des ehemals wichtigs...   \n",
       "1  Die grössten Finanzinstitute der Wall Street h...   \n",
       "2  Die Kommission wollte die grenzüberschreitende...   \n",
       "3  Alexandre Fasel ist der neue EU-Chefunterhändl...   \n",
       "4  Die Zeit der Zulassungsrekorde bei den Windkra...   \n",
       "\n",
       "                                     article_content   text_date  \n",
       "0  Es ist ein Abgang ohne Fanfaren. Am Freitag ha...  30.06.2023  \n",
       "1  Bankpleiten hin oder her: Glaubt man der ameri...  29.06.2023  \n",
       "2  In der Schweizer Bankenwelt geht es gegenwärti...  29.06.2023  \n",
       "3  Das Wichtigste am Abend: Die Wahl des neuen St...  28.06.2023  \n",
       "4  Je mehr in Europa wegen des Klimawandels um Wi...  28.06.2023  "
      ],
      "text/html": [
       "<div>\n",
       "<style scoped>\n",
       "    .dataframe tbody tr th:only-of-type {\n",
       "        vertical-align: middle;\n",
       "    }\n",
       "\n",
       "    .dataframe tbody tr th {\n",
       "        vertical-align: top;\n",
       "    }\n",
       "\n",
       "    .dataframe thead th {\n",
       "        text-align: right;\n",
       "    }\n",
       "</style>\n",
       "<table border=\"1\" class=\"dataframe\">\n",
       "  <thead>\n",
       "    <tr style=\"text-align: right;\">\n",
       "      <th></th>\n",
       "      <th>article_title</th>\n",
       "      <th>headline</th>\n",
       "      <th>article_content</th>\n",
       "      <th>text_date</th>\n",
       "    </tr>\n",
       "  </thead>\n",
       "  <tbody>\n",
       "    <tr>\n",
       "      <th>0</th>\n",
       "      <td>Nachruf auf einen Vielgeschmähten: Einst bewe...</td>\n",
       "      <td>Der jahrelange Todeskampf des ehemals wichtigs...</td>\n",
       "      <td>Es ist ein Abgang ohne Fanfaren. Am Freitag ha...</td>\n",
       "      <td>30.06.2023</td>\n",
       "    </tr>\n",
       "    <tr>\n",
       "      <th>1</th>\n",
       "      <td>Simulation mit begrenzter Realität – Wall-Str...</td>\n",
       "      <td>Die grössten Finanzinstitute der Wall Street h...</td>\n",
       "      <td>Bankpleiten hin oder her: Glaubt man der ameri...</td>\n",
       "      <td>29.06.2023</td>\n",
       "    </tr>\n",
       "    <tr>\n",
       "      <th>2</th>\n",
       "      <td>Abschottung des EU-Binnenmarkts: Der Schweize...</td>\n",
       "      <td>Die Kommission wollte die grenzüberschreitende...</td>\n",
       "      <td>In der Schweizer Bankenwelt geht es gegenwärti...</td>\n",
       "      <td>29.06.2023</td>\n",
       "    </tr>\n",
       "    <tr>\n",
       "      <th>3</th>\n",
       "      <td>Briefing am Mittwochabend</td>\n",
       "      <td>Alexandre Fasel ist der neue EU-Chefunterhändl...</td>\n",
       "      <td>Das Wichtigste am Abend: Die Wahl des neuen St...</td>\n",
       "      <td>28.06.2023</td>\n",
       "    </tr>\n",
       "    <tr>\n",
       "      <th>4</th>\n",
       "      <td>Trotz Energiewende: Hersteller von Windrädern...</td>\n",
       "      <td>Die Zeit der Zulassungsrekorde bei den Windkra...</td>\n",
       "      <td>Je mehr in Europa wegen des Klimawandels um Wi...</td>\n",
       "      <td>28.06.2023</td>\n",
       "    </tr>\n",
       "  </tbody>\n",
       "</table>\n",
       "</div>"
      ]
     },
     "execution_count": 27,
     "metadata": {},
     "output_type": "execute_result"
    }
   ],
   "execution_count": 27
  },
  {
   "cell_type": "code",
   "id": "540930b8-a07c-41b4-a5c5-916012b3d299",
   "metadata": {
    "ExecuteTime": {
     "end_time": "2024-05-16T14:45:12.557014Z",
     "start_time": "2024-05-16T14:45:12.543918Z"
    }
   },
   "source": [
    "# Check for duplicates in the merged DataFrame, keeping all occurrences\n",
    "all_occurrences_indices = nzz_data_UBS_merged[nzz_data_UBS_merged.duplicated(keep=False)].index\n",
    "\n",
    "# Display the indices of all occurrences of duplicate rows\n",
    "print(\"Indices of All Occurrences of Duplicate Rows:\")\n",
    "print(all_occurrences_indices)"
   ],
   "outputs": [
    {
     "name": "stdout",
     "output_type": "stream",
     "text": [
      "Indices of All Occurrences of Duplicate Rows:\n",
      "Index([], dtype='int64')\n"
     ]
    }
   ],
   "execution_count": 28
  },
  {
   "cell_type": "code",
   "id": "cee417d6-a2f2-4a71-ae20-57270109abb0",
   "metadata": {
    "ExecuteTime": {
     "end_time": "2024-05-16T15:08:02.414503Z",
     "start_time": "2024-05-16T15:08:02.409558Z"
    }
   },
   "source": [
    "duplicate_indices_specific_columns = nzz_data_UBS_merged[nzz_data_UBS_merged.duplicated(subset=['headline'], keep=False)].index\n",
    "print(\"Indices of Duplicate Rows Based on Specific Columns:\")\n",
    "print(duplicate_indices_specific_columns)"
   ],
   "outputs": [
    {
     "name": "stdout",
     "output_type": "stream",
     "text": [
      "Indices of Duplicate Rows Based on Specific Columns:\n",
      "Index([], dtype='int64')\n"
     ]
    }
   ],
   "execution_count": 43
  },
  {
   "cell_type": "code",
   "id": "25c50bc5-5db9-4308-815d-6c02ddf52a23",
   "metadata": {
    "ExecuteTime": {
     "end_time": "2024-05-16T14:45:16.904862Z",
     "start_time": "2024-05-16T14:45:16.895543Z"
    }
   },
   "source": [
    "# Remove duplicate rows based on specific columns\n",
    "nzz_data_UBS_merged_no_dups = nzz_data_UBS_merged.drop_duplicates(subset=['article_content'], keep='first')"
   ],
   "outputs": [],
   "execution_count": 30
  },
  {
   "cell_type": "code",
   "id": "682267e4-46cc-4a80-b70c-e18f1d58f39f",
   "metadata": {
    "ExecuteTime": {
     "end_time": "2024-05-16T14:45:18.280586Z",
     "start_time": "2024-05-16T14:45:18.274914Z"
    }
   },
   "source": [
    "print(len(nzz_data_UBS_merged_no_dups))\n",
    "print(len(nzz_data_UBS_merged))"
   ],
   "outputs": [
    {
     "name": "stdout",
     "output_type": "stream",
     "text": [
      "38\n",
      "38\n"
     ]
    }
   ],
   "execution_count": 31
  },
  {
   "cell_type": "code",
   "execution_count": 81,
   "id": "07722af6-9180-46cc-9d98-e4a4ebf53587",
   "metadata": {},
   "outputs": [],
   "source": [
    "#nzz_data_UBS_merged.loc[2360, \"article_content\"]"
   ]
  },
  {
   "cell_type": "code",
   "id": "78d72257-cb21-41a5-a6f5-f499b43feee9",
   "metadata": {
    "ExecuteTime": {
     "end_time": "2024-05-16T14:46:33.402722Z",
     "start_time": "2024-05-16T14:46:33.394845Z"
    }
   },
   "source": [
    "# Create a copy of the DataFrame\n",
    "nzz_data_UBS_merged_no_dups_copy = nzz_data_UBS_merged_no_dups.copy()\n",
    "\n",
    "# Convert 'text_date' column to datetime type, considering timezone information and specifying the date format\n",
    "nzz_data_UBS_merged_no_dups_copy['text_date'] = pd.to_datetime(nzz_data_UBS_merged_no_dups_copy['text_date'], utc=True, format='%d.%m.%Y', errors='coerce')\n",
    "\n",
    "# Define the start and end dates of the desired range\n",
    "start_date = pd.Timestamp('2019-01-01', tz='UTC')\n",
    "end_date = pd.Timestamp('2023-06-30', tz='UTC')\n",
    "\n",
    "# Filter the DataFrame to include only articles within the specified date range\n",
    "filtered_df_nzz_ubs = nzz_data_UBS_merged_no_dups_copy[(nzz_data_UBS_merged_no_dups_copy['text_date'] >= start_date) & (nzz_data_UBS_merged_no_dups_copy['text_date'] <= end_date)]\n"
   ],
   "outputs": [],
   "execution_count": 32
  },
  {
   "cell_type": "code",
   "id": "33ff0bf5-8954-4b2d-9fd5-c0ae9fe3925a",
   "metadata": {
    "ExecuteTime": {
     "end_time": "2024-05-16T14:46:35.221460Z",
     "start_time": "2024-05-16T14:46:35.207875Z"
    }
   },
   "source": [
    "len(filtered_df_nzz_ubs)"
   ],
   "outputs": [
    {
     "data": {
      "text/plain": [
       "38"
      ]
     },
     "execution_count": 33,
     "metadata": {},
     "output_type": "execute_result"
    }
   ],
   "execution_count": 33
  },
  {
   "cell_type": "markdown",
   "id": "79647d17-31d7-494a-bb01-b924244d217c",
   "metadata": {},
   "source": [
    "#### filter by relevancy"
   ]
  },
  {
   "cell_type": "markdown",
   "id": "5841211d-65a2-41a8-a936-091822bbb3e8",
   "metadata": {},
   "source": [
    "##### old code"
   ]
  },
  {
   "cell_type": "code",
   "execution_count": 49,
   "id": "55c19d0d-dc8e-44f3-9500-7c50b20b9f37",
   "metadata": {},
   "outputs": [],
   "source": [
    "# Create a copy of the filtered DataFrame\n",
    "#filtered_df_nzz_ubs_copy = filtered_df_nzz_ubs.copy()\n",
    "\n",
    "# Count the occurrences of the phrases 'Credit Suisse' and 'CS' in each article's content in the copied DataFrame\n",
    "#filtered_df_nzz_ubs_copy['UBS_count'] = filtered_df_nzz_ubs_copy['article_content'].str.count('UBS')\n",
    "\n",
    "# Filter articles containing 'Credit Suisse' at least twice in their content\n",
    "#nzz_UBS_articles = filtered_df_nzz_ubs_copy[filtered_df_nzz_ubs_copy['UBS_count'] >= 2]"
   ]
  },
  {
   "cell_type": "markdown",
   "id": "b71b37f1-cfcd-4a9d-aa6e-b94cfa833b04",
   "metadata": {},
   "source": [
    "##### new code"
   ]
  },
  {
   "cell_type": "code",
   "id": "3223f3ff-8d56-47b6-8d8b-7587abf6fbd5",
   "metadata": {
    "ExecuteTime": {
     "end_time": "2024-05-16T14:46:38.055628Z",
     "start_time": "2024-05-16T14:46:38.043032Z"
    }
   },
   "source": [
    "# Create a copy of the filtered DataFrame\n",
    "filtered_df_nzz_ubs_copy = filtered_df_nzz_ubs.copy()\n",
    "\n",
    "# Count the occurrences of the phrases 'Credit Suisse' and 'CS' in each article's content in the copied DataFrame\n",
    "def count_ubs(text):\n",
    "    return len(re.findall(r'(?<![a-zA-Z])UBS(?![a-zA-Z])', text))\n",
    "filtered_df_nzz_ubs_copy['UBS_count'] = filtered_df_nzz_ubs_copy['article_content'].apply(count_ubs)\n",
    "\n",
    "# Filter articles containing 'Credit Suisse' at least twice in their content\n",
    "nzz_UBS_articles = filtered_df_nzz_ubs_copy[filtered_df_nzz_ubs_copy['UBS_count'] >= 2]"
   ],
   "outputs": [],
   "execution_count": 34
  },
  {
   "cell_type": "code",
   "execution_count": 91,
   "id": "8304a8b0-046e-4dcf-9465-055d026fb919",
   "metadata": {},
   "outputs": [],
   "source": [
    "# Export the sorted DataFrame to a CSV file\n",
    "#filtered_df_nzz_ubs_copy.to_csv('UBS_NZZ_unfiltered.csv', index=False)"
   ]
  },
  {
   "cell_type": "code",
   "execution_count": 52,
   "id": "d3c1f648-8084-461a-8b61-59f9c8fa7e76",
   "metadata": {},
   "outputs": [
    {
     "data": {
      "text/plain": [
       "923"
      ]
     },
     "execution_count": 52,
     "metadata": {},
     "output_type": "execute_result"
    }
   ],
   "source": []
  },
  {
   "cell_type": "code",
   "id": "703967e8-e670-4b76-9f8c-dc7c15279de1",
   "metadata": {
    "ExecuteTime": {
     "end_time": "2024-05-16T14:46:41.128617Z",
     "start_time": "2024-05-16T14:46:41.121563Z"
    }
   },
   "source": [
    "len(nzz_UBS_articles)"
   ],
   "outputs": [
    {
     "data": {
      "text/plain": [
       "18"
      ]
     },
     "execution_count": 35,
     "metadata": {},
     "output_type": "execute_result"
    }
   ],
   "execution_count": 35
  },
  {
   "cell_type": "code",
   "id": "f5d7b8a5-95ae-48d7-90ab-45c5ee69b700",
   "metadata": {
    "ExecuteTime": {
     "end_time": "2024-05-16T14:46:57.335205Z",
     "start_time": "2024-05-16T14:46:57.316091Z"
    }
   },
   "source": [
    "# Calculate the word count for each article in the credit_suisse_articles DataFrame\n",
    "nzz_UBS_articles.loc[:, 'word_count'] = nzz_UBS_articles['article_content'].str.split().apply(len)"
   ],
   "outputs": [],
   "execution_count": 37
  },
  {
   "cell_type": "code",
   "execution_count": 66,
   "id": "7541fbd4-8c66-43e2-9263-7b9d992977cd",
   "metadata": {},
   "outputs": [],
   "source": [
    "# List of article titles to exclude\n",
    "#exclude_titles = [\n",
    "#    \" Briefing am Montagmorgen\",\n",
    "    \" Briefing am Montagabend\",\n",
    "    \" Briefing am Dienstagmorgen\",\n",
    "    \" Briefing am Dienstagabend\",\n",
    "    \" Briefing am Mittwochmorgen\",\n",
    "    \" Briefing am Mittwochabend\",\n",
    "    \" Briefing am Donnerstagmorgen\",\n",
    "    \" Briefing am Donnerstagabend\",\n",
    "    \" Briefing am Freitagmorgen\",\n",
    "    \" Briefing am Freitagabend\",\n",
    "    \" Briefing am Wochenende\",\n",
    "    \" Briefing\"\n",
    "]\n",
    "\n",
    "# Filter the DataFrame to exclude articles with specified titles\n",
    "#nzz_UBS_articles_no_briefing = nzz_UBS_articles[~nzz_UBS_articles['article_title'].isin(exclude_titles)]"
   ]
  },
  {
   "cell_type": "code",
   "id": "f94c518f-bc04-4b56-b523-730a4e620b68",
   "metadata": {
    "ExecuteTime": {
     "end_time": "2024-05-16T14:47:02.348735Z",
     "start_time": "2024-05-16T14:47:02.344852Z"
    }
   },
   "source": [
    "# Sort the articles by date in ascending order\n",
    "nzz_UBS_articles_sorted = nzz_UBS_articles.sort_values(by='text_date')"
   ],
   "outputs": [],
   "execution_count": 38
  },
  {
   "cell_type": "code",
   "id": "2f1a022a-f369-4903-b7fb-dc4d133c6b15",
   "metadata": {
    "ExecuteTime": {
     "end_time": "2024-05-16T14:47:06.040087Z",
     "start_time": "2024-05-16T14:47:06.034947Z"
    }
   },
   "source": [
    "# remove over 5k words\n",
    "# Filter out articles with a word count higher than 5000\n",
    "nzz_UBS_articles_sorted = nzz_UBS_articles_sorted[nzz_UBS_articles_sorted['word_count'] <= 5000]"
   ],
   "outputs": [],
   "execution_count": 39
  },
  {
   "cell_type": "code",
   "id": "64e80b24-7914-40f7-8097-7a421a1d8811",
   "metadata": {
    "ExecuteTime": {
     "end_time": "2024-05-16T14:47:12.624419Z",
     "start_time": "2024-05-16T14:47:12.610218Z"
    }
   },
   "source": [
    "# Export the sorted DataFrame to a CSV file\n",
    "nzz_UBS_articles_sorted.to_csv('Prepped_Data/UBS_NZZ_prepped_correction.csv', index=False)"
   ],
   "outputs": [],
   "execution_count": 40
  },
  {
   "cell_type": "code",
   "id": "7bc0ca33-5a1d-4246-8845-89dcbb67111b",
   "metadata": {
    "ExecuteTime": {
     "end_time": "2024-05-16T14:47:21.049487Z",
     "start_time": "2024-05-16T14:47:21.043604Z"
    }
   },
   "source": [
    "len(nzz_UBS_articles_sorted)"
   ],
   "outputs": [
    {
     "data": {
      "text/plain": [
       "18"
      ]
     },
     "execution_count": 41,
     "metadata": {},
     "output_type": "execute_result"
    }
   ],
   "execution_count": 41
  },
  {
   "cell_type": "code",
   "id": "09d0f32b-4761-4267-a0d0-ef73d66b848a",
   "metadata": {
    "ExecuteTime": {
     "end_time": "2024-05-16T14:49:46.440412Z",
     "start_time": "2024-05-16T14:49:46.425587Z"
    }
   },
   "source": "nzz_UBS_articles_sorted",
   "outputs": [
    {
     "data": {
      "text/plain": [
       "                                        article_title  \\\n",
       "35   Plötzlich weg: Zehn Jahre lang hat Bracken Da...   \n",
       "32   Die Finma hat den Auftrag, Bankenkrisen zu ve...   \n",
       "34   Beisshemmung, miserable Kommunikation, falsch...   \n",
       "27   Nicht nur die PUK – auch die UBS sollte Ursac...   \n",
       "26         Gegenwind in den USA, Rückenwind in Europa   \n",
       "25   Die Rolle von Ulrich Körner wirft Fragen auf:...   \n",
       "24   Die Rolle von Ulrich Körner wirft Fragen auf:...   \n",
       "21   Wie geht es weiter mit der Inflation in der S...   \n",
       "20   Privatbanken-Poker: Wer wird die Nummer zwei ...   \n",
       "19   Nach dem CS-Debakel blüht der Markt für AT1-A...   \n",
       "18   Lehren aus dem Fall der Credit Suisse: Nation...   \n",
       "17   Trotz einer weiteren Leitzinserhöhung: Am Sch...   \n",
       "11   Der Schweizer Finanzplatz ist für reiche Ausl...   \n",
       "10   US-Anwälte schiessen sich auf die gescheitert...   \n",
       "7    Grosser Jobabbau bei der Credit Suisse: Vier ...   \n",
       "5    Frisch fusioniert, muss der schweizerisch-nie...   \n",
       "3                           Briefing am Mittwochabend   \n",
       "1    Simulation mit begrenzter Realität – Wall-Str...   \n",
       "\n",
       "                                             headline  \\\n",
       "35  Unter seiner Führung ist Logitech mehr als dop...   \n",
       "32  Die Fixierung der Finanzmarktaufseher auf regu...   \n",
       "34  Die Aufsichtsbehörde konnte den immer schnelle...   \n",
       "27  Es wäre ein starkes Signal, wenn er den UBS-Ve...   \n",
       "26  Der Chef von Bitcoin Suisse erklärt, was die K...   \n",
       "25  Am Montag hat die UBS die CS geschluckt. Frühm...   \n",
       "24  Am Montag hat die UBS die CS geschluckt. Frühm...   \n",
       "21  Die Schweizerische Nationalbank (SNB) gibt die...   \n",
       "20  Die Übernahme der Credit Suisse hat Diskussion...   \n",
       "19  Die umstrittene Abschreibung nachrangiger Bond...   \n",
       "18  In ihrem Finanzstabilitätsbericht zieht die Sc...   \n",
       "17  Mit der jüngsten Leitzinserhöhung der Schweize...   \n",
       "11  Die geopolitischen Probleme konnten dem Finanz...   \n",
       "10  Eine in New York eingereichte Sammelklage nimm...   \n",
       "7   Bei der CS könnten bis zur Hälfte der Stellen ...   \n",
       "5   Kaum gestartet, läuft es DSM-Firmenich miserab...   \n",
       "3   Alexandre Fasel ist der neue EU-Chefunterhändl...   \n",
       "1   Die grössten Finanzinstitute der Wall Street h...   \n",
       "\n",
       "                                      article_content  \\\n",
       "35  «Ich mache das hier, solange es Sinn ergibt. U...   \n",
       "32  Immer wieder hat die Eidgenössische Finanzmark...   \n",
       "34  Dreissig Jahre an der Wall Street brühen ab. D...   \n",
       "27  Wenn sich Bankenkrisen ereignen, nehmen die Fa...   \n",
       "26  Es ist eine Kriegserklärung an die Kryptobranc...   \n",
       "25  Die UBS gibt bei der CS den Tarif durch. Am Mo...   \n",
       "24  Am Montag wurde die Übernahme der CS durch die...   \n",
       "21  Mit Sicherheit weiss man das zwar nie. Doch un...   \n",
       "20  Die Tränen, die am Schweizer Finanzplatz wegen...   \n",
       "19  Die Credit Suisse ist seit vergangener Woche T...   \n",
       "18  Laut dem Nationalbankgesetz muss die Schweizer...   \n",
       "17  Für Eigenheimbesitzer und Leute, die es werden...   \n",
       "11  Auf den ersten Blick wirkt es nicht so schlimm...   \n",
       "10  Die juristische Aufarbeitung des Niedergangs d...   \n",
       "7   Es ist die Zeit der grossen Unsicherheit bei d...   \n",
       "5   Den Start als fusioniertes Unternehmen dürfte ...   \n",
       "3   Das Wichtigste am Abend: Die Wahl des neuen St...   \n",
       "1   Bankpleiten hin oder her: Glaubt man der ameri...   \n",
       "\n",
       "                   text_date  UBS_count  word_count  \n",
       "35 2023-06-14 00:00:00+00:00          2         652  \n",
       "32 2023-06-15 00:00:00+00:00          6         565  \n",
       "34 2023-06-15 00:00:00+00:00          3        1690  \n",
       "27 2023-06-17 00:00:00+00:00          8         659  \n",
       "26 2023-06-17 00:00:00+00:00          2        1076  \n",
       "25 2023-06-17 00:00:00+00:00         27        1415  \n",
       "24 2023-06-17 00:00:00+00:00         27        1411  \n",
       "21 2023-06-21 00:00:00+00:00          3         781  \n",
       "20 2023-06-21 00:00:00+00:00          3        1035  \n",
       "19 2023-06-22 00:00:00+00:00         10         899  \n",
       "18 2023-06-22 00:00:00+00:00          3        1008  \n",
       "17 2023-06-23 00:00:00+00:00          2         753  \n",
       "11 2023-06-27 00:00:00+00:00          3        1013  \n",
       "10 2023-06-28 00:00:00+00:00          6        1118  \n",
       "7  2023-06-28 00:00:00+00:00          9         395  \n",
       "5  2023-06-28 00:00:00+00:00          2         662  \n",
       "3  2023-06-28 00:00:00+00:00          5         773  \n",
       "1  2023-06-29 00:00:00+00:00          3         781  "
      ],
      "text/html": [
       "<div>\n",
       "<style scoped>\n",
       "    .dataframe tbody tr th:only-of-type {\n",
       "        vertical-align: middle;\n",
       "    }\n",
       "\n",
       "    .dataframe tbody tr th {\n",
       "        vertical-align: top;\n",
       "    }\n",
       "\n",
       "    .dataframe thead th {\n",
       "        text-align: right;\n",
       "    }\n",
       "</style>\n",
       "<table border=\"1\" class=\"dataframe\">\n",
       "  <thead>\n",
       "    <tr style=\"text-align: right;\">\n",
       "      <th></th>\n",
       "      <th>article_title</th>\n",
       "      <th>headline</th>\n",
       "      <th>article_content</th>\n",
       "      <th>text_date</th>\n",
       "      <th>UBS_count</th>\n",
       "      <th>word_count</th>\n",
       "    </tr>\n",
       "  </thead>\n",
       "  <tbody>\n",
       "    <tr>\n",
       "      <th>35</th>\n",
       "      <td>Plötzlich weg: Zehn Jahre lang hat Bracken Da...</td>\n",
       "      <td>Unter seiner Führung ist Logitech mehr als dop...</td>\n",
       "      <td>«Ich mache das hier, solange es Sinn ergibt. U...</td>\n",
       "      <td>2023-06-14 00:00:00+00:00</td>\n",
       "      <td>2</td>\n",
       "      <td>652</td>\n",
       "    </tr>\n",
       "    <tr>\n",
       "      <th>32</th>\n",
       "      <td>Die Finma hat den Auftrag, Bankenkrisen zu ve...</td>\n",
       "      <td>Die Fixierung der Finanzmarktaufseher auf regu...</td>\n",
       "      <td>Immer wieder hat die Eidgenössische Finanzmark...</td>\n",
       "      <td>2023-06-15 00:00:00+00:00</td>\n",
       "      <td>6</td>\n",
       "      <td>565</td>\n",
       "    </tr>\n",
       "    <tr>\n",
       "      <th>34</th>\n",
       "      <td>Beisshemmung, miserable Kommunikation, falsch...</td>\n",
       "      <td>Die Aufsichtsbehörde konnte den immer schnelle...</td>\n",
       "      <td>Dreissig Jahre an der Wall Street brühen ab. D...</td>\n",
       "      <td>2023-06-15 00:00:00+00:00</td>\n",
       "      <td>3</td>\n",
       "      <td>1690</td>\n",
       "    </tr>\n",
       "    <tr>\n",
       "      <th>27</th>\n",
       "      <td>Nicht nur die PUK – auch die UBS sollte Ursac...</td>\n",
       "      <td>Es wäre ein starkes Signal, wenn er den UBS-Ve...</td>\n",
       "      <td>Wenn sich Bankenkrisen ereignen, nehmen die Fa...</td>\n",
       "      <td>2023-06-17 00:00:00+00:00</td>\n",
       "      <td>8</td>\n",
       "      <td>659</td>\n",
       "    </tr>\n",
       "    <tr>\n",
       "      <th>26</th>\n",
       "      <td>Gegenwind in den USA, Rückenwind in Europa</td>\n",
       "      <td>Der Chef von Bitcoin Suisse erklärt, was die K...</td>\n",
       "      <td>Es ist eine Kriegserklärung an die Kryptobranc...</td>\n",
       "      <td>2023-06-17 00:00:00+00:00</td>\n",
       "      <td>2</td>\n",
       "      <td>1076</td>\n",
       "    </tr>\n",
       "    <tr>\n",
       "      <th>25</th>\n",
       "      <td>Die Rolle von Ulrich Körner wirft Fragen auf:...</td>\n",
       "      <td>Am Montag hat die UBS die CS geschluckt. Frühm...</td>\n",
       "      <td>Die UBS gibt bei der CS den Tarif durch. Am Mo...</td>\n",
       "      <td>2023-06-17 00:00:00+00:00</td>\n",
       "      <td>27</td>\n",
       "      <td>1415</td>\n",
       "    </tr>\n",
       "    <tr>\n",
       "      <th>24</th>\n",
       "      <td>Die Rolle von Ulrich Körner wirft Fragen auf:...</td>\n",
       "      <td>Am Montag hat die UBS die CS geschluckt. Frühm...</td>\n",
       "      <td>Am Montag wurde die Übernahme der CS durch die...</td>\n",
       "      <td>2023-06-17 00:00:00+00:00</td>\n",
       "      <td>27</td>\n",
       "      <td>1411</td>\n",
       "    </tr>\n",
       "    <tr>\n",
       "      <th>21</th>\n",
       "      <td>Wie geht es weiter mit der Inflation in der S...</td>\n",
       "      <td>Die Schweizerische Nationalbank (SNB) gibt die...</td>\n",
       "      <td>Mit Sicherheit weiss man das zwar nie. Doch un...</td>\n",
       "      <td>2023-06-21 00:00:00+00:00</td>\n",
       "      <td>3</td>\n",
       "      <td>781</td>\n",
       "    </tr>\n",
       "    <tr>\n",
       "      <th>20</th>\n",
       "      <td>Privatbanken-Poker: Wer wird die Nummer zwei ...</td>\n",
       "      <td>Die Übernahme der Credit Suisse hat Diskussion...</td>\n",
       "      <td>Die Tränen, die am Schweizer Finanzplatz wegen...</td>\n",
       "      <td>2023-06-21 00:00:00+00:00</td>\n",
       "      <td>3</td>\n",
       "      <td>1035</td>\n",
       "    </tr>\n",
       "    <tr>\n",
       "      <th>19</th>\n",
       "      <td>Nach dem CS-Debakel blüht der Markt für AT1-A...</td>\n",
       "      <td>Die umstrittene Abschreibung nachrangiger Bond...</td>\n",
       "      <td>Die Credit Suisse ist seit vergangener Woche T...</td>\n",
       "      <td>2023-06-22 00:00:00+00:00</td>\n",
       "      <td>10</td>\n",
       "      <td>899</td>\n",
       "    </tr>\n",
       "    <tr>\n",
       "      <th>18</th>\n",
       "      <td>Lehren aus dem Fall der Credit Suisse: Nation...</td>\n",
       "      <td>In ihrem Finanzstabilitätsbericht zieht die Sc...</td>\n",
       "      <td>Laut dem Nationalbankgesetz muss die Schweizer...</td>\n",
       "      <td>2023-06-22 00:00:00+00:00</td>\n",
       "      <td>3</td>\n",
       "      <td>1008</td>\n",
       "    </tr>\n",
       "    <tr>\n",
       "      <th>17</th>\n",
       "      <td>Trotz einer weiteren Leitzinserhöhung: Am Sch...</td>\n",
       "      <td>Mit der jüngsten Leitzinserhöhung der Schweize...</td>\n",
       "      <td>Für Eigenheimbesitzer und Leute, die es werden...</td>\n",
       "      <td>2023-06-23 00:00:00+00:00</td>\n",
       "      <td>2</td>\n",
       "      <td>753</td>\n",
       "    </tr>\n",
       "    <tr>\n",
       "      <th>11</th>\n",
       "      <td>Der Schweizer Finanzplatz ist für reiche Ausl...</td>\n",
       "      <td>Die geopolitischen Probleme konnten dem Finanz...</td>\n",
       "      <td>Auf den ersten Blick wirkt es nicht so schlimm...</td>\n",
       "      <td>2023-06-27 00:00:00+00:00</td>\n",
       "      <td>3</td>\n",
       "      <td>1013</td>\n",
       "    </tr>\n",
       "    <tr>\n",
       "      <th>10</th>\n",
       "      <td>US-Anwälte schiessen sich auf die gescheitert...</td>\n",
       "      <td>Eine in New York eingereichte Sammelklage nimm...</td>\n",
       "      <td>Die juristische Aufarbeitung des Niedergangs d...</td>\n",
       "      <td>2023-06-28 00:00:00+00:00</td>\n",
       "      <td>6</td>\n",
       "      <td>1118</td>\n",
       "    </tr>\n",
       "    <tr>\n",
       "      <th>7</th>\n",
       "      <td>Grosser Jobabbau bei der Credit Suisse: Vier ...</td>\n",
       "      <td>Bei der CS könnten bis zur Hälfte der Stellen ...</td>\n",
       "      <td>Es ist die Zeit der grossen Unsicherheit bei d...</td>\n",
       "      <td>2023-06-28 00:00:00+00:00</td>\n",
       "      <td>9</td>\n",
       "      <td>395</td>\n",
       "    </tr>\n",
       "    <tr>\n",
       "      <th>5</th>\n",
       "      <td>Frisch fusioniert, muss der schweizerisch-nie...</td>\n",
       "      <td>Kaum gestartet, läuft es DSM-Firmenich miserab...</td>\n",
       "      <td>Den Start als fusioniertes Unternehmen dürfte ...</td>\n",
       "      <td>2023-06-28 00:00:00+00:00</td>\n",
       "      <td>2</td>\n",
       "      <td>662</td>\n",
       "    </tr>\n",
       "    <tr>\n",
       "      <th>3</th>\n",
       "      <td>Briefing am Mittwochabend</td>\n",
       "      <td>Alexandre Fasel ist der neue EU-Chefunterhändl...</td>\n",
       "      <td>Das Wichtigste am Abend: Die Wahl des neuen St...</td>\n",
       "      <td>2023-06-28 00:00:00+00:00</td>\n",
       "      <td>5</td>\n",
       "      <td>773</td>\n",
       "    </tr>\n",
       "    <tr>\n",
       "      <th>1</th>\n",
       "      <td>Simulation mit begrenzter Realität – Wall-Str...</td>\n",
       "      <td>Die grössten Finanzinstitute der Wall Street h...</td>\n",
       "      <td>Bankpleiten hin oder her: Glaubt man der ameri...</td>\n",
       "      <td>2023-06-29 00:00:00+00:00</td>\n",
       "      <td>3</td>\n",
       "      <td>781</td>\n",
       "    </tr>\n",
       "  </tbody>\n",
       "</table>\n",
       "</div>"
      ]
     },
     "execution_count": 42,
     "metadata": {},
     "output_type": "execute_result"
    }
   ],
   "execution_count": 42
  },
  {
   "cell_type": "code",
   "execution_count": 93,
   "id": "24508dc3-539d-401e-8192-bcddffeddcc8",
   "metadata": {},
   "outputs": [],
   "source": []
  },
  {
   "cell_type": "code",
   "execution_count": 94,
   "id": "dbe1a34b-cec8-4be3-b013-cd7f67156b8a",
   "metadata": {},
   "outputs": [
    {
     "data": {
      "text/plain": [
       "848"
      ]
     },
     "execution_count": 94,
     "metadata": {},
     "output_type": "execute_result"
    }
   ],
   "source": []
  },
  {
   "cell_type": "code",
   "execution_count": null,
   "id": "e78b39f0-353e-455c-8d37-6ed5f91d9455",
   "metadata": {},
   "outputs": [],
   "source": []
  },
  {
   "cell_type": "code",
   "execution_count": null,
   "id": "a1ce396a-1b72-4c4a-add9-fcb589904781",
   "metadata": {},
   "outputs": [],
   "source": []
  }
 ],
 "metadata": {
  "kernelspec": {
   "display_name": "Python 3 (ipykernel)",
   "language": "python",
   "name": "python3"
  },
  "language_info": {
   "codemirror_mode": {
    "name": "ipython",
    "version": 3
   },
   "file_extension": ".py",
   "mimetype": "text/x-python",
   "name": "python",
   "nbconvert_exporter": "python",
   "pygments_lexer": "ipython3",
   "version": "3.12.2"
  }
 },
 "nbformat": 4,
 "nbformat_minor": 5
}
